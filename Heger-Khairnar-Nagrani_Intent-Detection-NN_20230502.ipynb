{
 "nbformat": 4,
 "nbformat_minor": 0,
 "metadata": {
  "colab": {
   "provenance": [],
   "machine_shape": "hm"
  },
  "kernelspec": {
   "name": "python3",
   "display_name": "Python 3"
  },
  "language_info": {
   "name": "python"
  },
  "accelerator": "GPU",
  "gpuClass": "premium",
  "widgets": {
   "application/vnd.jupyter.widget-state+json": {
    "972b475980ad41198d599c4fafe94305": {
     "model_module": "@jupyter-widgets/controls",
     "model_name": "HBoxModel",
     "model_module_version": "1.5.0",
     "state": {
      "_dom_classes": [],
      "_model_module": "@jupyter-widgets/controls",
      "_model_module_version": "1.5.0",
      "_model_name": "HBoxModel",
      "_view_count": null,
      "_view_module": "@jupyter-widgets/controls",
      "_view_module_version": "1.5.0",
      "_view_name": "HBoxView",
      "box_style": "",
      "children": [
       "IPY_MODEL_dac12789236d45baa52d9c6afd15e01e",
       "IPY_MODEL_823b96e87f8441cc92b6e017fb89fdf6",
       "IPY_MODEL_129ef2beafee41e08afd46eb146abbf0"
      ],
      "layout": "IPY_MODEL_c16899f94b5d43c8b0421370c9ee0f50"
     }
    },
    "dac12789236d45baa52d9c6afd15e01e": {
     "model_module": "@jupyter-widgets/controls",
     "model_name": "HTMLModel",
     "model_module_version": "1.5.0",
     "state": {
      "_dom_classes": [],
      "_model_module": "@jupyter-widgets/controls",
      "_model_module_version": "1.5.0",
      "_model_name": "HTMLModel",
      "_view_count": null,
      "_view_module": "@jupyter-widgets/controls",
      "_view_module_version": "1.5.0",
      "_view_name": "HTMLView",
      "description": "",
      "description_tooltip": null,
      "layout": "IPY_MODEL_eaba8c0008a14ee2ac072459b3174f04",
      "placeholder": "​",
      "style": "IPY_MODEL_441b11a90c184f2080baf5e8cb3b3725",
      "value": "Downloading (…)solve/main/vocab.txt: 100%"
     }
    },
    "823b96e87f8441cc92b6e017fb89fdf6": {
     "model_module": "@jupyter-widgets/controls",
     "model_name": "FloatProgressModel",
     "model_module_version": "1.5.0",
     "state": {
      "_dom_classes": [],
      "_model_module": "@jupyter-widgets/controls",
      "_model_module_version": "1.5.0",
      "_model_name": "FloatProgressModel",
      "_view_count": null,
      "_view_module": "@jupyter-widgets/controls",
      "_view_module_version": "1.5.0",
      "_view_name": "ProgressView",
      "bar_style": "success",
      "description": "",
      "description_tooltip": null,
      "layout": "IPY_MODEL_6607c6897fa64d568204f89291ae012e",
      "max": 213450,
      "min": 0,
      "orientation": "horizontal",
      "style": "IPY_MODEL_3ae68ec403da4c59aa417448ea947d78",
      "value": 213450
     }
    },
    "129ef2beafee41e08afd46eb146abbf0": {
     "model_module": "@jupyter-widgets/controls",
     "model_name": "HTMLModel",
     "model_module_version": "1.5.0",
     "state": {
      "_dom_classes": [],
      "_model_module": "@jupyter-widgets/controls",
      "_model_module_version": "1.5.0",
      "_model_name": "HTMLModel",
      "_view_count": null,
      "_view_module": "@jupyter-widgets/controls",
      "_view_module_version": "1.5.0",
      "_view_name": "HTMLView",
      "description": "",
      "description_tooltip": null,
      "layout": "IPY_MODEL_7a978e28cb5e49eb94ea115eb16826ca",
      "placeholder": "​",
      "style": "IPY_MODEL_1311f357a6e146a9bc5187fe7b177e5b",
      "value": " 213k/213k [00:00&lt;00:00, 1.31MB/s]"
     }
    },
    "c16899f94b5d43c8b0421370c9ee0f50": {
     "model_module": "@jupyter-widgets/base",
     "model_name": "LayoutModel",
     "model_module_version": "1.2.0",
     "state": {
      "_model_module": "@jupyter-widgets/base",
      "_model_module_version": "1.2.0",
      "_model_name": "LayoutModel",
      "_view_count": null,
      "_view_module": "@jupyter-widgets/base",
      "_view_module_version": "1.2.0",
      "_view_name": "LayoutView",
      "align_content": null,
      "align_items": null,
      "align_self": null,
      "border": null,
      "bottom": null,
      "display": null,
      "flex": null,
      "flex_flow": null,
      "grid_area": null,
      "grid_auto_columns": null,
      "grid_auto_flow": null,
      "grid_auto_rows": null,
      "grid_column": null,
      "grid_gap": null,
      "grid_row": null,
      "grid_template_areas": null,
      "grid_template_columns": null,
      "grid_template_rows": null,
      "height": null,
      "justify_content": null,
      "justify_items": null,
      "left": null,
      "margin": null,
      "max_height": null,
      "max_width": null,
      "min_height": null,
      "min_width": null,
      "object_fit": null,
      "object_position": null,
      "order": null,
      "overflow": null,
      "overflow_x": null,
      "overflow_y": null,
      "padding": null,
      "right": null,
      "top": null,
      "visibility": null,
      "width": null
     }
    },
    "eaba8c0008a14ee2ac072459b3174f04": {
     "model_module": "@jupyter-widgets/base",
     "model_name": "LayoutModel",
     "model_module_version": "1.2.0",
     "state": {
      "_model_module": "@jupyter-widgets/base",
      "_model_module_version": "1.2.0",
      "_model_name": "LayoutModel",
      "_view_count": null,
      "_view_module": "@jupyter-widgets/base",
      "_view_module_version": "1.2.0",
      "_view_name": "LayoutView",
      "align_content": null,
      "align_items": null,
      "align_self": null,
      "border": null,
      "bottom": null,
      "display": null,
      "flex": null,
      "flex_flow": null,
      "grid_area": null,
      "grid_auto_columns": null,
      "grid_auto_flow": null,
      "grid_auto_rows": null,
      "grid_column": null,
      "grid_gap": null,
      "grid_row": null,
      "grid_template_areas": null,
      "grid_template_columns": null,
      "grid_template_rows": null,
      "height": null,
      "justify_content": null,
      "justify_items": null,
      "left": null,
      "margin": null,
      "max_height": null,
      "max_width": null,
      "min_height": null,
      "min_width": null,
      "object_fit": null,
      "object_position": null,
      "order": null,
      "overflow": null,
      "overflow_x": null,
      "overflow_y": null,
      "padding": null,
      "right": null,
      "top": null,
      "visibility": null,
      "width": null
     }
    },
    "441b11a90c184f2080baf5e8cb3b3725": {
     "model_module": "@jupyter-widgets/controls",
     "model_name": "DescriptionStyleModel",
     "model_module_version": "1.5.0",
     "state": {
      "_model_module": "@jupyter-widgets/controls",
      "_model_module_version": "1.5.0",
      "_model_name": "DescriptionStyleModel",
      "_view_count": null,
      "_view_module": "@jupyter-widgets/base",
      "_view_module_version": "1.2.0",
      "_view_name": "StyleView",
      "description_width": ""
     }
    },
    "6607c6897fa64d568204f89291ae012e": {
     "model_module": "@jupyter-widgets/base",
     "model_name": "LayoutModel",
     "model_module_version": "1.2.0",
     "state": {
      "_model_module": "@jupyter-widgets/base",
      "_model_module_version": "1.2.0",
      "_model_name": "LayoutModel",
      "_view_count": null,
      "_view_module": "@jupyter-widgets/base",
      "_view_module_version": "1.2.0",
      "_view_name": "LayoutView",
      "align_content": null,
      "align_items": null,
      "align_self": null,
      "border": null,
      "bottom": null,
      "display": null,
      "flex": null,
      "flex_flow": null,
      "grid_area": null,
      "grid_auto_columns": null,
      "grid_auto_flow": null,
      "grid_auto_rows": null,
      "grid_column": null,
      "grid_gap": null,
      "grid_row": null,
      "grid_template_areas": null,
      "grid_template_columns": null,
      "grid_template_rows": null,
      "height": null,
      "justify_content": null,
      "justify_items": null,
      "left": null,
      "margin": null,
      "max_height": null,
      "max_width": null,
      "min_height": null,
      "min_width": null,
      "object_fit": null,
      "object_position": null,
      "order": null,
      "overflow": null,
      "overflow_x": null,
      "overflow_y": null,
      "padding": null,
      "right": null,
      "top": null,
      "visibility": null,
      "width": null
     }
    },
    "3ae68ec403da4c59aa417448ea947d78": {
     "model_module": "@jupyter-widgets/controls",
     "model_name": "ProgressStyleModel",
     "model_module_version": "1.5.0",
     "state": {
      "_model_module": "@jupyter-widgets/controls",
      "_model_module_version": "1.5.0",
      "_model_name": "ProgressStyleModel",
      "_view_count": null,
      "_view_module": "@jupyter-widgets/base",
      "_view_module_version": "1.2.0",
      "_view_name": "StyleView",
      "bar_color": null,
      "description_width": ""
     }
    },
    "7a978e28cb5e49eb94ea115eb16826ca": {
     "model_module": "@jupyter-widgets/base",
     "model_name": "LayoutModel",
     "model_module_version": "1.2.0",
     "state": {
      "_model_module": "@jupyter-widgets/base",
      "_model_module_version": "1.2.0",
      "_model_name": "LayoutModel",
      "_view_count": null,
      "_view_module": "@jupyter-widgets/base",
      "_view_module_version": "1.2.0",
      "_view_name": "LayoutView",
      "align_content": null,
      "align_items": null,
      "align_self": null,
      "border": null,
      "bottom": null,
      "display": null,
      "flex": null,
      "flex_flow": null,
      "grid_area": null,
      "grid_auto_columns": null,
      "grid_auto_flow": null,
      "grid_auto_rows": null,
      "grid_column": null,
      "grid_gap": null,
      "grid_row": null,
      "grid_template_areas": null,
      "grid_template_columns": null,
      "grid_template_rows": null,
      "height": null,
      "justify_content": null,
      "justify_items": null,
      "left": null,
      "margin": null,
      "max_height": null,
      "max_width": null,
      "min_height": null,
      "min_width": null,
      "object_fit": null,
      "object_position": null,
      "order": null,
      "overflow": null,
      "overflow_x": null,
      "overflow_y": null,
      "padding": null,
      "right": null,
      "top": null,
      "visibility": null,
      "width": null
     }
    },
    "1311f357a6e146a9bc5187fe7b177e5b": {
     "model_module": "@jupyter-widgets/controls",
     "model_name": "DescriptionStyleModel",
     "model_module_version": "1.5.0",
     "state": {
      "_model_module": "@jupyter-widgets/controls",
      "_model_module_version": "1.5.0",
      "_model_name": "DescriptionStyleModel",
      "_view_count": null,
      "_view_module": "@jupyter-widgets/base",
      "_view_module_version": "1.2.0",
      "_view_name": "StyleView",
      "description_width": ""
     }
    },
    "2d7fcf84414040adb3d8a61806ed26d7": {
     "model_module": "@jupyter-widgets/controls",
     "model_name": "HBoxModel",
     "model_module_version": "1.5.0",
     "state": {
      "_dom_classes": [],
      "_model_module": "@jupyter-widgets/controls",
      "_model_module_version": "1.5.0",
      "_model_name": "HBoxModel",
      "_view_count": null,
      "_view_module": "@jupyter-widgets/controls",
      "_view_module_version": "1.5.0",
      "_view_name": "HBoxView",
      "box_style": "",
      "children": [
       "IPY_MODEL_0d9a6abe67454097b174d6e4918ac4b0",
       "IPY_MODEL_25543bb8fcf6469ebd151bb086fef894",
       "IPY_MODEL_72709a6a7841438b94a969a7b6b148a4"
      ],
      "layout": "IPY_MODEL_0320e0db01884eafac4e16ccadb7f575"
     }
    },
    "0d9a6abe67454097b174d6e4918ac4b0": {
     "model_module": "@jupyter-widgets/controls",
     "model_name": "HTMLModel",
     "model_module_version": "1.5.0",
     "state": {
      "_dom_classes": [],
      "_model_module": "@jupyter-widgets/controls",
      "_model_module_version": "1.5.0",
      "_model_name": "HTMLModel",
      "_view_count": null,
      "_view_module": "@jupyter-widgets/controls",
      "_view_module_version": "1.5.0",
      "_view_name": "HTMLView",
      "description": "",
      "description_tooltip": null,
      "layout": "IPY_MODEL_684d908f7a0e424f815ce6e6e51d0973",
      "placeholder": "​",
      "style": "IPY_MODEL_9c69f85b19d94461b3e9e932ba770aeb",
      "value": "Downloading (…)okenizer_config.json: 100%"
     }
    },
    "25543bb8fcf6469ebd151bb086fef894": {
     "model_module": "@jupyter-widgets/controls",
     "model_name": "FloatProgressModel",
     "model_module_version": "1.5.0",
     "state": {
      "_dom_classes": [],
      "_model_module": "@jupyter-widgets/controls",
      "_model_module_version": "1.5.0",
      "_model_name": "FloatProgressModel",
      "_view_count": null,
      "_view_module": "@jupyter-widgets/controls",
      "_view_module_version": "1.5.0",
      "_view_name": "ProgressView",
      "bar_style": "success",
      "description": "",
      "description_tooltip": null,
      "layout": "IPY_MODEL_e176e729494844b8b5d7e4f75e211c1b",
      "max": 29,
      "min": 0,
      "orientation": "horizontal",
      "style": "IPY_MODEL_473282bc23654bb2b7f5b7362363fb17",
      "value": 29
     }
    },
    "72709a6a7841438b94a969a7b6b148a4": {
     "model_module": "@jupyter-widgets/controls",
     "model_name": "HTMLModel",
     "model_module_version": "1.5.0",
     "state": {
      "_dom_classes": [],
      "_model_module": "@jupyter-widgets/controls",
      "_model_module_version": "1.5.0",
      "_model_name": "HTMLModel",
      "_view_count": null,
      "_view_module": "@jupyter-widgets/controls",
      "_view_module_version": "1.5.0",
      "_view_name": "HTMLView",
      "description": "",
      "description_tooltip": null,
      "layout": "IPY_MODEL_3e96775110df444f92382f2f43e2a6ae",
      "placeholder": "​",
      "style": "IPY_MODEL_0cdad65f84a6420aad7f0ef4310378c0",
      "value": " 29.0/29.0 [00:00&lt;00:00, 2.29kB/s]"
     }
    },
    "0320e0db01884eafac4e16ccadb7f575": {
     "model_module": "@jupyter-widgets/base",
     "model_name": "LayoutModel",
     "model_module_version": "1.2.0",
     "state": {
      "_model_module": "@jupyter-widgets/base",
      "_model_module_version": "1.2.0",
      "_model_name": "LayoutModel",
      "_view_count": null,
      "_view_module": "@jupyter-widgets/base",
      "_view_module_version": "1.2.0",
      "_view_name": "LayoutView",
      "align_content": null,
      "align_items": null,
      "align_self": null,
      "border": null,
      "bottom": null,
      "display": null,
      "flex": null,
      "flex_flow": null,
      "grid_area": null,
      "grid_auto_columns": null,
      "grid_auto_flow": null,
      "grid_auto_rows": null,
      "grid_column": null,
      "grid_gap": null,
      "grid_row": null,
      "grid_template_areas": null,
      "grid_template_columns": null,
      "grid_template_rows": null,
      "height": null,
      "justify_content": null,
      "justify_items": null,
      "left": null,
      "margin": null,
      "max_height": null,
      "max_width": null,
      "min_height": null,
      "min_width": null,
      "object_fit": null,
      "object_position": null,
      "order": null,
      "overflow": null,
      "overflow_x": null,
      "overflow_y": null,
      "padding": null,
      "right": null,
      "top": null,
      "visibility": null,
      "width": null
     }
    },
    "684d908f7a0e424f815ce6e6e51d0973": {
     "model_module": "@jupyter-widgets/base",
     "model_name": "LayoutModel",
     "model_module_version": "1.2.0",
     "state": {
      "_model_module": "@jupyter-widgets/base",
      "_model_module_version": "1.2.0",
      "_model_name": "LayoutModel",
      "_view_count": null,
      "_view_module": "@jupyter-widgets/base",
      "_view_module_version": "1.2.0",
      "_view_name": "LayoutView",
      "align_content": null,
      "align_items": null,
      "align_self": null,
      "border": null,
      "bottom": null,
      "display": null,
      "flex": null,
      "flex_flow": null,
      "grid_area": null,
      "grid_auto_columns": null,
      "grid_auto_flow": null,
      "grid_auto_rows": null,
      "grid_column": null,
      "grid_gap": null,
      "grid_row": null,
      "grid_template_areas": null,
      "grid_template_columns": null,
      "grid_template_rows": null,
      "height": null,
      "justify_content": null,
      "justify_items": null,
      "left": null,
      "margin": null,
      "max_height": null,
      "max_width": null,
      "min_height": null,
      "min_width": null,
      "object_fit": null,
      "object_position": null,
      "order": null,
      "overflow": null,
      "overflow_x": null,
      "overflow_y": null,
      "padding": null,
      "right": null,
      "top": null,
      "visibility": null,
      "width": null
     }
    },
    "9c69f85b19d94461b3e9e932ba770aeb": {
     "model_module": "@jupyter-widgets/controls",
     "model_name": "DescriptionStyleModel",
     "model_module_version": "1.5.0",
     "state": {
      "_model_module": "@jupyter-widgets/controls",
      "_model_module_version": "1.5.0",
      "_model_name": "DescriptionStyleModel",
      "_view_count": null,
      "_view_module": "@jupyter-widgets/base",
      "_view_module_version": "1.2.0",
      "_view_name": "StyleView",
      "description_width": ""
     }
    },
    "e176e729494844b8b5d7e4f75e211c1b": {
     "model_module": "@jupyter-widgets/base",
     "model_name": "LayoutModel",
     "model_module_version": "1.2.0",
     "state": {
      "_model_module": "@jupyter-widgets/base",
      "_model_module_version": "1.2.0",
      "_model_name": "LayoutModel",
      "_view_count": null,
      "_view_module": "@jupyter-widgets/base",
      "_view_module_version": "1.2.0",
      "_view_name": "LayoutView",
      "align_content": null,
      "align_items": null,
      "align_self": null,
      "border": null,
      "bottom": null,
      "display": null,
      "flex": null,
      "flex_flow": null,
      "grid_area": null,
      "grid_auto_columns": null,
      "grid_auto_flow": null,
      "grid_auto_rows": null,
      "grid_column": null,
      "grid_gap": null,
      "grid_row": null,
      "grid_template_areas": null,
      "grid_template_columns": null,
      "grid_template_rows": null,
      "height": null,
      "justify_content": null,
      "justify_items": null,
      "left": null,
      "margin": null,
      "max_height": null,
      "max_width": null,
      "min_height": null,
      "min_width": null,
      "object_fit": null,
      "object_position": null,
      "order": null,
      "overflow": null,
      "overflow_x": null,
      "overflow_y": null,
      "padding": null,
      "right": null,
      "top": null,
      "visibility": null,
      "width": null
     }
    },
    "473282bc23654bb2b7f5b7362363fb17": {
     "model_module": "@jupyter-widgets/controls",
     "model_name": "ProgressStyleModel",
     "model_module_version": "1.5.0",
     "state": {
      "_model_module": "@jupyter-widgets/controls",
      "_model_module_version": "1.5.0",
      "_model_name": "ProgressStyleModel",
      "_view_count": null,
      "_view_module": "@jupyter-widgets/base",
      "_view_module_version": "1.2.0",
      "_view_name": "StyleView",
      "bar_color": null,
      "description_width": ""
     }
    },
    "3e96775110df444f92382f2f43e2a6ae": {
     "model_module": "@jupyter-widgets/base",
     "model_name": "LayoutModel",
     "model_module_version": "1.2.0",
     "state": {
      "_model_module": "@jupyter-widgets/base",
      "_model_module_version": "1.2.0",
      "_model_name": "LayoutModel",
      "_view_count": null,
      "_view_module": "@jupyter-widgets/base",
      "_view_module_version": "1.2.0",
      "_view_name": "LayoutView",
      "align_content": null,
      "align_items": null,
      "align_self": null,
      "border": null,
      "bottom": null,
      "display": null,
      "flex": null,
      "flex_flow": null,
      "grid_area": null,
      "grid_auto_columns": null,
      "grid_auto_flow": null,
      "grid_auto_rows": null,
      "grid_column": null,
      "grid_gap": null,
      "grid_row": null,
      "grid_template_areas": null,
      "grid_template_columns": null,
      "grid_template_rows": null,
      "height": null,
      "justify_content": null,
      "justify_items": null,
      "left": null,
      "margin": null,
      "max_height": null,
      "max_width": null,
      "min_height": null,
      "min_width": null,
      "object_fit": null,
      "object_position": null,
      "order": null,
      "overflow": null,
      "overflow_x": null,
      "overflow_y": null,
      "padding": null,
      "right": null,
      "top": null,
      "visibility": null,
      "width": null
     }
    },
    "0cdad65f84a6420aad7f0ef4310378c0": {
     "model_module": "@jupyter-widgets/controls",
     "model_name": "DescriptionStyleModel",
     "model_module_version": "1.5.0",
     "state": {
      "_model_module": "@jupyter-widgets/controls",
      "_model_module_version": "1.5.0",
      "_model_name": "DescriptionStyleModel",
      "_view_count": null,
      "_view_module": "@jupyter-widgets/base",
      "_view_module_version": "1.2.0",
      "_view_name": "StyleView",
      "description_width": ""
     }
    },
    "60fbd6d3fe5e40a8a839adbaa8b3d431": {
     "model_module": "@jupyter-widgets/controls",
     "model_name": "HBoxModel",
     "model_module_version": "1.5.0",
     "state": {
      "_dom_classes": [],
      "_model_module": "@jupyter-widgets/controls",
      "_model_module_version": "1.5.0",
      "_model_name": "HBoxModel",
      "_view_count": null,
      "_view_module": "@jupyter-widgets/controls",
      "_view_module_version": "1.5.0",
      "_view_name": "HBoxView",
      "box_style": "",
      "children": [
       "IPY_MODEL_00c34d646e224a629ef8a798c9f39a31",
       "IPY_MODEL_837f16042d274cf78ed22a6013431d7d",
       "IPY_MODEL_2cc6d9191be54b339d6a8e0c2a252e34"
      ],
      "layout": "IPY_MODEL_f95021b6fdc54446b691b0c4271228c6"
     }
    },
    "00c34d646e224a629ef8a798c9f39a31": {
     "model_module": "@jupyter-widgets/controls",
     "model_name": "HTMLModel",
     "model_module_version": "1.5.0",
     "state": {
      "_dom_classes": [],
      "_model_module": "@jupyter-widgets/controls",
      "_model_module_version": "1.5.0",
      "_model_name": "HTMLModel",
      "_view_count": null,
      "_view_module": "@jupyter-widgets/controls",
      "_view_module_version": "1.5.0",
      "_view_name": "HTMLView",
      "description": "",
      "description_tooltip": null,
      "layout": "IPY_MODEL_5faaecd20b104e2fa35f9259fdec8cbe",
      "placeholder": "​",
      "style": "IPY_MODEL_9d33400fa65345a1be73427fa7504e39",
      "value": "Downloading (…)lve/main/config.json: 100%"
     }
    },
    "837f16042d274cf78ed22a6013431d7d": {
     "model_module": "@jupyter-widgets/controls",
     "model_name": "FloatProgressModel",
     "model_module_version": "1.5.0",
     "state": {
      "_dom_classes": [],
      "_model_module": "@jupyter-widgets/controls",
      "_model_module_version": "1.5.0",
      "_model_name": "FloatProgressModel",
      "_view_count": null,
      "_view_module": "@jupyter-widgets/controls",
      "_view_module_version": "1.5.0",
      "_view_name": "ProgressView",
      "bar_style": "success",
      "description": "",
      "description_tooltip": null,
      "layout": "IPY_MODEL_569c7dbab88d4138beef9b27c7a4df35",
      "max": 570,
      "min": 0,
      "orientation": "horizontal",
      "style": "IPY_MODEL_7fa5cccb61434bd8bfab9e06155be3d1",
      "value": 570
     }
    },
    "2cc6d9191be54b339d6a8e0c2a252e34": {
     "model_module": "@jupyter-widgets/controls",
     "model_name": "HTMLModel",
     "model_module_version": "1.5.0",
     "state": {
      "_dom_classes": [],
      "_model_module": "@jupyter-widgets/controls",
      "_model_module_version": "1.5.0",
      "_model_name": "HTMLModel",
      "_view_count": null,
      "_view_module": "@jupyter-widgets/controls",
      "_view_module_version": "1.5.0",
      "_view_name": "HTMLView",
      "description": "",
      "description_tooltip": null,
      "layout": "IPY_MODEL_e96f881309334d76aa5f4762dfe44138",
      "placeholder": "​",
      "style": "IPY_MODEL_a0796b9658e94d2fa084a5d41c15ffa1",
      "value": " 570/570 [00:00&lt;00:00, 51.8kB/s]"
     }
    },
    "f95021b6fdc54446b691b0c4271228c6": {
     "model_module": "@jupyter-widgets/base",
     "model_name": "LayoutModel",
     "model_module_version": "1.2.0",
     "state": {
      "_model_module": "@jupyter-widgets/base",
      "_model_module_version": "1.2.0",
      "_model_name": "LayoutModel",
      "_view_count": null,
      "_view_module": "@jupyter-widgets/base",
      "_view_module_version": "1.2.0",
      "_view_name": "LayoutView",
      "align_content": null,
      "align_items": null,
      "align_self": null,
      "border": null,
      "bottom": null,
      "display": null,
      "flex": null,
      "flex_flow": null,
      "grid_area": null,
      "grid_auto_columns": null,
      "grid_auto_flow": null,
      "grid_auto_rows": null,
      "grid_column": null,
      "grid_gap": null,
      "grid_row": null,
      "grid_template_areas": null,
      "grid_template_columns": null,
      "grid_template_rows": null,
      "height": null,
      "justify_content": null,
      "justify_items": null,
      "left": null,
      "margin": null,
      "max_height": null,
      "max_width": null,
      "min_height": null,
      "min_width": null,
      "object_fit": null,
      "object_position": null,
      "order": null,
      "overflow": null,
      "overflow_x": null,
      "overflow_y": null,
      "padding": null,
      "right": null,
      "top": null,
      "visibility": null,
      "width": null
     }
    },
    "5faaecd20b104e2fa35f9259fdec8cbe": {
     "model_module": "@jupyter-widgets/base",
     "model_name": "LayoutModel",
     "model_module_version": "1.2.0",
     "state": {
      "_model_module": "@jupyter-widgets/base",
      "_model_module_version": "1.2.0",
      "_model_name": "LayoutModel",
      "_view_count": null,
      "_view_module": "@jupyter-widgets/base",
      "_view_module_version": "1.2.0",
      "_view_name": "LayoutView",
      "align_content": null,
      "align_items": null,
      "align_self": null,
      "border": null,
      "bottom": null,
      "display": null,
      "flex": null,
      "flex_flow": null,
      "grid_area": null,
      "grid_auto_columns": null,
      "grid_auto_flow": null,
      "grid_auto_rows": null,
      "grid_column": null,
      "grid_gap": null,
      "grid_row": null,
      "grid_template_areas": null,
      "grid_template_columns": null,
      "grid_template_rows": null,
      "height": null,
      "justify_content": null,
      "justify_items": null,
      "left": null,
      "margin": null,
      "max_height": null,
      "max_width": null,
      "min_height": null,
      "min_width": null,
      "object_fit": null,
      "object_position": null,
      "order": null,
      "overflow": null,
      "overflow_x": null,
      "overflow_y": null,
      "padding": null,
      "right": null,
      "top": null,
      "visibility": null,
      "width": null
     }
    },
    "9d33400fa65345a1be73427fa7504e39": {
     "model_module": "@jupyter-widgets/controls",
     "model_name": "DescriptionStyleModel",
     "model_module_version": "1.5.0",
     "state": {
      "_model_module": "@jupyter-widgets/controls",
      "_model_module_version": "1.5.0",
      "_model_name": "DescriptionStyleModel",
      "_view_count": null,
      "_view_module": "@jupyter-widgets/base",
      "_view_module_version": "1.2.0",
      "_view_name": "StyleView",
      "description_width": ""
     }
    },
    "569c7dbab88d4138beef9b27c7a4df35": {
     "model_module": "@jupyter-widgets/base",
     "model_name": "LayoutModel",
     "model_module_version": "1.2.0",
     "state": {
      "_model_module": "@jupyter-widgets/base",
      "_model_module_version": "1.2.0",
      "_model_name": "LayoutModel",
      "_view_count": null,
      "_view_module": "@jupyter-widgets/base",
      "_view_module_version": "1.2.0",
      "_view_name": "LayoutView",
      "align_content": null,
      "align_items": null,
      "align_self": null,
      "border": null,
      "bottom": null,
      "display": null,
      "flex": null,
      "flex_flow": null,
      "grid_area": null,
      "grid_auto_columns": null,
      "grid_auto_flow": null,
      "grid_auto_rows": null,
      "grid_column": null,
      "grid_gap": null,
      "grid_row": null,
      "grid_template_areas": null,
      "grid_template_columns": null,
      "grid_template_rows": null,
      "height": null,
      "justify_content": null,
      "justify_items": null,
      "left": null,
      "margin": null,
      "max_height": null,
      "max_width": null,
      "min_height": null,
      "min_width": null,
      "object_fit": null,
      "object_position": null,
      "order": null,
      "overflow": null,
      "overflow_x": null,
      "overflow_y": null,
      "padding": null,
      "right": null,
      "top": null,
      "visibility": null,
      "width": null
     }
    },
    "7fa5cccb61434bd8bfab9e06155be3d1": {
     "model_module": "@jupyter-widgets/controls",
     "model_name": "ProgressStyleModel",
     "model_module_version": "1.5.0",
     "state": {
      "_model_module": "@jupyter-widgets/controls",
      "_model_module_version": "1.5.0",
      "_model_name": "ProgressStyleModel",
      "_view_count": null,
      "_view_module": "@jupyter-widgets/base",
      "_view_module_version": "1.2.0",
      "_view_name": "StyleView",
      "bar_color": null,
      "description_width": ""
     }
    },
    "e96f881309334d76aa5f4762dfe44138": {
     "model_module": "@jupyter-widgets/base",
     "model_name": "LayoutModel",
     "model_module_version": "1.2.0",
     "state": {
      "_model_module": "@jupyter-widgets/base",
      "_model_module_version": "1.2.0",
      "_model_name": "LayoutModel",
      "_view_count": null,
      "_view_module": "@jupyter-widgets/base",
      "_view_module_version": "1.2.0",
      "_view_name": "LayoutView",
      "align_content": null,
      "align_items": null,
      "align_self": null,
      "border": null,
      "bottom": null,
      "display": null,
      "flex": null,
      "flex_flow": null,
      "grid_area": null,
      "grid_auto_columns": null,
      "grid_auto_flow": null,
      "grid_auto_rows": null,
      "grid_column": null,
      "grid_gap": null,
      "grid_row": null,
      "grid_template_areas": null,
      "grid_template_columns": null,
      "grid_template_rows": null,
      "height": null,
      "justify_content": null,
      "justify_items": null,
      "left": null,
      "margin": null,
      "max_height": null,
      "max_width": null,
      "min_height": null,
      "min_width": null,
      "object_fit": null,
      "object_position": null,
      "order": null,
      "overflow": null,
      "overflow_x": null,
      "overflow_y": null,
      "padding": null,
      "right": null,
      "top": null,
      "visibility": null,
      "width": null
     }
    },
    "a0796b9658e94d2fa084a5d41c15ffa1": {
     "model_module": "@jupyter-widgets/controls",
     "model_name": "DescriptionStyleModel",
     "model_module_version": "1.5.0",
     "state": {
      "_model_module": "@jupyter-widgets/controls",
      "_model_module_version": "1.5.0",
      "_model_name": "DescriptionStyleModel",
      "_view_count": null,
      "_view_module": "@jupyter-widgets/base",
      "_view_module_version": "1.2.0",
      "_view_name": "StyleView",
      "description_width": ""
     }
    },
    "fb73246fd9e84001a07481f7aab8eedc": {
     "model_module": "@jupyter-widgets/controls",
     "model_name": "HBoxModel",
     "model_module_version": "1.5.0",
     "state": {
      "_dom_classes": [],
      "_model_module": "@jupyter-widgets/controls",
      "_model_module_version": "1.5.0",
      "_model_name": "HBoxModel",
      "_view_count": null,
      "_view_module": "@jupyter-widgets/controls",
      "_view_module_version": "1.5.0",
      "_view_name": "HBoxView",
      "box_style": "",
      "children": [
       "IPY_MODEL_b9c73e546fa24de4baa3dfdd192ae190",
       "IPY_MODEL_baaab8d868e7429f9d0452147221cbf5",
       "IPY_MODEL_50d940d90703449090d8a426d34c7778"
      ],
      "layout": "IPY_MODEL_a0e9bcae6bf042a98ae1600b59176224"
     }
    },
    "b9c73e546fa24de4baa3dfdd192ae190": {
     "model_module": "@jupyter-widgets/controls",
     "model_name": "HTMLModel",
     "model_module_version": "1.5.0",
     "state": {
      "_dom_classes": [],
      "_model_module": "@jupyter-widgets/controls",
      "_model_module_version": "1.5.0",
      "_model_name": "HTMLModel",
      "_view_count": null,
      "_view_module": "@jupyter-widgets/controls",
      "_view_module_version": "1.5.0",
      "_view_name": "HTMLView",
      "description": "",
      "description_tooltip": null,
      "layout": "IPY_MODEL_2bd036b82cca4fe1a314ca7b859f6bac",
      "placeholder": "​",
      "style": "IPY_MODEL_94ec3964258249d3a80819dae11cdd88",
      "value": ""
     }
    },
    "baaab8d868e7429f9d0452147221cbf5": {
     "model_module": "@jupyter-widgets/controls",
     "model_name": "FloatProgressModel",
     "model_module_version": "1.5.0",
     "state": {
      "_dom_classes": [],
      "_model_module": "@jupyter-widgets/controls",
      "_model_module_version": "1.5.0",
      "_model_name": "FloatProgressModel",
      "_view_count": null,
      "_view_module": "@jupyter-widgets/controls",
      "_view_module_version": "1.5.0",
      "_view_name": "ProgressView",
      "bar_style": "success",
      "description": "",
      "description_tooltip": null,
      "layout": "IPY_MODEL_f0bf1473fe7b41aaa586068db0e68085",
      "max": 1,
      "min": 0,
      "orientation": "horizontal",
      "style": "IPY_MODEL_298d639f685b4a4eb1f40e72bcf5b0fb",
      "value": 1
     }
    },
    "50d940d90703449090d8a426d34c7778": {
     "model_module": "@jupyter-widgets/controls",
     "model_name": "HTMLModel",
     "model_module_version": "1.5.0",
     "state": {
      "_dom_classes": [],
      "_model_module": "@jupyter-widgets/controls",
      "_model_module_version": "1.5.0",
      "_model_name": "HTMLModel",
      "_view_count": null,
      "_view_module": "@jupyter-widgets/controls",
      "_view_module_version": "1.5.0",
      "_view_name": "HTMLView",
      "description": "",
      "description_tooltip": null,
      "layout": "IPY_MODEL_5e04743aefe74270958b098348515fe9",
      "placeholder": "​",
      "style": "IPY_MODEL_c3df6ba39758488eb23f0b075447dea7",
      "value": " 25779/? [02:04&lt;00:00, 190.25it/s]"
     }
    },
    "a0e9bcae6bf042a98ae1600b59176224": {
     "model_module": "@jupyter-widgets/base",
     "model_name": "LayoutModel",
     "model_module_version": "1.2.0",
     "state": {
      "_model_module": "@jupyter-widgets/base",
      "_model_module_version": "1.2.0",
      "_model_name": "LayoutModel",
      "_view_count": null,
      "_view_module": "@jupyter-widgets/base",
      "_view_module_version": "1.2.0",
      "_view_name": "LayoutView",
      "align_content": null,
      "align_items": null,
      "align_self": null,
      "border": null,
      "bottom": null,
      "display": null,
      "flex": null,
      "flex_flow": null,
      "grid_area": null,
      "grid_auto_columns": null,
      "grid_auto_flow": null,
      "grid_auto_rows": null,
      "grid_column": null,
      "grid_gap": null,
      "grid_row": null,
      "grid_template_areas": null,
      "grid_template_columns": null,
      "grid_template_rows": null,
      "height": null,
      "justify_content": null,
      "justify_items": null,
      "left": null,
      "margin": null,
      "max_height": null,
      "max_width": null,
      "min_height": null,
      "min_width": null,
      "object_fit": null,
      "object_position": null,
      "order": null,
      "overflow": null,
      "overflow_x": null,
      "overflow_y": null,
      "padding": null,
      "right": null,
      "top": null,
      "visibility": null,
      "width": null
     }
    },
    "2bd036b82cca4fe1a314ca7b859f6bac": {
     "model_module": "@jupyter-widgets/base",
     "model_name": "LayoutModel",
     "model_module_version": "1.2.0",
     "state": {
      "_model_module": "@jupyter-widgets/base",
      "_model_module_version": "1.2.0",
      "_model_name": "LayoutModel",
      "_view_count": null,
      "_view_module": "@jupyter-widgets/base",
      "_view_module_version": "1.2.0",
      "_view_name": "LayoutView",
      "align_content": null,
      "align_items": null,
      "align_self": null,
      "border": null,
      "bottom": null,
      "display": null,
      "flex": null,
      "flex_flow": null,
      "grid_area": null,
      "grid_auto_columns": null,
      "grid_auto_flow": null,
      "grid_auto_rows": null,
      "grid_column": null,
      "grid_gap": null,
      "grid_row": null,
      "grid_template_areas": null,
      "grid_template_columns": null,
      "grid_template_rows": null,
      "height": null,
      "justify_content": null,
      "justify_items": null,
      "left": null,
      "margin": null,
      "max_height": null,
      "max_width": null,
      "min_height": null,
      "min_width": null,
      "object_fit": null,
      "object_position": null,
      "order": null,
      "overflow": null,
      "overflow_x": null,
      "overflow_y": null,
      "padding": null,
      "right": null,
      "top": null,
      "visibility": null,
      "width": null
     }
    },
    "94ec3964258249d3a80819dae11cdd88": {
     "model_module": "@jupyter-widgets/controls",
     "model_name": "DescriptionStyleModel",
     "model_module_version": "1.5.0",
     "state": {
      "_model_module": "@jupyter-widgets/controls",
      "_model_module_version": "1.5.0",
      "_model_name": "DescriptionStyleModel",
      "_view_count": null,
      "_view_module": "@jupyter-widgets/base",
      "_view_module_version": "1.2.0",
      "_view_name": "StyleView",
      "description_width": ""
     }
    },
    "f0bf1473fe7b41aaa586068db0e68085": {
     "model_module": "@jupyter-widgets/base",
     "model_name": "LayoutModel",
     "model_module_version": "1.2.0",
     "state": {
      "_model_module": "@jupyter-widgets/base",
      "_model_module_version": "1.2.0",
      "_model_name": "LayoutModel",
      "_view_count": null,
      "_view_module": "@jupyter-widgets/base",
      "_view_module_version": "1.2.0",
      "_view_name": "LayoutView",
      "align_content": null,
      "align_items": null,
      "align_self": null,
      "border": null,
      "bottom": null,
      "display": null,
      "flex": null,
      "flex_flow": null,
      "grid_area": null,
      "grid_auto_columns": null,
      "grid_auto_flow": null,
      "grid_auto_rows": null,
      "grid_column": null,
      "grid_gap": null,
      "grid_row": null,
      "grid_template_areas": null,
      "grid_template_columns": null,
      "grid_template_rows": null,
      "height": null,
      "justify_content": null,
      "justify_items": null,
      "left": null,
      "margin": null,
      "max_height": null,
      "max_width": null,
      "min_height": null,
      "min_width": null,
      "object_fit": null,
      "object_position": null,
      "order": null,
      "overflow": null,
      "overflow_x": null,
      "overflow_y": null,
      "padding": null,
      "right": null,
      "top": null,
      "visibility": null,
      "width": "20px"
     }
    },
    "298d639f685b4a4eb1f40e72bcf5b0fb": {
     "model_module": "@jupyter-widgets/controls",
     "model_name": "ProgressStyleModel",
     "model_module_version": "1.5.0",
     "state": {
      "_model_module": "@jupyter-widgets/controls",
      "_model_module_version": "1.5.0",
      "_model_name": "ProgressStyleModel",
      "_view_count": null,
      "_view_module": "@jupyter-widgets/base",
      "_view_module_version": "1.2.0",
      "_view_name": "StyleView",
      "bar_color": null,
      "description_width": ""
     }
    },
    "5e04743aefe74270958b098348515fe9": {
     "model_module": "@jupyter-widgets/base",
     "model_name": "LayoutModel",
     "model_module_version": "1.2.0",
     "state": {
      "_model_module": "@jupyter-widgets/base",
      "_model_module_version": "1.2.0",
      "_model_name": "LayoutModel",
      "_view_count": null,
      "_view_module": "@jupyter-widgets/base",
      "_view_module_version": "1.2.0",
      "_view_name": "LayoutView",
      "align_content": null,
      "align_items": null,
      "align_self": null,
      "border": null,
      "bottom": null,
      "display": null,
      "flex": null,
      "flex_flow": null,
      "grid_area": null,
      "grid_auto_columns": null,
      "grid_auto_flow": null,
      "grid_auto_rows": null,
      "grid_column": null,
      "grid_gap": null,
      "grid_row": null,
      "grid_template_areas": null,
      "grid_template_columns": null,
      "grid_template_rows": null,
      "height": null,
      "justify_content": null,
      "justify_items": null,
      "left": null,
      "margin": null,
      "max_height": null,
      "max_width": null,
      "min_height": null,
      "min_width": null,
      "object_fit": null,
      "object_position": null,
      "order": null,
      "overflow": null,
      "overflow_x": null,
      "overflow_y": null,
      "padding": null,
      "right": null,
      "top": null,
      "visibility": null,
      "width": null
     }
    },
    "c3df6ba39758488eb23f0b075447dea7": {
     "model_module": "@jupyter-widgets/controls",
     "model_name": "DescriptionStyleModel",
     "model_module_version": "1.5.0",
     "state": {
      "_model_module": "@jupyter-widgets/controls",
      "_model_module_version": "1.5.0",
      "_model_name": "DescriptionStyleModel",
      "_view_count": null,
      "_view_module": "@jupyter-widgets/base",
      "_view_module_version": "1.2.0",
      "_view_name": "StyleView",
      "description_width": ""
     }
    },
    "536a5e685018455184a925352e35e742": {
     "model_module": "@jupyter-widgets/controls",
     "model_name": "HBoxModel",
     "model_module_version": "1.5.0",
     "state": {
      "_dom_classes": [],
      "_model_module": "@jupyter-widgets/controls",
      "_model_module_version": "1.5.0",
      "_model_name": "HBoxModel",
      "_view_count": null,
      "_view_module": "@jupyter-widgets/controls",
      "_view_module_version": "1.5.0",
      "_view_name": "HBoxView",
      "box_style": "",
      "children": [
       "IPY_MODEL_90709ce4ece442069c2783848876fcad",
       "IPY_MODEL_6b9015c804ba4601b6d225e8f0a55feb",
       "IPY_MODEL_c5889081c8244fcab8ead82c8995bf4c"
      ],
      "layout": "IPY_MODEL_99c4ff4a76db4c0f99a4256ebda0ce43"
     }
    },
    "90709ce4ece442069c2783848876fcad": {
     "model_module": "@jupyter-widgets/controls",
     "model_name": "HTMLModel",
     "model_module_version": "1.5.0",
     "state": {
      "_dom_classes": [],
      "_model_module": "@jupyter-widgets/controls",
      "_model_module_version": "1.5.0",
      "_model_name": "HTMLModel",
      "_view_count": null,
      "_view_module": "@jupyter-widgets/controls",
      "_view_module_version": "1.5.0",
      "_view_name": "HTMLView",
      "description": "",
      "description_tooltip": null,
      "layout": "IPY_MODEL_c43760dc2f8547e399cad4f460eba5f2",
      "placeholder": "​",
      "style": "IPY_MODEL_43870e15f0ab4454b01fc2a1f4850fd2",
      "value": "Downloading tf_model.h5: 100%"
     }
    },
    "6b9015c804ba4601b6d225e8f0a55feb": {
     "model_module": "@jupyter-widgets/controls",
     "model_name": "FloatProgressModel",
     "model_module_version": "1.5.0",
     "state": {
      "_dom_classes": [],
      "_model_module": "@jupyter-widgets/controls",
      "_model_module_version": "1.5.0",
      "_model_name": "FloatProgressModel",
      "_view_count": null,
      "_view_module": "@jupyter-widgets/controls",
      "_view_module_version": "1.5.0",
      "_view_name": "ProgressView",
      "bar_style": "success",
      "description": "",
      "description_tooltip": null,
      "layout": "IPY_MODEL_d6bc44c000944e908f1eb91fce0782cf",
      "max": 526681800,
      "min": 0,
      "orientation": "horizontal",
      "style": "IPY_MODEL_ecf0d0dd377348fb95c2ba6162b2c788",
      "value": 526681800
     }
    },
    "c5889081c8244fcab8ead82c8995bf4c": {
     "model_module": "@jupyter-widgets/controls",
     "model_name": "HTMLModel",
     "model_module_version": "1.5.0",
     "state": {
      "_dom_classes": [],
      "_model_module": "@jupyter-widgets/controls",
      "_model_module_version": "1.5.0",
      "_model_name": "HTMLModel",
      "_view_count": null,
      "_view_module": "@jupyter-widgets/controls",
      "_view_module_version": "1.5.0",
      "_view_name": "HTMLView",
      "description": "",
      "description_tooltip": null,
      "layout": "IPY_MODEL_c53bc216ecf0413c8c666f15c2a14922",
      "placeholder": "​",
      "style": "IPY_MODEL_c8dc933364d343d68c3252a73394deaf",
      "value": " 527M/527M [00:01&lt;00:00, 418MB/s]"
     }
    },
    "99c4ff4a76db4c0f99a4256ebda0ce43": {
     "model_module": "@jupyter-widgets/base",
     "model_name": "LayoutModel",
     "model_module_version": "1.2.0",
     "state": {
      "_model_module": "@jupyter-widgets/base",
      "_model_module_version": "1.2.0",
      "_model_name": "LayoutModel",
      "_view_count": null,
      "_view_module": "@jupyter-widgets/base",
      "_view_module_version": "1.2.0",
      "_view_name": "LayoutView",
      "align_content": null,
      "align_items": null,
      "align_self": null,
      "border": null,
      "bottom": null,
      "display": null,
      "flex": null,
      "flex_flow": null,
      "grid_area": null,
      "grid_auto_columns": null,
      "grid_auto_flow": null,
      "grid_auto_rows": null,
      "grid_column": null,
      "grid_gap": null,
      "grid_row": null,
      "grid_template_areas": null,
      "grid_template_columns": null,
      "grid_template_rows": null,
      "height": null,
      "justify_content": null,
      "justify_items": null,
      "left": null,
      "margin": null,
      "max_height": null,
      "max_width": null,
      "min_height": null,
      "min_width": null,
      "object_fit": null,
      "object_position": null,
      "order": null,
      "overflow": null,
      "overflow_x": null,
      "overflow_y": null,
      "padding": null,
      "right": null,
      "top": null,
      "visibility": null,
      "width": null
     }
    },
    "c43760dc2f8547e399cad4f460eba5f2": {
     "model_module": "@jupyter-widgets/base",
     "model_name": "LayoutModel",
     "model_module_version": "1.2.0",
     "state": {
      "_model_module": "@jupyter-widgets/base",
      "_model_module_version": "1.2.0",
      "_model_name": "LayoutModel",
      "_view_count": null,
      "_view_module": "@jupyter-widgets/base",
      "_view_module_version": "1.2.0",
      "_view_name": "LayoutView",
      "align_content": null,
      "align_items": null,
      "align_self": null,
      "border": null,
      "bottom": null,
      "display": null,
      "flex": null,
      "flex_flow": null,
      "grid_area": null,
      "grid_auto_columns": null,
      "grid_auto_flow": null,
      "grid_auto_rows": null,
      "grid_column": null,
      "grid_gap": null,
      "grid_row": null,
      "grid_template_areas": null,
      "grid_template_columns": null,
      "grid_template_rows": null,
      "height": null,
      "justify_content": null,
      "justify_items": null,
      "left": null,
      "margin": null,
      "max_height": null,
      "max_width": null,
      "min_height": null,
      "min_width": null,
      "object_fit": null,
      "object_position": null,
      "order": null,
      "overflow": null,
      "overflow_x": null,
      "overflow_y": null,
      "padding": null,
      "right": null,
      "top": null,
      "visibility": null,
      "width": null
     }
    },
    "43870e15f0ab4454b01fc2a1f4850fd2": {
     "model_module": "@jupyter-widgets/controls",
     "model_name": "DescriptionStyleModel",
     "model_module_version": "1.5.0",
     "state": {
      "_model_module": "@jupyter-widgets/controls",
      "_model_module_version": "1.5.0",
      "_model_name": "DescriptionStyleModel",
      "_view_count": null,
      "_view_module": "@jupyter-widgets/base",
      "_view_module_version": "1.2.0",
      "_view_name": "StyleView",
      "description_width": ""
     }
    },
    "d6bc44c000944e908f1eb91fce0782cf": {
     "model_module": "@jupyter-widgets/base",
     "model_name": "LayoutModel",
     "model_module_version": "1.2.0",
     "state": {
      "_model_module": "@jupyter-widgets/base",
      "_model_module_version": "1.2.0",
      "_model_name": "LayoutModel",
      "_view_count": null,
      "_view_module": "@jupyter-widgets/base",
      "_view_module_version": "1.2.0",
      "_view_name": "LayoutView",
      "align_content": null,
      "align_items": null,
      "align_self": null,
      "border": null,
      "bottom": null,
      "display": null,
      "flex": null,
      "flex_flow": null,
      "grid_area": null,
      "grid_auto_columns": null,
      "grid_auto_flow": null,
      "grid_auto_rows": null,
      "grid_column": null,
      "grid_gap": null,
      "grid_row": null,
      "grid_template_areas": null,
      "grid_template_columns": null,
      "grid_template_rows": null,
      "height": null,
      "justify_content": null,
      "justify_items": null,
      "left": null,
      "margin": null,
      "max_height": null,
      "max_width": null,
      "min_height": null,
      "min_width": null,
      "object_fit": null,
      "object_position": null,
      "order": null,
      "overflow": null,
      "overflow_x": null,
      "overflow_y": null,
      "padding": null,
      "right": null,
      "top": null,
      "visibility": null,
      "width": null
     }
    },
    "ecf0d0dd377348fb95c2ba6162b2c788": {
     "model_module": "@jupyter-widgets/controls",
     "model_name": "ProgressStyleModel",
     "model_module_version": "1.5.0",
     "state": {
      "_model_module": "@jupyter-widgets/controls",
      "_model_module_version": "1.5.0",
      "_model_name": "ProgressStyleModel",
      "_view_count": null,
      "_view_module": "@jupyter-widgets/base",
      "_view_module_version": "1.2.0",
      "_view_name": "StyleView",
      "bar_color": null,
      "description_width": ""
     }
    },
    "c53bc216ecf0413c8c666f15c2a14922": {
     "model_module": "@jupyter-widgets/base",
     "model_name": "LayoutModel",
     "model_module_version": "1.2.0",
     "state": {
      "_model_module": "@jupyter-widgets/base",
      "_model_module_version": "1.2.0",
      "_model_name": "LayoutModel",
      "_view_count": null,
      "_view_module": "@jupyter-widgets/base",
      "_view_module_version": "1.2.0",
      "_view_name": "LayoutView",
      "align_content": null,
      "align_items": null,
      "align_self": null,
      "border": null,
      "bottom": null,
      "display": null,
      "flex": null,
      "flex_flow": null,
      "grid_area": null,
      "grid_auto_columns": null,
      "grid_auto_flow": null,
      "grid_auto_rows": null,
      "grid_column": null,
      "grid_gap": null,
      "grid_row": null,
      "grid_template_areas": null,
      "grid_template_columns": null,
      "grid_template_rows": null,
      "height": null,
      "justify_content": null,
      "justify_items": null,
      "left": null,
      "margin": null,
      "max_height": null,
      "max_width": null,
      "min_height": null,
      "min_width": null,
      "object_fit": null,
      "object_position": null,
      "order": null,
      "overflow": null,
      "overflow_x": null,
      "overflow_y": null,
      "padding": null,
      "right": null,
      "top": null,
      "visibility": null,
      "width": null
     }
    },
    "c8dc933364d343d68c3252a73394deaf": {
     "model_module": "@jupyter-widgets/controls",
     "model_name": "DescriptionStyleModel",
     "model_module_version": "1.5.0",
     "state": {
      "_model_module": "@jupyter-widgets/controls",
      "_model_module_version": "1.5.0",
      "_model_name": "DescriptionStyleModel",
      "_view_count": null,
      "_view_module": "@jupyter-widgets/base",
      "_view_module_version": "1.2.0",
      "_view_name": "StyleView",
      "description_width": ""
     }
    }
   }
  }
 },
 "cells": [
  {
   "cell_type": "markdown",
   "source": [
    "# Intent Detection through a Neural Network-Enabled Text Classifier\n",
    "\n",
    "#### Contributors: Alexander Heger, Mugdha Khairnar, Ishan Nagrani"
   ],
   "metadata": {
    "id": "BOyJPJAse4Lv"
   }
  },
  {
   "cell_type": "markdown",
   "source": [
    "## 1. Introduction\n"
   ],
   "metadata": {
    "id": "ztdATf5-e4OW"
   }
  },
  {
   "cell_type": "markdown",
   "source": [
    "### 1.1. Problem Statement\n",
    "\n",
    "Our goal is to create a neural network text classifier which accurately predicts intent given a text document.  Here, our predictors are the unique text tokens of questions posted to Stack Overflow.  The labels are the Tags that Stack Overflow’s users assign to each question, since these indicate the intent of the question body.  We aim to identify the model which best predicts the true label for each post."
   ],
   "metadata": {
    "id": "nJpZ8tf0fj8U"
   }
  },
  {
   "cell_type": "markdown",
   "source": [
    "### 1.2. Motivation\n",
    "\n",
    "We chose this prediction task to emulate the upstream stages of a language model-enabled chatbot. The model that we deliver will be able to predict labels which inform the response of a language model which could be used to answer questions about a product or topic in an online chat. Any company with an online presence could use our model, combined with a chatbot, to automate the purpose traditionally served by a call center. \n",
    "\n",
    "While our model is only a precursor to a fully functioning chatbot, the predictions it accurately generates will provide insights into the context of a user’s question.  Intent detection through neural networks is not a new idea; however, we have not seen our dataset used to this end, nor in the context of executing an upstream process for a chatbot."
   ],
   "metadata": {
    "id": "RlfFJs16fjxq"
   }
  },
  {
   "cell_type": "markdown",
   "source": [
    "### 1.3. Data \n",
    "\n",
    "Our data set comprises 139,638 questions posted to the programming forum, Stack Overflow from August 1 to August 31, 2022. We sourced our data through [Google BigQuery](https://console.cloud.google.com/marketplace/product/stack-exchange/stack-overflow/) which pulls from Stack Exchange’s Data Explorer tool.  Our data contains the body text of various users’ questions posted to Stack Overflow along with the labels (Tags) attributed to each question by the site’s users, along with 18 other columns of metadate (e.g., ID, creation date, number of viewers, etc.). \n",
    "\n",
    "At various points through the notebook we'll sample smaller sets of the data in order to make processes more efficient given Colab's resource limitations.  We chose to use Google Colab Pro+ after finding that VertexAI's Jupyter Notebook version was incompatible with natural language processing (NLP) packages key to our analysis. "
   ],
   "metadata": {
    "id": "dMDlNPDtfjvM"
   }
  },
  {
   "cell_type": "markdown",
   "source": [
    "## 2. Data Pre-processing"
   ],
   "metadata": {
    "id": "pW0zEfjBfjsl"
   }
  },
  {
   "cell_type": "markdown",
   "source": [
    "### 2.1. Read Data\n",
    "\n",
    "As with any machine learning task in Python, we begin by importing a number of packages necessary to our analysis.  Those of note are TensorFlow and Keras since we aim to use deep learning to make single label predictions in a multiclass space."
   ],
   "metadata": {
    "id": "K614gUtve4VH"
   }
  },
  {
   "cell_type": "code",
   "source": [
    "# Import packages\n",
    "import pandas as pd\n",
    "import numpy as np\n",
    "import matplotlib.pyplot as plt\n",
    "from google.colab import drive\n",
    "from collections import Counter\n",
    "import re\n",
    "import spacy\n",
    "import tensorflow as tf\n",
    "from tensorflow import keras\n",
    "from tensorflow.keras import layers\n",
    "from tensorflow.keras.utils import to_categorical\n",
    "from keras.preprocessing.text import text_to_word_sequence\n",
    "from sklearn.preprocessing import LabelEncoder\n",
    "from sklearn.model_selection import train_test_split\n",
    "import absl.logging\n",
    "absl.logging.set_verbosity(absl.logging.ERROR) # Suppresses tf warnings during training"
   ],
   "metadata": {
    "id": "aJjp4kbA9cp_"
   },
   "execution_count": null,
   "outputs": []
  },
  {
   "cell_type": "markdown",
   "source": [
    "We downloaded our data from Google Cloud Platform's BigQuery service, and stored it in a Shared Drive across all members of this project."
   ],
   "metadata": {
    "id": "JuVJlVrr78TP"
   }
  },
  {
   "cell_type": "code",
   "source": [
    "# Mount Google Drive\n",
    "drive.mount('/content/drive')\n",
    "data_folder = '/content/drive/Shareddrives/BA865_Group_Project/data/'"
   ],
   "metadata": {
    "id": "yW1qC3uBgG-y",
    "colab": {
     "base_uri": "https://localhost:8080/"
    },
    "outputId": "1fb98091-28d6-471b-f7dc-aa3f36c79c9b"
   },
   "execution_count": null,
   "outputs": [
    {
     "output_type": "stream",
     "name": "stdout",
     "text": [
      "Mounted at /content/drive\n"
     ]
    }
   ]
  },
  {
   "cell_type": "code",
   "source": [
    "# Read data from Shared Drive\n",
    "data = pd.read_csv(data_folder + 'aug2022_stackoverflow.csv')\n",
    "\n",
    "# Overview of data shape, null values, preview\n",
    "data.info()\n",
    "data.head()"
   ],
   "metadata": {
    "id": "pKwHHoeggJMA",
    "colab": {
     "base_uri": "https://localhost:8080/",
     "height": 1000
    },
    "outputId": "03c187af-f401-453d-fddc-a8222d85a3d5"
   },
   "execution_count": null,
   "outputs": [
    {
     "output_type": "stream",
     "name": "stdout",
     "text": [
      "<class 'pandas.core.frame.DataFrame'>\n",
      "RangeIndex: 139638 entries, 0 to 139637\n",
      "Data columns (total 20 columns):\n",
      " #   Column                    Non-Null Count   Dtype  \n",
      "---  ------                    --------------   -----  \n",
      " 0   id                        139638 non-null  int64  \n",
      " 1   title                     139638 non-null  object \n",
      " 2   body                      139638 non-null  object \n",
      " 3   accepted_answer_id        41278 non-null   float64\n",
      " 4   answer_count              139638 non-null  int64  \n",
      " 5   comment_count             139638 non-null  int64  \n",
      " 6   community_owned_date      0 non-null       float64\n",
      " 7   creation_date             139638 non-null  object \n",
      " 8   favorite_count            8157 non-null    float64\n",
      " 9   last_activity_date        139638 non-null  object \n",
      " 10  last_edit_date            64703 non-null   object \n",
      " 11  last_editor_display_name  231 non-null     object \n",
      " 12  last_editor_user_id       64472 non-null   float64\n",
      " 13  owner_display_name        612 non-null     object \n",
      " 14  owner_user_id             139053 non-null  float64\n",
      " 15  parent_id                 0 non-null       float64\n",
      " 16  post_type_id              139638 non-null  int64  \n",
      " 17  score                     139638 non-null  int64  \n",
      " 18  tags                      139638 non-null  object \n",
      " 19  view_count                139638 non-null  int64  \n",
      "dtypes: float64(6), int64(6), object(8)\n",
      "memory usage: 21.3+ MB\n"
     ]
    },
    {
     "output_type": "execute_result",
     "data": {
      "text/plain": [
       "         id                                              title  \\\n",
       "0  73210679  az acr login raises DOCKER_COMMAND_ERROR with ...   \n",
       "1  73284406  Run Azure log query from the command line with...   \n",
       "2  73250763  Error CS0246: The type or namespace name 'Stre...   \n",
       "3  73406942  Google workspace account has been suspended wi...   \n",
       "4  73200968  Mac Unity package manager error resolving pack...   \n",
       "\n",
       "                                                body  accepted_answer_id  \\\n",
       "0  <p>Windows 11 with wsl2 ubuntu-22.04.</p>\\n<p>...          73247188.0   \n",
       "1  <p>I am trying to get the Azure log query data...                 NaN   \n",
       "2  <p>I have these errors when trying to write th...          73251390.0   \n",
       "3  <p>Many years ago I set up my domain so Google...          73419827.0   \n",
       "4  <p>I use unity 2021.3.7f1, I was creating a ne...                 NaN   \n",
       "\n",
       "   answer_count  comment_count  community_owned_date  \\\n",
       "0             1              0                   NaN   \n",
       "1             2              0                   NaN   \n",
       "2             1              0                   NaN   \n",
       "3             1              0                   NaN   \n",
       "4             1              0                   NaN   \n",
       "\n",
       "                 creation_date  favorite_count           last_activity_date  \\\n",
       "0   2022-08-02 16:16:31.81 UTC             NaN  2022-08-05 09:00:14.693 UTC   \n",
       "1  2022-08-08 21:53:16.703 UTC             NaN  2022-08-10 04:49:20.527 UTC   \n",
       "2   2022-08-05 13:43:25.85 UTC             NaN   2022-08-05 16:40:00.61 UTC   \n",
       "3   2022-08-18 17:05:12.95 UTC             NaN  2022-08-19 16:43:13.243 UTC   \n",
       "4    2022-08-02 01:00:36.2 UTC             NaN  2022-08-17 00:40:54.303 UTC   \n",
       "\n",
       "                last_edit_date last_editor_display_name  last_editor_user_id  \\\n",
       "0    2022-08-02 16:32:13.7 UTC                      NaN           11226740.0   \n",
       "1   2022-08-09 08:12:13.92 UTC                      NaN            2395282.0   \n",
       "2   2022-08-05 16:40:00.61 UTC                      NaN           17654458.0   \n",
       "3  2022-08-19 16:43:13.243 UTC                      NaN             897007.0   \n",
       "4                          NaN                      NaN                  NaN   \n",
       "\n",
       "  owner_display_name  owner_user_id  parent_id  post_type_id  score  \\\n",
       "0                NaN     11226740.0        NaN             1      0   \n",
       "1                NaN     19123691.0        NaN             1      0   \n",
       "2                NaN     17654458.0        NaN             1      3   \n",
       "3                NaN       897007.0        NaN             1      0   \n",
       "4                NaN     19502695.0        NaN             1      0   \n",
       "\n",
       "                                                tags  view_count  \n",
       "0             azure-container-registry|docker-daemon         256  \n",
       "1  azure|azure-devops|azure-application-insights|...         256  \n",
       "2                                         c#|unity3d         512  \n",
       "3                                   google-workspace         512  \n",
       "4                                            unity3d         257  "
      ],
      "text/html": [
       "\n",
       "  <div id=\"df-d94b80a1-2936-43b1-b639-d184e07df54e\">\n",
       "    <div class=\"colab-df-container\">\n",
       "      <div>\n",
       "<style scoped>\n",
       "    .dataframe tbody tr th:only-of-type {\n",
       "        vertical-align: middle;\n",
       "    }\n",
       "\n",
       "    .dataframe tbody tr th {\n",
       "        vertical-align: top;\n",
       "    }\n",
       "\n",
       "    .dataframe thead th {\n",
       "        text-align: right;\n",
       "    }\n",
       "</style>\n",
       "<table border=\"1\" class=\"dataframe\">\n",
       "  <thead>\n",
       "    <tr style=\"text-align: right;\">\n",
       "      <th></th>\n",
       "      <th>id</th>\n",
       "      <th>title</th>\n",
       "      <th>body</th>\n",
       "      <th>accepted_answer_id</th>\n",
       "      <th>answer_count</th>\n",
       "      <th>comment_count</th>\n",
       "      <th>community_owned_date</th>\n",
       "      <th>creation_date</th>\n",
       "      <th>favorite_count</th>\n",
       "      <th>last_activity_date</th>\n",
       "      <th>last_edit_date</th>\n",
       "      <th>last_editor_display_name</th>\n",
       "      <th>last_editor_user_id</th>\n",
       "      <th>owner_display_name</th>\n",
       "      <th>owner_user_id</th>\n",
       "      <th>parent_id</th>\n",
       "      <th>post_type_id</th>\n",
       "      <th>score</th>\n",
       "      <th>tags</th>\n",
       "      <th>view_count</th>\n",
       "    </tr>\n",
       "  </thead>\n",
       "  <tbody>\n",
       "    <tr>\n",
       "      <th>0</th>\n",
       "      <td>73210679</td>\n",
       "      <td>az acr login raises DOCKER_COMMAND_ERROR with ...</td>\n",
       "      <td>&lt;p&gt;Windows 11 with wsl2 ubuntu-22.04.&lt;/p&gt;\\n&lt;p&gt;...</td>\n",
       "      <td>73247188.0</td>\n",
       "      <td>1</td>\n",
       "      <td>0</td>\n",
       "      <td>NaN</td>\n",
       "      <td>2022-08-02 16:16:31.81 UTC</td>\n",
       "      <td>NaN</td>\n",
       "      <td>2022-08-05 09:00:14.693 UTC</td>\n",
       "      <td>2022-08-02 16:32:13.7 UTC</td>\n",
       "      <td>NaN</td>\n",
       "      <td>11226740.0</td>\n",
       "      <td>NaN</td>\n",
       "      <td>11226740.0</td>\n",
       "      <td>NaN</td>\n",
       "      <td>1</td>\n",
       "      <td>0</td>\n",
       "      <td>azure-container-registry|docker-daemon</td>\n",
       "      <td>256</td>\n",
       "    </tr>\n",
       "    <tr>\n",
       "      <th>1</th>\n",
       "      <td>73284406</td>\n",
       "      <td>Run Azure log query from the command line with...</td>\n",
       "      <td>&lt;p&gt;I am trying to get the Azure log query data...</td>\n",
       "      <td>NaN</td>\n",
       "      <td>2</td>\n",
       "      <td>0</td>\n",
       "      <td>NaN</td>\n",
       "      <td>2022-08-08 21:53:16.703 UTC</td>\n",
       "      <td>NaN</td>\n",
       "      <td>2022-08-10 04:49:20.527 UTC</td>\n",
       "      <td>2022-08-09 08:12:13.92 UTC</td>\n",
       "      <td>NaN</td>\n",
       "      <td>2395282.0</td>\n",
       "      <td>NaN</td>\n",
       "      <td>19123691.0</td>\n",
       "      <td>NaN</td>\n",
       "      <td>1</td>\n",
       "      <td>0</td>\n",
       "      <td>azure|azure-devops|azure-application-insights|...</td>\n",
       "      <td>256</td>\n",
       "    </tr>\n",
       "    <tr>\n",
       "      <th>2</th>\n",
       "      <td>73250763</td>\n",
       "      <td>Error CS0246: The type or namespace name 'Stre...</td>\n",
       "      <td>&lt;p&gt;I have these errors when trying to write th...</td>\n",
       "      <td>73251390.0</td>\n",
       "      <td>1</td>\n",
       "      <td>0</td>\n",
       "      <td>NaN</td>\n",
       "      <td>2022-08-05 13:43:25.85 UTC</td>\n",
       "      <td>NaN</td>\n",
       "      <td>2022-08-05 16:40:00.61 UTC</td>\n",
       "      <td>2022-08-05 16:40:00.61 UTC</td>\n",
       "      <td>NaN</td>\n",
       "      <td>17654458.0</td>\n",
       "      <td>NaN</td>\n",
       "      <td>17654458.0</td>\n",
       "      <td>NaN</td>\n",
       "      <td>1</td>\n",
       "      <td>3</td>\n",
       "      <td>c#|unity3d</td>\n",
       "      <td>512</td>\n",
       "    </tr>\n",
       "    <tr>\n",
       "      <th>3</th>\n",
       "      <td>73406942</td>\n",
       "      <td>Google workspace account has been suspended wi...</td>\n",
       "      <td>&lt;p&gt;Many years ago I set up my domain so Google...</td>\n",
       "      <td>73419827.0</td>\n",
       "      <td>1</td>\n",
       "      <td>0</td>\n",
       "      <td>NaN</td>\n",
       "      <td>2022-08-18 17:05:12.95 UTC</td>\n",
       "      <td>NaN</td>\n",
       "      <td>2022-08-19 16:43:13.243 UTC</td>\n",
       "      <td>2022-08-19 16:43:13.243 UTC</td>\n",
       "      <td>NaN</td>\n",
       "      <td>897007.0</td>\n",
       "      <td>NaN</td>\n",
       "      <td>897007.0</td>\n",
       "      <td>NaN</td>\n",
       "      <td>1</td>\n",
       "      <td>0</td>\n",
       "      <td>google-workspace</td>\n",
       "      <td>512</td>\n",
       "    </tr>\n",
       "    <tr>\n",
       "      <th>4</th>\n",
       "      <td>73200968</td>\n",
       "      <td>Mac Unity package manager error resolving pack...</td>\n",
       "      <td>&lt;p&gt;I use unity 2021.3.7f1, I was creating a ne...</td>\n",
       "      <td>NaN</td>\n",
       "      <td>1</td>\n",
       "      <td>0</td>\n",
       "      <td>NaN</td>\n",
       "      <td>2022-08-02 01:00:36.2 UTC</td>\n",
       "      <td>NaN</td>\n",
       "      <td>2022-08-17 00:40:54.303 UTC</td>\n",
       "      <td>NaN</td>\n",
       "      <td>NaN</td>\n",
       "      <td>NaN</td>\n",
       "      <td>NaN</td>\n",
       "      <td>19502695.0</td>\n",
       "      <td>NaN</td>\n",
       "      <td>1</td>\n",
       "      <td>0</td>\n",
       "      <td>unity3d</td>\n",
       "      <td>257</td>\n",
       "    </tr>\n",
       "  </tbody>\n",
       "</table>\n",
       "</div>\n",
       "      <button class=\"colab-df-convert\" onclick=\"convertToInteractive('df-d94b80a1-2936-43b1-b639-d184e07df54e')\"\n",
       "              title=\"Convert this dataframe to an interactive table.\"\n",
       "              style=\"display:none;\">\n",
       "        \n",
       "  <svg xmlns=\"http://www.w3.org/2000/svg\" height=\"24px\"viewBox=\"0 0 24 24\"\n",
       "       width=\"24px\">\n",
       "    <path d=\"M0 0h24v24H0V0z\" fill=\"none\"/>\n",
       "    <path d=\"M18.56 5.44l.94 2.06.94-2.06 2.06-.94-2.06-.94-.94-2.06-.94 2.06-2.06.94zm-11 1L8.5 8.5l.94-2.06 2.06-.94-2.06-.94L8.5 2.5l-.94 2.06-2.06.94zm10 10l.94 2.06.94-2.06 2.06-.94-2.06-.94-.94-2.06-.94 2.06-2.06.94z\"/><path d=\"M17.41 7.96l-1.37-1.37c-.4-.4-.92-.59-1.43-.59-.52 0-1.04.2-1.43.59L10.3 9.45l-7.72 7.72c-.78.78-.78 2.05 0 2.83L4 21.41c.39.39.9.59 1.41.59.51 0 1.02-.2 1.41-.59l7.78-7.78 2.81-2.81c.8-.78.8-2.07 0-2.86zM5.41 20L4 18.59l7.72-7.72 1.47 1.35L5.41 20z\"/>\n",
       "  </svg>\n",
       "      </button>\n",
       "      \n",
       "  <style>\n",
       "    .colab-df-container {\n",
       "      display:flex;\n",
       "      flex-wrap:wrap;\n",
       "      gap: 12px;\n",
       "    }\n",
       "\n",
       "    .colab-df-convert {\n",
       "      background-color: #E8F0FE;\n",
       "      border: none;\n",
       "      border-radius: 50%;\n",
       "      cursor: pointer;\n",
       "      display: none;\n",
       "      fill: #1967D2;\n",
       "      height: 32px;\n",
       "      padding: 0 0 0 0;\n",
       "      width: 32px;\n",
       "    }\n",
       "\n",
       "    .colab-df-convert:hover {\n",
       "      background-color: #E2EBFA;\n",
       "      box-shadow: 0px 1px 2px rgba(60, 64, 67, 0.3), 0px 1px 3px 1px rgba(60, 64, 67, 0.15);\n",
       "      fill: #174EA6;\n",
       "    }\n",
       "\n",
       "    [theme=dark] .colab-df-convert {\n",
       "      background-color: #3B4455;\n",
       "      fill: #D2E3FC;\n",
       "    }\n",
       "\n",
       "    [theme=dark] .colab-df-convert:hover {\n",
       "      background-color: #434B5C;\n",
       "      box-shadow: 0px 1px 3px 1px rgba(0, 0, 0, 0.15);\n",
       "      filter: drop-shadow(0px 1px 2px rgba(0, 0, 0, 0.3));\n",
       "      fill: #FFFFFF;\n",
       "    }\n",
       "  </style>\n",
       "\n",
       "      <script>\n",
       "        const buttonEl =\n",
       "          document.querySelector('#df-d94b80a1-2936-43b1-b639-d184e07df54e button.colab-df-convert');\n",
       "        buttonEl.style.display =\n",
       "          google.colab.kernel.accessAllowed ? 'block' : 'none';\n",
       "\n",
       "        async function convertToInteractive(key) {\n",
       "          const element = document.querySelector('#df-d94b80a1-2936-43b1-b639-d184e07df54e');\n",
       "          const dataTable =\n",
       "            await google.colab.kernel.invokeFunction('convertToInteractive',\n",
       "                                                     [key], {});\n",
       "          if (!dataTable) return;\n",
       "\n",
       "          const docLinkHtml = 'Like what you see? Visit the ' +\n",
       "            '<a target=\"_blank\" href=https://colab.research.google.com/notebooks/data_table.ipynb>data table notebook</a>'\n",
       "            + ' to learn more about interactive tables.';\n",
       "          element.innerHTML = '';\n",
       "          dataTable['output_type'] = 'display_data';\n",
       "          await google.colab.output.renderOutput(dataTable, element);\n",
       "          const docLink = document.createElement('div');\n",
       "          docLink.innerHTML = docLinkHtml;\n",
       "          element.appendChild(docLink);\n",
       "        }\n",
       "      </script>\n",
       "    </div>\n",
       "  </div>\n",
       "  "
      ]
     },
     "metadata": {},
     "execution_count": 3
    }
   ]
  },
  {
   "cell_type": "code",
   "source": [
    "data.isnull().sum()"
   ],
   "metadata": {
    "id": "S7rZZ9x1gL4C",
    "colab": {
     "base_uri": "https://localhost:8080/"
    },
    "outputId": "fe7b486f-f66b-4917-f067-cc54309ddd2b"
   },
   "execution_count": null,
   "outputs": [
    {
     "output_type": "execute_result",
     "data": {
      "text/plain": [
       "id                               0\n",
       "title                            0\n",
       "body                             0\n",
       "accepted_answer_id           98360\n",
       "answer_count                     0\n",
       "comment_count                    0\n",
       "community_owned_date        139638\n",
       "creation_date                    0\n",
       "favorite_count              131481\n",
       "last_activity_date               0\n",
       "last_edit_date               74935\n",
       "last_editor_display_name    139407\n",
       "last_editor_user_id          75166\n",
       "owner_display_name          139026\n",
       "owner_user_id                  585\n",
       "parent_id                   139638\n",
       "post_type_id                     0\n",
       "score                            0\n",
       "tags                             0\n",
       "view_count                       0\n",
       "dtype: int64"
      ]
     },
     "metadata": {},
     "execution_count": 4
    }
   ]
  },
  {
   "cell_type": "markdown",
   "source": [
    "### 2.2. Clean and Organize Labels\n",
    "\n",
    "Next, we turn our attention to the labels (`tags`) that will be the target of our prediction.  In the original data set, these are stored as string records with individual tags separated by the '|' character.  We first narrow down the data to only the columns we'll use for our analysis, and take a `50,000` record sample of the data to make computation more manageable.  We then split `tags` in order to find each record's most prominent label."
   ],
   "metadata": {
    "id": "h_RBngUke4Xs"
   }
  },
  {
   "cell_type": "code",
   "source": [
    "keep_cols = ['title', 'body', 'tags']\n",
    "\n",
    "# Drop unused columns\n",
    "data = data.drop(columns=set(data.columns) - set(keep_cols))\n",
    "data.head()"
   ],
   "metadata": {
    "id": "kGVG9uptgVFi",
    "colab": {
     "base_uri": "https://localhost:8080/",
     "height": 206
    },
    "outputId": "baa2944f-b2a1-4638-edb7-e5eb3692afce"
   },
   "execution_count": null,
   "outputs": [
    {
     "output_type": "execute_result",
     "data": {
      "text/plain": [
       "                                               title  \\\n",
       "0  az acr login raises DOCKER_COMMAND_ERROR with ...   \n",
       "1  Run Azure log query from the command line with...   \n",
       "2  Error CS0246: The type or namespace name 'Stre...   \n",
       "3  Google workspace account has been suspended wi...   \n",
       "4  Mac Unity package manager error resolving pack...   \n",
       "\n",
       "                                                body  \\\n",
       "0  <p>Windows 11 with wsl2 ubuntu-22.04.</p>\\n<p>...   \n",
       "1  <p>I am trying to get the Azure log query data...   \n",
       "2  <p>I have these errors when trying to write th...   \n",
       "3  <p>Many years ago I set up my domain so Google...   \n",
       "4  <p>I use unity 2021.3.7f1, I was creating a ne...   \n",
       "\n",
       "                                                tags  \n",
       "0             azure-container-registry|docker-daemon  \n",
       "1  azure|azure-devops|azure-application-insights|...  \n",
       "2                                         c#|unity3d  \n",
       "3                                   google-workspace  \n",
       "4                                            unity3d  "
      ],
      "text/html": [
       "\n",
       "  <div id=\"df-357537ab-fa42-4c23-a624-0e5e5968f278\">\n",
       "    <div class=\"colab-df-container\">\n",
       "      <div>\n",
       "<style scoped>\n",
       "    .dataframe tbody tr th:only-of-type {\n",
       "        vertical-align: middle;\n",
       "    }\n",
       "\n",
       "    .dataframe tbody tr th {\n",
       "        vertical-align: top;\n",
       "    }\n",
       "\n",
       "    .dataframe thead th {\n",
       "        text-align: right;\n",
       "    }\n",
       "</style>\n",
       "<table border=\"1\" class=\"dataframe\">\n",
       "  <thead>\n",
       "    <tr style=\"text-align: right;\">\n",
       "      <th></th>\n",
       "      <th>title</th>\n",
       "      <th>body</th>\n",
       "      <th>tags</th>\n",
       "    </tr>\n",
       "  </thead>\n",
       "  <tbody>\n",
       "    <tr>\n",
       "      <th>0</th>\n",
       "      <td>az acr login raises DOCKER_COMMAND_ERROR with ...</td>\n",
       "      <td>&lt;p&gt;Windows 11 with wsl2 ubuntu-22.04.&lt;/p&gt;\\n&lt;p&gt;...</td>\n",
       "      <td>azure-container-registry|docker-daemon</td>\n",
       "    </tr>\n",
       "    <tr>\n",
       "      <th>1</th>\n",
       "      <td>Run Azure log query from the command line with...</td>\n",
       "      <td>&lt;p&gt;I am trying to get the Azure log query data...</td>\n",
       "      <td>azure|azure-devops|azure-application-insights|...</td>\n",
       "    </tr>\n",
       "    <tr>\n",
       "      <th>2</th>\n",
       "      <td>Error CS0246: The type or namespace name 'Stre...</td>\n",
       "      <td>&lt;p&gt;I have these errors when trying to write th...</td>\n",
       "      <td>c#|unity3d</td>\n",
       "    </tr>\n",
       "    <tr>\n",
       "      <th>3</th>\n",
       "      <td>Google workspace account has been suspended wi...</td>\n",
       "      <td>&lt;p&gt;Many years ago I set up my domain so Google...</td>\n",
       "      <td>google-workspace</td>\n",
       "    </tr>\n",
       "    <tr>\n",
       "      <th>4</th>\n",
       "      <td>Mac Unity package manager error resolving pack...</td>\n",
       "      <td>&lt;p&gt;I use unity 2021.3.7f1, I was creating a ne...</td>\n",
       "      <td>unity3d</td>\n",
       "    </tr>\n",
       "  </tbody>\n",
       "</table>\n",
       "</div>\n",
       "      <button class=\"colab-df-convert\" onclick=\"convertToInteractive('df-357537ab-fa42-4c23-a624-0e5e5968f278')\"\n",
       "              title=\"Convert this dataframe to an interactive table.\"\n",
       "              style=\"display:none;\">\n",
       "        \n",
       "  <svg xmlns=\"http://www.w3.org/2000/svg\" height=\"24px\"viewBox=\"0 0 24 24\"\n",
       "       width=\"24px\">\n",
       "    <path d=\"M0 0h24v24H0V0z\" fill=\"none\"/>\n",
       "    <path d=\"M18.56 5.44l.94 2.06.94-2.06 2.06-.94-2.06-.94-.94-2.06-.94 2.06-2.06.94zm-11 1L8.5 8.5l.94-2.06 2.06-.94-2.06-.94L8.5 2.5l-.94 2.06-2.06.94zm10 10l.94 2.06.94-2.06 2.06-.94-2.06-.94-.94-2.06-.94 2.06-2.06.94z\"/><path d=\"M17.41 7.96l-1.37-1.37c-.4-.4-.92-.59-1.43-.59-.52 0-1.04.2-1.43.59L10.3 9.45l-7.72 7.72c-.78.78-.78 2.05 0 2.83L4 21.41c.39.39.9.59 1.41.59.51 0 1.02-.2 1.41-.59l7.78-7.78 2.81-2.81c.8-.78.8-2.07 0-2.86zM5.41 20L4 18.59l7.72-7.72 1.47 1.35L5.41 20z\"/>\n",
       "  </svg>\n",
       "      </button>\n",
       "      \n",
       "  <style>\n",
       "    .colab-df-container {\n",
       "      display:flex;\n",
       "      flex-wrap:wrap;\n",
       "      gap: 12px;\n",
       "    }\n",
       "\n",
       "    .colab-df-convert {\n",
       "      background-color: #E8F0FE;\n",
       "      border: none;\n",
       "      border-radius: 50%;\n",
       "      cursor: pointer;\n",
       "      display: none;\n",
       "      fill: #1967D2;\n",
       "      height: 32px;\n",
       "      padding: 0 0 0 0;\n",
       "      width: 32px;\n",
       "    }\n",
       "\n",
       "    .colab-df-convert:hover {\n",
       "      background-color: #E2EBFA;\n",
       "      box-shadow: 0px 1px 2px rgba(60, 64, 67, 0.3), 0px 1px 3px 1px rgba(60, 64, 67, 0.15);\n",
       "      fill: #174EA6;\n",
       "    }\n",
       "\n",
       "    [theme=dark] .colab-df-convert {\n",
       "      background-color: #3B4455;\n",
       "      fill: #D2E3FC;\n",
       "    }\n",
       "\n",
       "    [theme=dark] .colab-df-convert:hover {\n",
       "      background-color: #434B5C;\n",
       "      box-shadow: 0px 1px 3px 1px rgba(0, 0, 0, 0.15);\n",
       "      filter: drop-shadow(0px 1px 2px rgba(0, 0, 0, 0.3));\n",
       "      fill: #FFFFFF;\n",
       "    }\n",
       "  </style>\n",
       "\n",
       "      <script>\n",
       "        const buttonEl =\n",
       "          document.querySelector('#df-357537ab-fa42-4c23-a624-0e5e5968f278 button.colab-df-convert');\n",
       "        buttonEl.style.display =\n",
       "          google.colab.kernel.accessAllowed ? 'block' : 'none';\n",
       "\n",
       "        async function convertToInteractive(key) {\n",
       "          const element = document.querySelector('#df-357537ab-fa42-4c23-a624-0e5e5968f278');\n",
       "          const dataTable =\n",
       "            await google.colab.kernel.invokeFunction('convertToInteractive',\n",
       "                                                     [key], {});\n",
       "          if (!dataTable) return;\n",
       "\n",
       "          const docLinkHtml = 'Like what you see? Visit the ' +\n",
       "            '<a target=\"_blank\" href=https://colab.research.google.com/notebooks/data_table.ipynb>data table notebook</a>'\n",
       "            + ' to learn more about interactive tables.';\n",
       "          element.innerHTML = '';\n",
       "          dataTable['output_type'] = 'display_data';\n",
       "          await google.colab.output.renderOutput(dataTable, element);\n",
       "          const docLink = document.createElement('div');\n",
       "          docLink.innerHTML = docLinkHtml;\n",
       "          element.appendChild(docLink);\n",
       "        }\n",
       "      </script>\n",
       "    </div>\n",
       "  </div>\n",
       "  "
      ]
     },
     "metadata": {},
     "execution_count": 5
    }
   ]
  },
  {
   "cell_type": "code",
   "source": [
    "# Take a 50,000 record random sample \n",
    "df = data.sample(50000, random_state=42)\n",
    "df = df.reset_index(drop=True)\n",
    "len(df)"
   ],
   "metadata": {
    "id": "EDDMd98LgU_p",
    "colab": {
     "base_uri": "https://localhost:8080/"
    },
    "outputId": "e1650dae-12e2-4feb-c461-99d389044283"
   },
   "execution_count": null,
   "outputs": [
    {
     "output_type": "execute_result",
     "data": {
      "text/plain": [
       "50000"
      ]
     },
     "metadata": {},
     "execution_count": 6
    }
   ]
  },
  {
   "cell_type": "code",
   "source": [
    "# Split tags\n",
    "all_tags = []\n",
    "for tags in df['tags']:\n",
    "    tag_list = tags.split('|')\n",
    "    all_tags.extend(tag_list)\n",
    "\n",
    "# Count the occurrences of each tag\n",
    "tag_counts = Counter(all_tags)\n",
    "\n",
    "# Display the top 10 most occurring tags\n",
    "top_n_tags = 10\n",
    "most_common_tags = tag_counts.most_common(top_n_tags)\n",
    "print(most_common_tags)"
   ],
   "metadata": {
    "id": "Wc-Fs3rpgU4K",
    "colab": {
     "base_uri": "https://localhost:8080/"
    },
    "outputId": "19ef111e-b3ad-45c8-ece1-0d303444aa34"
   },
   "execution_count": null,
   "outputs": [
    {
     "output_type": "stream",
     "name": "stdout",
     "text": [
      "[('python', 7854), ('javascript', 5467), ('reactjs', 2960), ('java', 2338), ('c#', 2200), ('html', 1927), ('android', 1712), ('node.js', 1655), ('flutter', 1525), ('r', 1461)]\n"
     ]
    }
   ]
  },
  {
   "cell_type": "code",
   "source": [
    "len(set(all_tags))"
   ],
   "metadata": {
    "id": "8IRWMecJgc0c",
    "colab": {
     "base_uri": "https://localhost:8080/"
    },
    "outputId": "9ea597e7-42b0-4a2b-d607-9e7e53a99bf2"
   },
   "execution_count": null,
   "outputs": [
    {
     "output_type": "execute_result",
     "data": {
      "text/plain": [
       "14389"
      ]
     },
     "metadata": {},
     "execution_count": 8
    }
   ]
  },
  {
   "cell_type": "markdown",
   "source": [
    "We elect to keep only those records with the `10` most frequent labels in `tags`.  This makes our problem more feasible since in our `50,000` record sample, there are `14,389` distinct `tags`."
   ],
   "metadata": {
    "id": "umzVClzN9qG5"
   }
  },
  {
   "cell_type": "code",
   "source": [
    "# Find the most popular tag for each record, relative to the whole data set\n",
    "def most_common_tag(tags, tag_counts):\n",
    "    tag_list = tags.split('|')\n",
    "    tag_freqs = [(tag, tag_counts[tag]) for tag in tag_list]\n",
    "    most_common = max(tag_freqs, key=lambda x: x[1])\n",
    "    return most_common[0]\n",
    "\n",
    "# Extract individual tags\n",
    "all_tags = []\n",
    "for tags in df['tags']:\n",
    "    tag_list = tags.split('|')\n",
    "    all_tags.extend(tag_list)\n",
    "\n",
    "# Count the occurrences of each tag\n",
    "tag_counts = Counter(all_tags)\n",
    "\n",
    "# Find the most frequent tag for each row\n",
    "df['most_common_tag'] = df['tags'].apply(lambda tags: most_common_tag(tags, \n",
    "                                                                      tag_counts))\n",
    "\n",
    "print(df[['tags', 'most_common_tag']])"
   ],
   "metadata": {
    "id": "qIglIhoQgfAA",
    "colab": {
     "base_uri": "https://localhost:8080/"
    },
    "outputId": "62e71b31-02b9-4661-9949-1139ccd24ab3"
   },
   "execution_count": null,
   "outputs": [
    {
     "output_type": "stream",
     "name": "stdout",
     "text": [
      "                                                    tags      most_common_tag\n",
      "0                python|loops|web-scraping|beautifulsoup               python\n",
      "1                                laravel|terminal|routes              laravel\n",
      "2                                              mysql|sql                  sql\n",
      "3                javascript|class|constructor|apply|call           javascript\n",
      "4                                         prism|prismlib                prism\n",
      "...                                                  ...                  ...\n",
      "49995                          java|netbeans|netbeans-12                 java\n",
      "49996              amazon-web-services|amazon-s3|aws-cli  amazon-web-services\n",
      "49997                                sql|google-bigquery                  sql\n",
      "49998  java|spring|database|health-check|spring-actuator                 java\n",
      "49999                                          vba|forms                  vba\n",
      "\n",
      "[50000 rows x 2 columns]\n"
     ]
    }
   ]
  },
  {
   "cell_type": "code",
   "source": [
    "# Count records for each most_common_tag\n",
    "df['most_common_tag'].value_counts().head(10)"
   ],
   "metadata": {
    "id": "kg7-CZTTgl6M",
    "colab": {
     "base_uri": "https://localhost:8080/"
    },
    "outputId": "51a85d98-e15b-47d0-8cf5-6c4271e83aef"
   },
   "execution_count": null,
   "outputs": [
    {
     "output_type": "execute_result",
     "data": {
      "text/plain": [
       "python        7854\n",
       "javascript    5417\n",
       "java          2293\n",
       "c#            2153\n",
       "reactjs       1728\n",
       "r             1422\n",
       "flutter       1356\n",
       "android       1313\n",
       "php           1130\n",
       "c++           1113\n",
       "Name: most_common_tag, dtype: int64"
      ]
     },
     "metadata": {},
     "execution_count": 10
    }
   ]
  },
  {
   "cell_type": "code",
   "source": [
    "# Count unique tags\n",
    "df['most_common_tag'].nunique()"
   ],
   "metadata": {
    "id": "aWCa3BNhgoUR",
    "colab": {
     "base_uri": "https://localhost:8080/"
    },
    "outputId": "b6a280db-8d7d-49d4-8d1f-e433c21c3252"
   },
   "execution_count": null,
   "outputs": [
    {
     "output_type": "execute_result",
     "data": {
      "text/plain": [
       "2355"
      ]
     },
     "metadata": {},
     "execution_count": 11
    }
   ]
  },
  {
   "cell_type": "markdown",
   "source": [
    "The preparation of our labels which looks at only the 10 most common `tags` leaves at least `1,113` records for our least common label, \"c++\".  Within this subset of data, there still exists `2,355` distinct tags, which indicates the diversity of posts still present in our sample.  When we limit our data to only those with one of the most common `tags`, we are left with `25,779` records."
   ],
   "metadata": {
    "id": "1SapqEmb-g3d"
   }
  },
  {
   "cell_type": "code",
   "source": [
    "top10 = list(df['most_common_tag'].value_counts().head(10).index.values)\n",
    "df_top10 = df[df['most_common_tag'].isin(top10)]\n",
    "df_top10 = df_top10.reset_index(drop=True)\n",
    "df_top10.count()"
   ],
   "metadata": {
    "id": "GXWuKg2bgtSc",
    "colab": {
     "base_uri": "https://localhost:8080/"
    },
    "outputId": "0925b6f7-0326-47a0-c9b5-a66ffbd5184f"
   },
   "execution_count": null,
   "outputs": [
    {
     "output_type": "execute_result",
     "data": {
      "text/plain": [
       "title              25779\n",
       "body               25779\n",
       "tags               25779\n",
       "most_common_tag    25779\n",
       "dtype: int64"
      ]
     },
     "metadata": {},
     "execution_count": 12
    }
   ]
  },
  {
   "cell_type": "markdown",
   "source": [
    "## 3. Model Development"
   ],
   "metadata": {
    "id": "d3QOoIIZe4gy"
   }
  },
  {
   "cell_type": "markdown",
   "source": [
    "For each of the models we'll develop, some parameters will stay the same.  These are `adam` as the optimizer, `categorical_crossentropy` as the loss function, and `categorical_accuracy` as a tracked metric.  We selected `adam` as an optimizer because it was purpose-built for deep learning and improves upon stochastic gradient descent in terms of performance without overfitting.\n",
    "\n",
    "`categorical_crossentropy` is an intuitive loss function for our prediction problem, since it works with one-hot encoded labels in a multiclass space. Finally, we choose `categorical_accuracy` as a metric for its interpretability with regard to our labels."
   ],
   "metadata": {
    "id": "7yyDOm1eZXuk"
   }
  },
  {
   "cell_type": "markdown",
   "source": [
    "### 3.1. Dense, Feed-forward Neural Network"
   ],
   "metadata": {
    "id": "sBW_wS_ae4nI"
   }
  },
  {
   "cell_type": "markdown",
   "source": [
    "#### 3.1.1. Cleaning Text for Dense Neural Network\n",
    "\n",
    "The first model we attempt is a dense neural network.  For this relatively simple model, perform the following preprocessing steps:\n",
    "\n",
    "1. Merge `title` and `body` in order to make a combined `text` feature, our corpus.\n",
    "\n",
    "2. Remove symbols and extra spaces from `text`.\n",
    "\n",
    "3. Remove stopwords found in spaCy's English stopword dictionary. Stopwords are commonly used prepositions and pronouns that convey little substantive meaning in language.\n",
    "\n",
    "4. Identify and count all unique terms used in our body of `text`.\n",
    "\n",
    "5. Remove all but the `10,000` most frequently used terms, or tokens, in the corpus.\n",
    "\n",
    "6. Index and one-hot encode each record (document) for its present tokens.\n",
    "\n",
    "This process, a unigram approach to learning each document, makes the presence of each individual token a predictor in our classification problem."
   ],
   "metadata": {
    "id": "WuzcuL9xe4eH"
   }
  },
  {
   "cell_type": "code",
   "source": [
    "# Define text cleaning function\n",
    "def clean_text(text):\n",
    "    text = re.sub(r'[^\\w ]', ' ', text)  # Remove HTML tags\n",
    "    text = re.sub(r'\\s+', ' ', text)  # Remove extra spaces\n",
    "    text = text.strip()  # Remove leading and trailing spaces\n",
    "    return text\n",
    "\n",
    "# Combine the Title and Body\n",
    "df_top10['text'] = df_top10['title'] + ' ' + df_top10['body']\n",
    "df_top10['text'] = df_top10['text'].apply(clean_text)"
   ],
   "metadata": {
    "id": "_CXrVXhZhEWb"
   },
   "execution_count": null,
   "outputs": []
  },
  {
   "cell_type": "code",
   "source": [
    "df_top10['text']"
   ],
   "metadata": {
    "id": "I5twULMUhEUf",
    "colab": {
     "base_uri": "https://localhost:8080/"
    },
    "outputId": "35b89fa3-6e62-43e0-bd16-25974441dbb5"
   },
   "execution_count": null,
   "outputs": [
    {
     "output_type": "execute_result",
     "data": {
      "text/plain": [
       "0        how to iterate through a list of URL and save ...\n",
       "1        Why use constructor at all p I came across the...\n",
       "2        How to instantiate different subclasses by str...\n",
       "3        data gets repeated when input to text file p i...\n",
       "4        How to create a dynamic GraphQL query using va...\n",
       "                               ...                        \n",
       "25774    R Automatically Forcing Titles To Become Horiz...\n",
       "25775    How to use GL_TEXTURE_2D_ARRAY with stb_image ...\n",
       "25776    Finding elements by Class returning blank list...\n",
       "25777    repeat number sequence on java p So recently a...\n",
       "25778    Change HealthIndicator s status based on anoth...\n",
       "Name: text, Length: 25779, dtype: object"
      ]
     },
     "metadata": {},
     "execution_count": 14
    }
   ]
  },
  {
   "cell_type": "code",
   "source": [
    "# Strip punctuation, odd characters, and make things lower-case\n",
    "text = []\n",
    "for i in range(len(df_top10)):\n",
    "  text.append(text_to_word_sequence(df_top10['text'][i], \n",
    "                                    filters='!\"#$%&()*+,./:;<=>?@[\\\\]^_`{|}~\\t\\n0123456789'))"
   ],
   "metadata": {
    "id": "ghDP0AH1hESP"
   },
   "execution_count": null,
   "outputs": []
  },
  {
   "cell_type": "code",
   "source": [
    "print(f\"Without removing stopwords, the first entry in text has {len(text[0])} words.\")"
   ],
   "metadata": {
    "id": "GCV4DpJwhEP4",
    "colab": {
     "base_uri": "https://localhost:8080/"
    },
    "outputId": "2113baec-9508-44a8-b29c-c9372c3cc852"
   },
   "execution_count": null,
   "outputs": [
    {
     "output_type": "stream",
     "name": "stdout",
     "text": [
      "Without removing stopwords, the first entry in text has 346 words.\n"
     ]
    }
   ]
  },
  {
   "cell_type": "code",
   "source": [
    "# Load the spaCy English language model\n",
    "nlp = spacy.load('en_core_web_sm')\n",
    "\n",
    "# Define a set of stopwords\n",
    "stopwords = set(spacy.lang.en.stop_words.STOP_WORDS)\n",
    "\n",
    "# Remove stopwords from text\n",
    "terms = [[word for word in post if word not in stopwords] for post in text]\n",
    "\n",
    "# Check fewer words in terms\n",
    "print(f\"Without stopwords, the first entry in terms has {len(terms[0])} words.\")\n",
    "\n",
    "# Count the occurrences of each word in text\n",
    "word_counts = Counter(word for post in terms for word in post)\n",
    "\n",
    "# Sort word_counts\n",
    "sorted_set = sorted(word_counts.items(), key=lambda x: x[1], reverse=True)\n",
    "\n",
    "# Create unique_terms dictionary from sorted_set\n",
    "unique_terms = dict(sorted_set)\n",
    "\n",
    "# Create a dictionary containing only the 10,000 most frequent words\n",
    "frequent_terms = dict(sorted_set[:10000])\n",
    "\n",
    "# Remove infrequent words from text\n",
    "filtered_terms = [list(set([word for word in sublist if word in frequent_terms])) for sublist in terms]"
   ],
   "metadata": {
    "id": "W3OZsAuwhENb",
    "colab": {
     "base_uri": "https://localhost:8080/"
    },
    "outputId": "62f5baa6-41d9-4a7a-8f32-79306afe9b7f"
   },
   "execution_count": null,
   "outputs": [
    {
     "output_type": "stream",
     "name": "stdout",
     "text": [
      "Without stopwords, the first entry in terms has 294 words.\n"
     ]
    }
   ]
  },
  {
   "cell_type": "code",
   "source": [
    "# Generae an index for each term to be used in the one-hot matrix\n",
    "word_index = {term: i for i, term in enumerate(frequent_terms)}"
   ],
   "metadata": {
    "id": "HlE7XaJZhELB"
   },
   "execution_count": null,
   "outputs": []
  },
  {
   "cell_type": "code",
   "source": [
    "# Define a function to assign values to our one-hot matrix\n",
    "def vectorize_posts(posts, dimension=len(frequent_terms)): \n",
    "    # Make our blank matrix of 0's to store hot encodings.\n",
    "    results = np.zeros((len(posts), dimension))\n",
    "\n",
    "    # For each observation and element in that observation,\n",
    "    # Update the blank matrix to a 1 at row obs, column element value.\n",
    "    for i, term in enumerate(posts):\n",
    "        for j in term:\n",
    "            results[i, word_index[j]] = 1\n",
    "    return results\n",
    "\n",
    "# One-hot encode top 10,000 tokens, our predictors\n",
    "text_onehot = vectorize_posts(filtered_terms)\n",
    "predictors = text_onehot\n",
    "predictors.shape"
   ],
   "metadata": {
    "id": "znI1odADhEGj",
    "colab": {
     "base_uri": "https://localhost:8080/"
    },
    "outputId": "0765618d-c720-4a3d-c3dd-485832eaae02"
   },
   "execution_count": null,
   "outputs": [
    {
     "output_type": "execute_result",
     "data": {
      "text/plain": [
       "(25779, 10000)"
      ]
     },
     "metadata": {},
     "execution_count": 19
    }
   ]
  },
  {
   "cell_type": "code",
   "source": [
    "text_onehot[:5]"
   ],
   "metadata": {
    "id": "KrAo-OQQhcwK",
    "colab": {
     "base_uri": "https://localhost:8080/"
    },
    "outputId": "114418ca-81f5-4fbb-9ae5-269d3543f7bb"
   },
   "execution_count": null,
   "outputs": [
    {
     "output_type": "execute_result",
     "data": {
      "text/plain": [
       "array([[1., 1., 1., ..., 0., 0., 0.],\n",
       "       [1., 1., 1., ..., 0., 0., 0.],\n",
       "       [1., 1., 1., ..., 0., 0., 0.],\n",
       "       [1., 1., 1., ..., 0., 0., 0.],\n",
       "       [0., 1., 1., ..., 0., 0., 0.]])"
      ]
     },
     "metadata": {},
     "execution_count": 20
    }
   ]
  },
  {
   "cell_type": "markdown",
   "source": [
    "#### 3.1.2. One-Hot Encoding Labels\n",
    "\n",
    "We also one-hot encode the top `10` tags, our labels in this problem, to follow the same structure as our predictors and because there is no ordinal relationship between `tags`."
   ],
   "metadata": {
    "id": "63I7d0pxDSgb"
   }
  },
  {
   "cell_type": "code",
   "source": [
    "labels = df_top10[\"most_common_tag\"]"
   ],
   "metadata": {
    "id": "PRaddQOwhcyv"
   },
   "execution_count": null,
   "outputs": []
  },
  {
   "cell_type": "code",
   "source": [
    "labels.shape"
   ],
   "metadata": {
    "id": "U5SanmkChead",
    "colab": {
     "base_uri": "https://localhost:8080/"
    },
    "outputId": "1f7d38e6-b63b-4189-9126-bf734ee65237"
   },
   "execution_count": null,
   "outputs": [
    {
     "output_type": "execute_result",
     "data": {
      "text/plain": [
       "(25779,)"
      ]
     },
     "metadata": {},
     "execution_count": 22
    }
   ]
  },
  {
   "cell_type": "code",
   "source": [
    "# Convert labels to integer values\n",
    "encoder = LabelEncoder()\n",
    "encoded_labels = encoder.fit_transform(labels)\n",
    "labels_onehot = keras.utils.to_categorical(encoded_labels)\n",
    "print(labels_onehot)"
   ],
   "metadata": {
    "id": "i3zXPSxKiXnG",
    "colab": {
     "base_uri": "https://localhost:8080/"
    },
    "outputId": "41fa2022-448a-4e8a-98d9-4b2c175bf01c"
   },
   "execution_count": null,
   "outputs": [
    {
     "output_type": "stream",
     "name": "stdout",
     "text": [
      "[[0. 0. 0. ... 1. 0. 0.]\n",
      " [0. 0. 0. ... 0. 0. 0.]\n",
      " [0. 0. 1. ... 0. 0. 0.]\n",
      " ...\n",
      " [0. 0. 0. ... 1. 0. 0.]\n",
      " [0. 0. 0. ... 0. 0. 0.]\n",
      " [0. 0. 0. ... 0. 0. 0.]]\n"
     ]
    }
   ]
  },
  {
   "cell_type": "markdown",
   "source": [
    "#### 3.1.3. Train-Test Split\n",
    "\n",
    "We segment our data into training and testing sets to measure how accurately our model can predict the label associated with each question."
   ],
   "metadata": {
    "id": "oMrFbFBxi3aB"
   }
  },
  {
   "cell_type": "code",
   "source": [
    "# Split the data using encoded_labels\n",
    "train_data, test_data, train_labels, test_labels = train_test_split(\n",
    "  predictors, labels_onehot, test_size=0.2, random_state=42\n",
    ")"
   ],
   "metadata": {
    "id": "4nx-3PhSi7rS"
   },
   "execution_count": null,
   "outputs": []
  },
  {
   "cell_type": "markdown",
   "source": [
    "#### 3.1.4. Model Training\n",
    "\n",
    "Here we train our dense neural network on `80`% of the original `25,779` documents attributable to the top `10` tags. We keep `20`% of the training set as a validation set, in order to estimate the model's label predictions of unseen documents.  \n",
    "\n",
    "The model begins with a Dropout layer which randomly sets `50`% of inputs to `0` which helps prevent overfitting during training.  This layer is followed by `3` Dense layers with decreasing units, each executing `output = activation(dot(input, kernel) + bias)`.  The first `2` Dense layers use rectified linear unit (relu) activations, and the final Dense layer processes `10` units, the possible labels for each document, and uses the softmax activation function to output a single label prediction."
   ],
   "metadata": {
    "id": "_lA-9l-jjKkX"
   }
  },
  {
   "cell_type": "code",
   "source": [
    "# Dense network\n",
    "def build_model():\n",
    "    model = keras.Sequential([\n",
    "        layers.Dropout(0.5),\n",
    "        layers.Dense(750, activation=\"relu\", kernel_regularizer=\"l2\"),\n",
    "        layers.Dense(50, activation=\"relu\", kernel_regularizer=\"l2\"),\n",
    "        layers.Dense(10, activation=\"softmax\")\n",
    "    ])\n",
    "    model.compile(optimizer=\"adam\", loss=\"categorical_crossentropy\", metrics=[\"categorical_accuracy\"])\n",
    "    return model\n",
    "\n",
    "model = build_model()"
   ],
   "metadata": {
    "id": "nMN44Xtb95lx"
   },
   "execution_count": null,
   "outputs": []
  },
  {
   "cell_type": "code",
   "source": [
    "# Train dense network and keep best version\n",
    "callbacks = [\n",
    "    keras.callbacks.ModelCheckpoint(\n",
    "        filepath=\"DenseNet.keras\",\n",
    "        save_best_only=True,\n",
    "        monitor=\"val_loss\")\n",
    "]\n",
    "\n",
    "history = model.fit(train_data, train_labels, validation_split=0.2, epochs=20, batch_size=25, callbacks=callbacks)"
   ],
   "metadata": {
    "colab": {
     "base_uri": "https://localhost:8080/"
    },
    "id": "tDi-byuTD1sU",
    "outputId": "aa669fae-75f9-4d4b-a268-03a65c068bdf"
   },
   "execution_count": null,
   "outputs": [
    {
     "output_type": "stream",
     "name": "stdout",
     "text": [
      "Epoch 1/20\n",
      "660/660 [==============================] - 5s 6ms/step - loss: 2.1723 - categorical_accuracy: 0.6484 - val_loss: 1.5308 - val_categorical_accuracy: 0.7741\n",
      "Epoch 2/20\n",
      "660/660 [==============================] - 3s 5ms/step - loss: 1.7322 - categorical_accuracy: 0.6841 - val_loss: 1.4374 - val_categorical_accuracy: 0.7947\n",
      "Epoch 3/20\n",
      "660/660 [==============================] - 3s 5ms/step - loss: 1.5573 - categorical_accuracy: 0.7091 - val_loss: 1.2767 - val_categorical_accuracy: 0.7949\n",
      "Epoch 4/20\n",
      "660/660 [==============================] - 3s 5ms/step - loss: 1.4368 - categorical_accuracy: 0.7143 - val_loss: 1.1601 - val_categorical_accuracy: 0.7971\n",
      "Epoch 5/20\n",
      "660/660 [==============================] - 3s 5ms/step - loss: 1.3258 - categorical_accuracy: 0.7341 - val_loss: 1.0971 - val_categorical_accuracy: 0.8133\n",
      "Epoch 6/20\n",
      "660/660 [==============================] - 3s 5ms/step - loss: 1.2462 - categorical_accuracy: 0.7408 - val_loss: 1.0338 - val_categorical_accuracy: 0.8276\n",
      "Epoch 7/20\n",
      "660/660 [==============================] - 3s 5ms/step - loss: 1.1906 - categorical_accuracy: 0.7484 - val_loss: 0.9745 - val_categorical_accuracy: 0.8124\n",
      "Epoch 8/20\n",
      "660/660 [==============================] - 3s 5ms/step - loss: 1.1468 - categorical_accuracy: 0.7542 - val_loss: 0.9336 - val_categorical_accuracy: 0.8255\n",
      "Epoch 9/20\n",
      "660/660 [==============================] - 3s 5ms/step - loss: 1.1125 - categorical_accuracy: 0.7580 - val_loss: 0.9382 - val_categorical_accuracy: 0.8187\n",
      "Epoch 10/20\n",
      "660/660 [==============================] - 3s 5ms/step - loss: 1.0969 - categorical_accuracy: 0.7592 - val_loss: 0.8968 - val_categorical_accuracy: 0.8327\n",
      "Epoch 11/20\n",
      "660/660 [==============================] - 3s 5ms/step - loss: 1.0721 - categorical_accuracy: 0.7600 - val_loss: 0.8776 - val_categorical_accuracy: 0.8359\n",
      "Epoch 12/20\n",
      "660/660 [==============================] - 3s 5ms/step - loss: 1.0449 - categorical_accuracy: 0.7679 - val_loss: 0.8776 - val_categorical_accuracy: 0.8424\n",
      "Epoch 13/20\n",
      "660/660 [==============================] - 3s 5ms/step - loss: 1.0360 - categorical_accuracy: 0.7757 - val_loss: 0.8616 - val_categorical_accuracy: 0.8308\n",
      "Epoch 14/20\n",
      "660/660 [==============================] - 3s 5ms/step - loss: 1.0245 - categorical_accuracy: 0.7710 - val_loss: 0.8479 - val_categorical_accuracy: 0.8298\n",
      "Epoch 15/20\n",
      "660/660 [==============================] - 3s 5ms/step - loss: 1.0202 - categorical_accuracy: 0.7691 - val_loss: 0.8270 - val_categorical_accuracy: 0.8487\n",
      "Epoch 16/20\n",
      "660/660 [==============================] - 3s 5ms/step - loss: 0.9996 - categorical_accuracy: 0.7765 - val_loss: 0.8454 - val_categorical_accuracy: 0.8405\n",
      "Epoch 17/20\n",
      "660/660 [==============================] - 3s 5ms/step - loss: 1.0006 - categorical_accuracy: 0.7755 - val_loss: 0.8289 - val_categorical_accuracy: 0.8376\n",
      "Epoch 18/20\n",
      "660/660 [==============================] - 3s 5ms/step - loss: 0.9956 - categorical_accuracy: 0.7755 - val_loss: 0.8300 - val_categorical_accuracy: 0.8322\n",
      "Epoch 19/20\n",
      "660/660 [==============================] - 3s 5ms/step - loss: 0.9814 - categorical_accuracy: 0.7799 - val_loss: 0.8419 - val_categorical_accuracy: 0.8383\n",
      "Epoch 20/20\n",
      "660/660 [==============================] - 3s 5ms/step - loss: 0.9930 - categorical_accuracy: 0.7778 - val_loss: 0.8381 - val_categorical_accuracy: 0.8327\n"
     ]
    }
   ]
  },
  {
   "cell_type": "code",
   "source": [
    "# Plot model\n",
    "keras.utils.plot_model(model, show_shapes=True)"
   ],
   "metadata": {
    "colab": {
     "base_uri": "https://localhost:8080/",
     "height": 533
    },
    "id": "e9k454_fP596",
    "outputId": "10d33aa9-4e61-4a3d-b604-3e20acc1f32c"
   },
   "execution_count": null,
   "outputs": [
    {
     "output_type": "execute_result",
     "data": {
      "image/png": "[encoded data removed]",
      "text/plain": [
       "<IPython.core.display.Image object>"
      ]
     },
     "metadata": {},
     "execution_count": 28
    }
   ]
  },
  {
   "cell_type": "code",
   "source": [
    "# Visualize training and validation performance\n",
    "plt.style.use('ggplot')\n",
    "\n",
    "plt.plot(history.history['categorical_accuracy'],c=\"r\")\n",
    "plt.plot(history.history['val_categorical_accuracy'],c=\"b\")\n",
    "plt.legend(['Training','Validation'])\n",
    "plt.show()"
   ],
   "metadata": {
    "colab": {
     "base_uri": "https://localhost:8080/",
     "height": 430
    },
    "id": "TMIOr0y4KjzO",
    "outputId": "14e500ed-1e4c-4be6-99a8-2007dabda3fa"
   },
   "execution_count": null,
   "outputs": [
    {
     "output_type": "display_data",
     "data": {
      "text/plain": [
       "<Figure size 640x480 with 1 Axes>"
      ],
      "image/png": "[encoded data removed]"
     },
     "metadata": {}
    }
   ]
  },
  {
   "cell_type": "markdown",
   "source": [
    "The Dense model ends training with a validation categorical accuracy of `0.8327`. This means that roughly `83`% of the time, the model predicts the correct one-hot encoded label for a document in the validation set.  This is considerably higher than a random guess, which in this case would have categorical accuracy equal to `0.10`, or `10`% probability. This model does not overfit, and validation categorical accuracy remains higher than training categorical accuracy during all epochs.  This may indicate that the model disproportionately predicts one label, such as \"python\", the most common label, since this would generally be correct.  This effect may also be attributable to our use of regularization and dropout, although these should not impact our training predictions.  We will attempt to prevent this in future models by experimenting with different data preprocessing techniques."
   ],
   "metadata": {
    "id": "7dFMNv1MQfv_"
   }
  },
  {
   "cell_type": "markdown",
   "source": [
    "#### 3.1.5. Model Evaluation"
   ],
   "metadata": {
    "id": "qJjqxG_9jOsX"
   }
  },
  {
   "cell_type": "code",
   "source": [
    "model = keras.models.load_model(\"DenseNet.keras\")\n",
    "test_perf = model.evaluate(test_data, test_labels)\n",
    "print(f'Accuracy in the test set is {test_perf[1]*100:.2f}%.')"
   ],
   "metadata": {
    "colab": {
     "base_uri": "https://localhost:8080/"
    },
    "id": "VyaOL78O-IM3",
    "outputId": "4fef800e-4cbc-4d3f-bb3b-fc9e02073151"
   },
   "execution_count": null,
   "outputs": [
    {
     "output_type": "stream",
     "name": "stdout",
     "text": [
      "162/162 [==============================] - 1s 3ms/step - loss: 0.8350 - categorical_accuracy: 0.8466\n",
      "Accuracy in the test set is 84.66%.\n"
     ]
    }
   ]
  },
  {
   "cell_type": "markdown",
   "source": [
    "When applied to the test set, the dense model performs roughly the same in terms of categorical accuracy at `0.8350`, or `85.30`%."
   ],
   "metadata": {
    "id": "nEpBaWldZs9H"
   }
  },
  {
   "cell_type": "markdown",
   "source": [
    "### 3.2. Convolutional Neural Network"
   ],
   "metadata": {
    "id": "OVpLW7Ooh2JI"
   }
  },
  {
   "cell_type": "markdown",
   "source": [
    "#### 3.2.1. Cleaning Labels for CNN\n",
    "\n",
    "For our Convolutional Neural Network (CNN), we will use a new data pre-processing method using a `TextVectorization` layer from Keras to generate integer encodings of each word in our vocabulary.  Since this is a more computationally intense process, we will limit our sample to `5,000` records with no more than `2,000` tokens in the vocabulary.  We then filter for only those records with one of the `10` most popular tags, resulting in `2,625` documents."
   ],
   "metadata": {
    "id": "GJldPF6Ia_Ga"
   }
  },
  {
   "cell_type": "code",
   "source": [
    "df = data.sample(5000, random_state=42)\n",
    "df = df.reset_index(drop=True)\n",
    "len(df)"
   ],
   "metadata": {
    "colab": {
     "base_uri": "https://localhost:8080/"
    },
    "id": "7ymBYIrDbJ7a",
    "outputId": "2b9ebfa7-28f0-440a-a075-822bda2ee2de"
   },
   "execution_count": null,
   "outputs": [
    {
     "output_type": "execute_result",
     "data": {
      "text/plain": [
       "5000"
      ]
     },
     "metadata": {},
     "execution_count": 21
    }
   ]
  },
  {
   "cell_type": "code",
   "source": [
    "# Find the most popular tag for each record, relative to the whole data set\n",
    "def most_common_tag(tags, tag_counts):\n",
    "    tag_list = tags.split('|')\n",
    "    tag_freqs = [(tag, tag_counts[tag]) for tag in tag_list]\n",
    "    most_common = max(tag_freqs, key=lambda x: x[1])\n",
    "    return most_common[0]\n",
    "\n",
    "# Extract individual tags\n",
    "all_tags = []\n",
    "for tags in df['tags']:\n",
    "    tag_list = tags.split('|')\n",
    "    all_tags.extend(tag_list)\n",
    "\n",
    "# Count the occurrences of each tag\n",
    "tag_counts = Counter(all_tags)\n",
    "\n",
    "# Find the most frequent tag for each row\n",
    "df['most_common_tag'] = df['tags'].apply(lambda tags: most_common_tag(tags, \n",
    "                                                                      tag_counts))\n",
    "\n",
    "print(df[['tags', 'most_common_tag']])"
   ],
   "metadata": {
    "colab": {
     "base_uri": "https://localhost:8080/"
    },
    "id": "_Qmj8wx3bp81",
    "outputId": "ccf53029-31b8-422b-845d-64d2634498cf"
   },
   "execution_count": null,
   "outputs": [
    {
     "output_type": "stream",
     "name": "stdout",
     "text": [
      "                                                   tags most_common_tag\n",
      "0               python|loops|web-scraping|beautifulsoup          python\n",
      "1                               laravel|terminal|routes         laravel\n",
      "2                                             mysql|sql             sql\n",
      "3               javascript|class|constructor|apply|call      javascript\n",
      "4                                        prism|prismlib           prism\n",
      "...                                                 ...             ...\n",
      "4995                                            angular         angular\n",
      "4996                       r|ggplot2|plot|legend|raster               r\n",
      "4997  python|function|class|recursion|binary-search-...          python\n",
      "4998                               c#|unity3d|inventory              c#\n",
      "4999                                 javascript|astrojs      javascript\n",
      "\n",
      "[5000 rows x 2 columns]\n"
     ]
    }
   ]
  },
  {
   "cell_type": "code",
   "source": [
    "# Count records for each most_common_tag\n",
    "df['most_common_tag'].value_counts().head(10)"
   ],
   "metadata": {
    "colab": {
     "base_uri": "https://localhost:8080/"
    },
    "id": "elFe9B8ibtz5",
    "outputId": "101f82d7-4428-494a-99e2-495bdebeb349"
   },
   "execution_count": null,
   "outputs": [
    {
     "output_type": "execute_result",
     "data": {
      "text/plain": [
       "python        822\n",
       "javascript    532\n",
       "java          234\n",
       "c#            215\n",
       "android       155\n",
       "reactjs       153\n",
       "flutter       143\n",
       "r             136\n",
       "c++           118\n",
       "php           117\n",
       "Name: most_common_tag, dtype: int64"
      ]
     },
     "metadata": {},
     "execution_count": 23
    }
   ]
  },
  {
   "cell_type": "code",
   "source": [
    "top10 = list(df['most_common_tag'].value_counts().head(10).index.values)\n",
    "df_top10 = df[df['most_common_tag'].isin(top10)]\n",
    "df_top10 = df_top10.reset_index(drop=True)\n",
    "df_top10.count()"
   ],
   "metadata": {
    "colab": {
     "base_uri": "https://localhost:8080/"
    },
    "id": "GSfHmXQ1byet",
    "outputId": "fab4ca3d-cae1-468f-a1cb-ec4dcf800d5d"
   },
   "execution_count": null,
   "outputs": [
    {
     "output_type": "execute_result",
     "data": {
      "text/plain": [
       "title              2625\n",
       "body               2625\n",
       "tags               2625\n",
       "most_common_tag    2625\n",
       "dtype: int64"
      ]
     },
     "metadata": {},
     "execution_count": 24
    }
   ]
  },
  {
   "cell_type": "code",
   "source": [
    "labels = df_top10[\"most_common_tag\"]"
   ],
   "metadata": {
    "id": "FowtD1I3b4BU"
   },
   "execution_count": null,
   "outputs": []
  },
  {
   "cell_type": "markdown",
   "source": [
    "Again, we one-hot encode the labels for use with `categorical_accuracy` as our loss function."
   ],
   "metadata": {
    "id": "XMEF2mhbb9mA"
   }
  },
  {
   "cell_type": "code",
   "source": [
    "# Convert labels to integer values\n",
    "encoder = LabelEncoder()\n",
    "encoded_labels = encoder.fit_transform(labels)\n",
    "labels_onehot = keras.utils.to_categorical(encoded_labels)\n",
    "print(labels_onehot)"
   ],
   "metadata": {
    "colab": {
     "base_uri": "https://localhost:8080/"
    },
    "id": "k1X0sOyMb6Er",
    "outputId": "e22cf9b3-c04d-44db-8585-253e1b8f25f6"
   },
   "execution_count": null,
   "outputs": [
    {
     "output_type": "stream",
     "name": "stdout",
     "text": [
      "[[0. 0. 0. ... 1. 0. 0.]\n",
      " [0. 0. 0. ... 0. 0. 0.]\n",
      " [0. 0. 1. ... 0. 0. 0.]\n",
      " ...\n",
      " [0. 0. 0. ... 1. 0. 0.]\n",
      " [0. 1. 0. ... 0. 0. 0.]\n",
      " [0. 0. 0. ... 0. 0. 0.]]\n"
     ]
    }
   ]
  },
  {
   "cell_type": "markdown",
   "source": [
    "#### 3.2.2. Cleaning Text for CNN\n",
    "\n",
    "We repeat many of the same steps from above for CNN and RNN, except here we rely on the TextVectorization layer to do some of the work for us, like placing all tokens in lower case and limiting vocabulary to `2,000` terms.  This is the first time we limit document length to the first `1,000` tokens, and this is again to limit the computational power required to run each model.  Most documents in the data set were longer than `1,000` tokens, but not all of these were legitimate.  Some were artifacts from URLs and other embedded text from the original Stack Overflow posts."
   ],
   "metadata": {
    "id": "V25vW2um4xc2"
   }
  },
  {
   "cell_type": "code",
   "source": [
    "# Load spaCy's English language model\n",
    "nlp = spacy.load('en_core_web_sm')\n",
    "\n",
    "# Clean text\n",
    "def clean_text(text):\n",
    "    text = re.sub(r'[^\\w ]', ' ', text)  # Remove HTML tags\n",
    "    text = re.sub(r'\\s+', ' ', text)  # Remove extra spaces\n",
    "    text = text.strip()  # Remove leading and trailing spaces\n",
    "    return text\n",
    "\n",
    "# Remove stopwords\n",
    "def remove_stopwords(text):\n",
    "    doc = nlp(text)\n",
    "    tokens = [token.text for token in doc if not token.is_stop][:1000] # Cuts strings at 1000 tokens\n",
    "    return ' '.join(tokens)\n",
    "\n",
    "# Combine the title and body\n",
    "df_top10['text'] = df_top10['title'] + ' ' + df_top10['body']\n",
    "\n",
    "# Apply the clean_text and remove_stopwords functions\n",
    "df_top10['text'] = df_top10['text'].apply(clean_text)\n",
    "df_top10['text'] = df_top10['text'].apply(remove_stopwords)\n",
    "\n",
    "# Store in array\n",
    "text = df_top10['text'].to_numpy()"
   ],
   "metadata": {
    "id": "FTYRTxKEcFeA"
   },
   "execution_count": null,
   "outputs": []
  },
  {
   "cell_type": "code",
   "source": [
    "text_vectorization = keras.layers.TextVectorization(\n",
    "    max_tokens=2000, # We will use the 2000 most frequent terms; doing this automatically pads the sequences.\n",
    "    output_mode=\"int\")\n",
    "\n",
    "text_vectorization.adapt(text)"
   ],
   "metadata": {
    "id": "dHbLdRt1cJRL"
   },
   "execution_count": null,
   "outputs": []
  },
  {
   "cell_type": "markdown",
   "source": [
    "This layer will assign an integer value to each of the most frequent `2,000` words. The vector representation of the cleaned text is visible as output to the next block of code. Here, `1` indicates an unknown token and `0` indicates a blank space appended as padding so that all sequences are the same length.  This is important for implementing a CNN since convolutional operations rely on padding to preserve meaningful data in the original dimensions of the subject tensor. Next, we'll one-hot encode these vector representations of our vocabulary and train the CNN."
   ],
   "metadata": {
    "id": "ZosQdk2HcOIC"
   }
  },
  {
   "cell_type": "code",
   "source": [
    "clean_text = text[0]\n",
    "print(f'CLEAN TEXT: \\n{clean_text}\\n')\n",
    "text_len = len(clean_text.split(' '))\n",
    "print(f'DETAILS: \\nThe post contains roughly {text_len} words (based on white spaces).')\n",
    "vectorized_post = text_vectorization(text)\n",
    "print(f'It\\'s vectorized (and padded) form contains {vectorized_post.shape[1]} tokens.\\n')\n",
    "print(f'VECTOR REPRESENTATION:\\n')\n",
    "vectorized_post[0]"
   ],
   "metadata": {
    "colab": {
     "base_uri": "https://localhost:8080/"
    },
    "id": "1BXoEcX3cNgn",
    "outputId": "d06d9cf8-9283-43bd-af5c-9cc50f509393"
   },
   "execution_count": null,
   "outputs": [
    {
     "output_type": "stream",
     "name": "stdout",
     "text": [
      "CLEAN TEXT: \n",
      "iterate list URL save CSV pre code import requests bs4 import BeautifulSoup headers User Agent Mozilla 5 0 Macintosh Intel Mac OS X 10_15_7 AppleWebKit 537 36 KHTML like Gecko Chrome 103 0 0 0 Safari 537 36 Accept Language en en q 0 5 URL quot https www amazon com TRESemm C3 A9 Botanique Shampoo Nourish Replenish dp B0199WNJE8 ref sxin_14_pa_sp_search_thematic_sspa content d amzn1 sym a15c61b7 4b93 404d bb70 88600dfb718d 3Aamzn1 sym a15c61b7 4b93 404d bb70 88600dfb718d amp crid 2HG5WSUDCJBMZ amp cv_ct_cx hair 2Btresemme amp keywords hair 2Btresemme amp pd_rd_i B0199WNJE8 amp pd_rd_r 28d72361 7f35 4b1a be43 98e7103da70c amp pd_rd_w 6UL4P amp pd_rd_wg JtUqB amp pf_rd_p a15c61b7 4b93 404d bb70 88600dfb718d amp pf_rd_r DFPZNAG391M5JS55R6HP amp qid 1660432925 amp sprefix hair 2Btresemme 2Caps 2C116 amp sr 1 3 a73d1c8c 2fd2 4f19 aa41 2df022bcb241 spons amp smid A3DEFW12560V8 M amp spLa ZW5jcnlwdGVkUXVhbGlmaWVyPUExQlM3VFpGRVM5Tk8wJmVuY3J5cHRlZElkPUEwNjE5MjQwM01JV0FNN1pOMlRHSSZlbmNyeXB0ZWRBZElkPUEwNTA1MDQyMlQ5RjhRQUxIWEdaUiZ3aWRnZXROYW1lPXNwX3NlYXJjaF90aGVtYXRpYyZhY3Rpb249Y2xpY2tSZWRpcmVjdCZkb05vdExvZ0NsaWNrPXRydWU amp th 1 quot webpage requests URL headers headers soup BeautifulSoup webpage content rank soup select_one detailBulletsWrapper_feature_div span soup contains quot Best Seller quot contents 2 get_text split 0 Category soup select_one detailBulletsWrapper_feature_div span soup contains quot Best Seller quot contents 2 get_text split 2 6 Category join Category type rank type Category import string char string punctuation rank rank replace char print rank print Category code pre p URLs similar want loop links loop save csv file Thank advanced p pre code URL https www amazon com Dove Intensive Concentrate Technology Protects dp B0B1VVXTKL https www amazon com Dove Intensive Concentrate Conditioner Technology dp B0B1VXFLQ2 code pre\n",
      "\n",
      "DETAILS: \n",
      "The post contains roughly 249 words (based on white spaces).\n",
      "It's vectorized (and padded) form contains 1000 tokens.\n",
      "\n",
      "VECTOR REPRESENTATION:\n",
      "\n"
     ]
    },
    {
     "output_type": "execute_result",
     "data": {
      "text/plain": [
       "<tf.Tensor: shape=(1000,), dtype=int64, numpy=\n",
       "array([   1,   50,  148,  341,  303,    7,    4,   22,  611,    1,   22,\n",
       "          1,  437,   62, 1319,    1,   34,    8,    1,    1,    1,  360,\n",
       "         43,    1,    1,    1,  778,    1,   45,    1,  520,    1,    8,\n",
       "          8,    8,    1,    1,  778,  991,  865,  615,  615,  515,    8,\n",
       "         34,  148,    2,   16,  315, 1294,   14,    1,    1,    1,    1,\n",
       "          1,    1,    1,  684,    1,  664,    1,  152,   17,    1,    1,\n",
       "          1,    1,    1,    1,    1,    1,    1,    1,    1,    1,    1,\n",
       "          1,   44,    1,    1,   44,    1,    1,    1,   44,    1,    1,\n",
       "          1,   44,    1,    1,   44,    1,    1,    1,    1,    1,    1,\n",
       "         44,    1,    1,   44,    1,    1,   44,    1,    1,    1,    1,\n",
       "          1,    1,   44,    1,    1,   44,    1,    1,   44,    1,    1,\n",
       "          1,    1,    1,   44,    1,    9,   19,    1,    1,    1,    1,\n",
       "          1,    1,   44,    1,    1,   33,   44,    1,    1,   44,   94,\n",
       "          9,    2, 1707,  611,  148,  437,  437, 1870,    1, 1707,  152,\n",
       "          1, 1870,    1,    1,  267, 1870,  438,    2,  816,    1,    2,\n",
       "       1051,   11,    1,  521,    8,  329, 1870,    1,    1,  267, 1870,\n",
       "        438,    2,  816,    1,    2, 1051,   11,    1,  521,   11,   77,\n",
       "        329,  522,  329,   41,    1,   41,  329,   22,   24,  675,   24,\n",
       "          1,    1,    1,  457,  675,   78,    1,   78,  329,    4,    7,\n",
       "          3, 1373,  743,   53,  264, 1003,  264,  341,  303,   25,  510,\n",
       "          1,    3,    7,    4,  148,   16,  315, 1294,   14,    1,    1,\n",
       "          1,    1,    1,  684,    1,   16,  315, 1294,   14,    1,    1,\n",
       "          1,    1,    1,  684,    1,    4,    7,    0,    0,    0,    0,\n",
       "          0,    0,    0,    0,    0,    0,    0,    0,    0,    0,    0,\n",
       "          0,    0,    0,    0,    0,    0,    0,    0,    0,    0,    0,\n",
       "          0,    0,    0,    0,    0,    0,    0,    0,    0,    0,    0,\n",
       "          0,    0,    0,    0,    0,    0,    0,    0,    0,    0,    0,\n",
       "          0,    0,    0,    0,    0,    0,    0,    0,    0,    0,    0,\n",
       "          0,    0,    0,    0,    0,    0,    0,    0,    0,    0,    0,\n",
       "          0,    0,    0,    0,    0,    0,    0,    0,    0,    0,    0,\n",
       "          0,    0,    0,    0,    0,    0,    0,    0,    0,    0,    0,\n",
       "          0,    0,    0,    0,    0,    0,    0,    0,    0,    0,    0,\n",
       "          0,    0,    0,    0,    0,    0,    0,    0,    0,    0,    0,\n",
       "          0,    0,    0,    0,    0,    0,    0,    0,    0,    0,    0,\n",
       "          0,    0,    0,    0,    0,    0,    0,    0,    0,    0,    0,\n",
       "          0,    0,    0,    0,    0,    0,    0,    0,    0,    0,    0,\n",
       "          0,    0,    0,    0,    0,    0,    0,    0,    0,    0,    0,\n",
       "          0,    0,    0,    0,    0,    0,    0,    0,    0,    0,    0,\n",
       "          0,    0,    0,    0,    0,    0,    0,    0,    0,    0,    0,\n",
       "          0,    0,    0,    0,    0,    0,    0,    0,    0,    0,    0,\n",
       "          0,    0,    0,    0,    0,    0,    0,    0,    0,    0,    0,\n",
       "          0,    0,    0,    0,    0,    0,    0,    0,    0,    0,    0,\n",
       "          0,    0,    0,    0,    0,    0,    0,    0,    0,    0,    0,\n",
       "          0,    0,    0,    0,    0,    0,    0,    0,    0,    0,    0,\n",
       "          0,    0,    0,    0,    0,    0,    0,    0,    0,    0,    0,\n",
       "          0,    0,    0,    0,    0,    0,    0,    0,    0,    0,    0,\n",
       "          0,    0,    0,    0,    0,    0,    0,    0,    0,    0,    0,\n",
       "          0,    0,    0,    0,    0,    0,    0,    0,    0,    0,    0,\n",
       "          0,    0,    0,    0,    0,    0,    0,    0,    0,    0,    0,\n",
       "          0,    0,    0,    0,    0,    0,    0,    0,    0,    0,    0,\n",
       "          0,    0,    0,    0,    0,    0,    0,    0,    0,    0,    0,\n",
       "          0,    0,    0,    0,    0,    0,    0,    0,    0,    0,    0,\n",
       "          0,    0,    0,    0,    0,    0,    0,    0,    0,    0,    0,\n",
       "          0,    0,    0,    0,    0,    0,    0,    0,    0,    0,    0,\n",
       "          0,    0,    0,    0,    0,    0,    0,    0,    0,    0,    0,\n",
       "          0,    0,    0,    0,    0,    0,    0,    0,    0,    0,    0,\n",
       "          0,    0,    0,    0,    0,    0,    0,    0,    0,    0,    0,\n",
       "          0,    0,    0,    0,    0,    0,    0,    0,    0,    0,    0,\n",
       "          0,    0,    0,    0,    0,    0,    0,    0,    0,    0,    0,\n",
       "          0,    0,    0,    0,    0,    0,    0,    0,    0,    0,    0,\n",
       "          0,    0,    0,    0,    0,    0,    0,    0,    0,    0,    0,\n",
       "          0,    0,    0,    0,    0,    0,    0,    0,    0,    0,    0,\n",
       "          0,    0,    0,    0,    0,    0,    0,    0,    0,    0,    0,\n",
       "          0,    0,    0,    0,    0,    0,    0,    0,    0,    0,    0,\n",
       "          0,    0,    0,    0,    0,    0,    0,    0,    0,    0,    0,\n",
       "          0,    0,    0,    0,    0,    0,    0,    0,    0,    0,    0,\n",
       "          0,    0,    0,    0,    0,    0,    0,    0,    0,    0,    0,\n",
       "          0,    0,    0,    0,    0,    0,    0,    0,    0,    0,    0,\n",
       "          0,    0,    0,    0,    0,    0,    0,    0,    0,    0,    0,\n",
       "          0,    0,    0,    0,    0,    0,    0,    0,    0,    0,    0,\n",
       "          0,    0,    0,    0,    0,    0,    0,    0,    0,    0,    0,\n",
       "          0,    0,    0,    0,    0,    0,    0,    0,    0,    0,    0,\n",
       "          0,    0,    0,    0,    0,    0,    0,    0,    0,    0,    0,\n",
       "          0,    0,    0,    0,    0,    0,    0,    0,    0,    0,    0,\n",
       "          0,    0,    0,    0,    0,    0,    0,    0,    0,    0,    0,\n",
       "          0,    0,    0,    0,    0,    0,    0,    0,    0,    0,    0,\n",
       "          0,    0,    0,    0,    0,    0,    0,    0,    0,    0,    0,\n",
       "          0,    0,    0,    0,    0,    0,    0,    0,    0,    0,    0,\n",
       "          0,    0,    0,    0,    0,    0,    0,    0,    0,    0,    0,\n",
       "          0,    0,    0,    0,    0,    0,    0,    0,    0,    0,    0,\n",
       "          0,    0,    0,    0,    0,    0,    0,    0,    0,    0,    0,\n",
       "          0,    0,    0,    0,    0,    0,    0,    0,    0,    0,    0,\n",
       "          0,    0,    0,    0,    0,    0,    0,    0,    0,    0,    0,\n",
       "          0,    0,    0,    0,    0,    0,    0,    0,    0,    0,    0,\n",
       "          0,    0,    0,    0,    0,    0,    0,    0,    0,    0,    0,\n",
       "          0,    0,    0,    0,    0,    0,    0,    0,    0,    0,    0,\n",
       "          0,    0,    0,    0,    0,    0,    0,    0,    0,    0,    0,\n",
       "          0,    0,    0,    0,    0,    0,    0,    0,    0,    0,    0,\n",
       "          0,    0,    0,    0,    0,    0,    0,    0,    0,    0,    0,\n",
       "          0,    0,    0,    0,    0,    0,    0,    0,    0,    0,    0,\n",
       "          0,    0,    0,    0,    0,    0,    0,    0,    0,    0])>"
      ]
     },
     "metadata": {},
     "execution_count": 29
    }
   ]
  },
  {
   "cell_type": "code",
   "source": [
    "one_hot_post = tf.one_hot(vectorized_post, depth=2000) \n",
    "print(one_hot_post.shape)"
   ],
   "metadata": {
    "colab": {
     "base_uri": "https://localhost:8080/"
    },
    "id": "Mt9XfPDBcVcr",
    "outputId": "872d8421-3188-4b83-f495-f874d3597eed"
   },
   "execution_count": null,
   "outputs": [
    {
     "output_type": "stream",
     "name": "stdout",
     "text": [
      "(2625, 1000, 2000)\n"
     ]
    }
   ]
  },
  {
   "cell_type": "markdown",
   "source": [
    "#### 3.2.3. Train-Test Split"
   ],
   "metadata": {
    "id": "WGvAPNyUjXZR"
   }
  },
  {
   "cell_type": "markdown",
   "source": [
    "Since we scaled down our sample to only `2,625` documents we can separate training and test sets using a simple index.  Here, the first `2,100` records are used for training and validation, while the remaining `525` are used as a test set."
   ],
   "metadata": {
    "id": "iTAupfkgciGU"
   }
  },
  {
   "cell_type": "code",
   "source": [
    "data_train = text[:2100]\n",
    "labels_train = labels_onehot[:2100]\n",
    "data_test = text[2100:]\n",
    "labels_test = labels_onehot[2100:]"
   ],
   "metadata": {
    "id": "OPBROuGVci_G"
   },
   "execution_count": null,
   "outputs": []
  },
  {
   "cell_type": "markdown",
   "source": [
    "#### 3.2.4. Model Training\n",
    "\n",
    "For this model, we are going to implement class weights to balance the disproportionate class distribution.  Scikit-Learn has a `class_weight` package that accomplishes this by learning the encoded lables from above."
   ],
   "metadata": {
    "id": "v3Ur6uiHY9Wj"
   }
  },
  {
   "cell_type": "code",
   "source": [
    "from sklearn.utils import class_weight\n",
    "\n",
    "class_weights = class_weight.compute_class_weight('balanced', classes=np.unique(encoded_labels), y=encoded_labels)\n",
    "class_weights = dict(enumerate(class_weights))"
   ],
   "metadata": {
    "id": "vvbSLLS-clO_"
   },
   "execution_count": null,
   "outputs": []
  },
  {
   "cell_type": "markdown",
   "source": [
    "The CNN we implement incorporates a SeparableConv1D Layer which enables us to combine the outputs of the first and second convolutional layers by allowing them to \"skip\" layers.  This helps preserve gradients within the network, combatting vanishing gradient, and ultimately providing us with a more accurate label prediction.  Without this effect, a simple Conv1D Layer received a categorical accuracy score around `0.70`.  \n",
    "\n",
    "Our GlobalAveragePooling1D Layer compresses the feature maps into a single vector which is then passed to the output layer to make a final prediction.  Pooling layers are widely used in CNNs to downsample feature maps of higher dimensional tensors."
   ],
   "metadata": {
    "id": "wWl5bL5cZRxi"
   }
  },
  {
   "cell_type": "code",
   "source": [
    "def build_model():\n",
    "    inputs = keras.layers.Input(shape=(1), dtype=\"string\")\n",
    "    processing = text_vectorization(inputs)\n",
    "    one_hot = tf.one_hot(processing, depth=2000) \n",
    "\n",
    "    conv1 = layers.SeparableConv1D(128, kernel_size=10, padding='same')(one_hot)\n",
    "    batch1 = layers.BatchNormalization()(conv1)\n",
    "    act1 = layers.Activation('relu')(batch1)\n",
    "\n",
    "    conv2 = layers.SeparableConv1D(128, kernel_size=10, padding='same')(conv1)\n",
    "    batch2 = layers.BatchNormalization()(conv2)\n",
    "    skip1 = layers.Add()([act1, batch2])\n",
    "    act2 = layers.Activation('relu')(skip1)\n",
    "\n",
    "    # Define global pooling layer\n",
    "    pool = layers.GlobalAveragePooling1D()(act2)\n",
    "\n",
    "    outputs = layers.Dense(units=10, activation='softmax')(pool)\n",
    "\n",
    "    model = keras.Model(inputs,outputs)\n",
    "    model.compile(optimizer=\"adam\",loss=\"categorical_crossentropy\",metrics=['categorical_accuracy'])\n",
    "    return model\n",
    "\n",
    "model = build_model()\n",
    "\n",
    "keras.utils.plot_model(model, show_shapes=True)"
   ],
   "metadata": {
    "colab": {
     "base_uri": "https://localhost:8080/",
     "height": 1000
    },
    "id": "cr0cZh3uUGaA",
    "outputId": "9bbab56b-0397-4725-a223-ba48a3242bbe"
   },
   "execution_count": null,
   "outputs": [
    {
     "output_type": "execute_result",
     "data": {
      "image/png": "[encoded data removed]",
      "text/plain": [
       "<IPython.core.display.Image object>"
      ]
     },
     "metadata": {},
     "execution_count": 72
    }
   ]
  },
  {
   "cell_type": "code",
   "source": [
    "callbacks = [\n",
    "    keras.callbacks.ModelCheckpoint(\n",
    "        filepath=\"CNN.tf\",\n",
    "        save_best_only=True,\n",
    "        monitor=\"val_loss\")\n",
    "]\n",
    "\n",
    "history = model.fit(data_train, labels_train, validation_split=0.2, epochs=20, \n",
    "                    batch_size=16, callbacks=callbacks, class_weight=class_weights)"
   ],
   "metadata": {
    "colab": {
     "base_uri": "https://localhost:8080/"
    },
    "id": "rMpcXoMLU6nx",
    "outputId": "473fcbf8-4156-490d-eda2-a8aab1531cad"
   },
   "execution_count": null,
   "outputs": [
    {
     "output_type": "stream",
     "name": "stdout",
     "text": [
      "Epoch 1/20\n",
      "105/105 [==============================] - 6s 29ms/step - loss: 2.2453 - categorical_accuracy: 0.2155 - val_loss: 2.2598 - val_categorical_accuracy: 0.4000\n",
      "Epoch 2/20\n",
      "105/105 [==============================] - 3s 26ms/step - loss: 1.4457 - categorical_accuracy: 0.6750 - val_loss: 2.0176 - val_categorical_accuracy: 0.3167\n",
      "Epoch 3/20\n",
      "105/105 [==============================] - 3s 32ms/step - loss: 0.8874 - categorical_accuracy: 0.8238 - val_loss: 1.5310 - val_categorical_accuracy: 0.7976\n",
      "Epoch 4/20\n",
      "105/105 [==============================] - 3s 26ms/step - loss: 0.5821 - categorical_accuracy: 0.8798 - val_loss: 1.2134 - val_categorical_accuracy: 0.7476\n",
      "Epoch 5/20\n",
      "105/105 [==============================] - 3s 26ms/step - loss: 0.3836 - categorical_accuracy: 0.9214 - val_loss: 0.9930 - val_categorical_accuracy: 0.7738\n",
      "Epoch 6/20\n",
      "105/105 [==============================] - 1s 8ms/step - loss: 0.2819 - categorical_accuracy: 0.9571 - val_loss: 1.1239 - val_categorical_accuracy: 0.7000\n",
      "Epoch 7/20\n",
      "105/105 [==============================] - 1s 9ms/step - loss: 0.1956 - categorical_accuracy: 0.9708 - val_loss: 1.0557 - val_categorical_accuracy: 0.7167\n",
      "Epoch 8/20\n",
      "105/105 [==============================] - 1s 8ms/step - loss: 0.1405 - categorical_accuracy: 0.9857 - val_loss: 1.1782 - val_categorical_accuracy: 0.6833\n",
      "Epoch 9/20\n",
      "105/105 [==============================] - 1s 8ms/step - loss: 0.1125 - categorical_accuracy: 0.9905 - val_loss: 1.1078 - val_categorical_accuracy: 0.7452\n",
      "Epoch 10/20\n",
      "105/105 [==============================] - 1s 9ms/step - loss: 0.0828 - categorical_accuracy: 0.9952 - val_loss: 1.2194 - val_categorical_accuracy: 0.7048\n",
      "Epoch 11/20\n",
      "105/105 [==============================] - 1s 8ms/step - loss: 0.0653 - categorical_accuracy: 0.9982 - val_loss: 1.3877 - val_categorical_accuracy: 0.6595\n",
      "Epoch 12/20\n",
      "105/105 [==============================] - 1s 8ms/step - loss: 0.0549 - categorical_accuracy: 0.9970 - val_loss: 1.3776 - val_categorical_accuracy: 0.6857\n",
      "Epoch 13/20\n",
      "105/105 [==============================] - 1s 8ms/step - loss: 0.0433 - categorical_accuracy: 0.9994 - val_loss: 1.2915 - val_categorical_accuracy: 0.7310\n",
      "Epoch 14/20\n",
      "105/105 [==============================] - 1s 8ms/step - loss: 0.0343 - categorical_accuracy: 0.9994 - val_loss: 1.3821 - val_categorical_accuracy: 0.7167\n",
      "Epoch 15/20\n",
      "105/105 [==============================] - 1s 8ms/step - loss: 0.0318 - categorical_accuracy: 1.0000 - val_loss: 1.4131 - val_categorical_accuracy: 0.7119\n",
      "Epoch 16/20\n",
      "105/105 [==============================] - 1s 8ms/step - loss: 0.0258 - categorical_accuracy: 0.9982 - val_loss: 1.4294 - val_categorical_accuracy: 0.7286\n",
      "Epoch 17/20\n",
      "105/105 [==============================] - 1s 8ms/step - loss: 0.0224 - categorical_accuracy: 1.0000 - val_loss: 1.5935 - val_categorical_accuracy: 0.6833\n",
      "Epoch 18/20\n",
      "105/105 [==============================] - 1s 8ms/step - loss: 0.0283 - categorical_accuracy: 0.9964 - val_loss: 1.4986 - val_categorical_accuracy: 0.7024\n",
      "Epoch 19/20\n",
      "105/105 [==============================] - 1s 8ms/step - loss: 0.0235 - categorical_accuracy: 0.9976 - val_loss: 1.5092 - val_categorical_accuracy: 0.7071\n",
      "Epoch 20/20\n",
      "105/105 [==============================] - 1s 9ms/step - loss: 0.0159 - categorical_accuracy: 0.9994 - val_loss: 1.6667 - val_categorical_accuracy: 0.6810\n"
     ]
    }
   ]
  },
  {
   "cell_type": "code",
   "source": [
    "import matplotlib.pyplot as plt\n",
    "plt.style.use('ggplot')\n",
    "\n",
    "plt.plot(history.history['categorical_accuracy'],c=\"r\")\n",
    "plt.plot(history.history['val_categorical_accuracy'],c=\"b\")\n",
    "plt.legend(['Training','Validation'])\n",
    "plt.show()"
   ],
   "metadata": {
    "colab": {
     "base_uri": "https://localhost:8080/",
     "height": 430
    },
    "id": "PPblIJbndbqV",
    "outputId": "1b9d5e0c-e019-4d6c-f51b-9c605977b972"
   },
   "execution_count": null,
   "outputs": [
    {
     "output_type": "display_data",
     "data": {
      "text/plain": [
       "<Figure size 640x480 with 1 Axes>"
      ],
      "image/png": "[encoded data removed]"
     },
     "metadata": {}
    }
   ]
  },
  {
   "cell_type": "markdown",
   "source": [
    "While our validation performance appears to vary, the model structure enables better performance than a Conv1D layer alone."
   ],
   "metadata": {
    "id": "iazj3hePf13w"
   }
  },
  {
   "cell_type": "markdown",
   "source": [
    "#### 3.2.3. Model Evaluation"
   ],
   "metadata": {
    "id": "xm1-LZ1OjYxS"
   }
  },
  {
   "cell_type": "code",
   "source": [
    "model = keras.models.load_model(\"CNN.tf\")\n",
    "test_perf = model.evaluate(data_test, labels_test)\n",
    "print(f'Accuracy in the test set is {test_perf[1]*100:.2f}%.')"
   ],
   "metadata": {
    "colab": {
     "base_uri": "https://localhost:8080/"
    },
    "id": "k0tMDtErdbRG",
    "outputId": "c5e50b61-40c5-4124-d945-6dc0b9a9d0d6"
   },
   "execution_count": null,
   "outputs": [
    {
     "output_type": "stream",
     "name": "stdout",
     "text": [
      "17/17 [==============================] - 0s 7ms/step - loss: 1.0738 - categorical_accuracy: 0.7733\n",
      "Accuracy in the test set is 77.33%.\n"
     ]
    }
   ]
  },
  {
   "cell_type": "markdown",
   "source": [
    "Our test performance increases around `7`% by implementing the SeparableConv1D layers into the above model."
   ],
   "metadata": {
    "id": "_r1PlVhugD3C"
   }
  },
  {
   "cell_type": "markdown",
   "source": [
    "### 3.3. Recurrent Neural Network"
   ],
   "metadata": {
    "id": "qTIMj3ePh2Gj"
   }
  },
  {
   "cell_type": "markdown",
   "source": [
    "#### 3.3.1. Preprocessing for RNN\n",
    "\n",
    "The data preprocessing for our RNN is highly similar to that of the CNN, except instead of one-hot encoding the vocabulary we will input strings into the RNN and generate 8-dimensional embeddings of the tokens.  Therefore we must ensure our training data is in the appropriate format."
   ],
   "metadata": {
    "id": "qX09Y_Pperbq"
   }
  },
  {
   "cell_type": "code",
   "source": [
    "data_train[5]"
   ],
   "metadata": {
    "colab": {
     "base_uri": "https://localhost:8080/",
     "height": 72
    },
    "id": "1mgj9_8eiyqi",
    "outputId": "179b3eea-5182-40b0-f0a7-2e3e4fbcf975"
   },
   "execution_count": null,
   "outputs": [
    {
     "output_type": "execute_result",
     "data": {
      "text/plain": [
       "'fix android emulator issue p installed android studio windows 10 trying create emulator causing issues href https stack imgur com 5qzCk png rel nofollow noreferrer img src https stack imgur com 5qzCk png alt enter image description p p nt graphics card driver installed tried graphics Automatic Software Hardware emulator p p root cause resolve issue p'"
      ],
      "application/vnd.google.colaboratory.intrinsic+json": {
       "type": "string"
      }
     },
     "metadata": {},
     "execution_count": 80
    }
   ]
  },
  {
   "cell_type": "markdown",
   "source": [
    "#### 3.3.1. Model Training"
   ],
   "metadata": {
    "id": "HXzoebxvjh0m"
   }
  },
  {
   "cell_type": "markdown",
   "source": [
    "We implement an RNN that learns 8-dimension embeddings of our vocabulary forward and backward with Long Short-Term Memory (LSTM).  RNNs succeed with timeseries-related tasks like forecasting. The implementation of LSTM aided in their effectiveness over longer sequences that were previously plagued by vanishing gradient.  When used in NLP tasks, vocabulary is often capped at `10,000` tokens, so our `2,000` token vocabulary should be easily managed by this model.  However, we did limit our data set significantly in order to run the model in a timely manner.  A larger training set would undoubtedly improve predictions.\n",
    "\n",
    "RNNs like this rely more heavily on multiple CPUs instead of leveraging the parallel processing from GPUs since their simple calculations are not easily parallelized.  Therefore, this model has a longer training timelines even with a high RAM Colab session."
   ],
   "metadata": {
    "id": "paX5n0rpjEck"
   }
  },
  {
   "cell_type": "code",
   "source": [
    "def build_model_embed():\n",
    "    inputs = keras.layers.Input(shape=(1), dtype=\"string\") # We take our strings as input \n",
    "    processing = text_vectorization(inputs)\n",
    "    embedding = keras.layers.Embedding(input_dim=2000,output_dim=8, mask_zero=True)(processing)\n",
    "    \n",
    "    # Bidirectional LSTM to read embeddings\n",
    "    x = keras.layers.Bidirectional(keras.layers.LSTM(64))(embedding)\n",
    "    x = keras.layers.Dropout(0.5)(x)\n",
    "    x = layers.LayerNormalization()(x)\n",
    "    outputs = keras.layers.Dense(10, activation=\"softmax\")(x)\n",
    "\n",
    "    model = keras.Model(inputs,outputs)\n",
    "    model.compile(optimizer=\"adam\",loss=\"categorical_crossentropy\",metrics=['categorical_accuracy'])\n",
    "    return model\n",
    "\n",
    "model_embed = build_model_embed()\n",
    "\n",
    "keras.utils.plot_model(model_embed, show_shapes=True)"
   ],
   "metadata": {
    "colab": {
     "base_uri": "https://localhost:8080/",
     "height": 754
    },
    "id": "igeLre74eP6C",
    "outputId": "24e8cb9f-a31d-447d-f4da-61e582cffab4"
   },
   "execution_count": null,
   "outputs": [
    {
     "output_type": "execute_result",
     "data": {
      "image/png": "[encoded data removed]",
      "text/plain": [
       "<IPython.core.display.Image object>"
      ]
     },
     "metadata": {},
     "execution_count": 90
    }
   ]
  },
  {
   "cell_type": "markdown",
   "source": [
    "BatchNormalization layers are not typically used with RNNs, as they attempt to normalize single values as opposed to applying the same features across all batch examples (Huber). For this reason, we implement LayerNormalization in our RNN, since it was purpose-built for RNNs."
   ],
   "metadata": {
    "id": "hc8JsvoyozRR"
   }
  },
  {
   "cell_type": "code",
   "source": [
    "callbacks = [\n",
    "    keras.callbacks.ModelCheckpoint(\n",
    "        filepath=\"RNN_embed.tf\",\n",
    "        save_best_only=True,\n",
    "        monitor=\"val_loss\")\n",
    "]\n",
    "\n",
    "history = model_embed.fit(data_train, labels_train, validation_split=0.2, \n",
    "                          epochs=20, batch_size=16, callbacks=callbacks, \n",
    "                          class_weight=class_weights)"
   ],
   "metadata": {
    "colab": {
     "base_uri": "https://localhost:8080/"
    },
    "id": "Pazh0XWmeUJB",
    "outputId": "d0782378-cb7b-4093-977b-d2544d4be1f5"
   },
   "execution_count": null,
   "outputs": [
    {
     "output_type": "stream",
     "name": "stdout",
     "text": [
      "Epoch 1/20\n",
      "105/105 [==============================] - 49s 392ms/step - loss: 2.3126 - categorical_accuracy: 0.1405 - val_loss: 2.2466 - val_categorical_accuracy: 0.1786\n",
      "Epoch 2/20\n",
      "105/105 [==============================] - 36s 341ms/step - loss: 1.8916 - categorical_accuracy: 0.3018 - val_loss: 1.7440 - val_categorical_accuracy: 0.4000\n",
      "Epoch 3/20\n",
      "105/105 [==============================] - 32s 309ms/step - loss: 1.3340 - categorical_accuracy: 0.4798 - val_loss: 1.5733 - val_categorical_accuracy: 0.4500\n",
      "Epoch 4/20\n",
      "105/105 [==============================] - 29s 282ms/step - loss: 0.9020 - categorical_accuracy: 0.6560 - val_loss: 1.3779 - val_categorical_accuracy: 0.5190\n",
      "Epoch 5/20\n",
      "105/105 [==============================] - 32s 301ms/step - loss: 0.6305 - categorical_accuracy: 0.7560 - val_loss: 1.3677 - val_categorical_accuracy: 0.5857\n",
      "Epoch 6/20\n",
      "105/105 [==============================] - 7s 62ms/step - loss: 0.4632 - categorical_accuracy: 0.8238 - val_loss: 2.0886 - val_categorical_accuracy: 0.4833\n",
      "Epoch 7/20\n",
      "105/105 [==============================] - 6s 57ms/step - loss: 0.3756 - categorical_accuracy: 0.8518 - val_loss: 1.5928 - val_categorical_accuracy: 0.5548\n",
      "Epoch 8/20\n",
      "105/105 [==============================] - 6s 58ms/step - loss: 0.2919 - categorical_accuracy: 0.8887 - val_loss: 1.6304 - val_categorical_accuracy: 0.5786\n",
      "Epoch 9/20\n",
      "105/105 [==============================] - 6s 54ms/step - loss: 0.2779 - categorical_accuracy: 0.8982 - val_loss: 1.6296 - val_categorical_accuracy: 0.5714\n",
      "Epoch 10/20\n",
      "105/105 [==============================] - 6s 53ms/step - loss: 0.3124 - categorical_accuracy: 0.8732 - val_loss: 1.5267 - val_categorical_accuracy: 0.6214\n",
      "Epoch 11/20\n",
      "105/105 [==============================] - 5s 47ms/step - loss: 0.1564 - categorical_accuracy: 0.9470 - val_loss: 1.5929 - val_categorical_accuracy: 0.6119\n",
      "Epoch 12/20\n",
      "105/105 [==============================] - 5s 50ms/step - loss: 0.1202 - categorical_accuracy: 0.9625 - val_loss: 1.7033 - val_categorical_accuracy: 0.6262\n",
      "Epoch 13/20\n",
      "105/105 [==============================] - 5s 49ms/step - loss: 0.1189 - categorical_accuracy: 0.9542 - val_loss: 1.7946 - val_categorical_accuracy: 0.6262\n",
      "Epoch 14/20\n",
      "105/105 [==============================] - 6s 52ms/step - loss: 0.0700 - categorical_accuracy: 0.9774 - val_loss: 1.9660 - val_categorical_accuracy: 0.6310\n",
      "Epoch 15/20\n",
      "105/105 [==============================] - 5s 49ms/step - loss: 0.0535 - categorical_accuracy: 0.9863 - val_loss: 2.0368 - val_categorical_accuracy: 0.6286\n",
      "Epoch 16/20\n",
      "105/105 [==============================] - 5s 49ms/step - loss: 0.0367 - categorical_accuracy: 0.9935 - val_loss: 2.0886 - val_categorical_accuracy: 0.6262\n",
      "Epoch 17/20\n",
      "105/105 [==============================] - 5s 50ms/step - loss: 0.0295 - categorical_accuracy: 0.9929 - val_loss: 2.1438 - val_categorical_accuracy: 0.6357\n",
      "Epoch 18/20\n",
      "105/105 [==============================] - 5s 49ms/step - loss: 0.0293 - categorical_accuracy: 0.9929 - val_loss: 2.1602 - val_categorical_accuracy: 0.6500\n",
      "Epoch 19/20\n",
      "105/105 [==============================] - 6s 53ms/step - loss: 0.0236 - categorical_accuracy: 0.9958 - val_loss: 2.2191 - val_categorical_accuracy: 0.6524\n",
      "Epoch 20/20\n",
      "105/105 [==============================] - 5s 47ms/step - loss: 0.0279 - categorical_accuracy: 0.9923 - val_loss: 2.2440 - val_categorical_accuracy: 0.6429\n"
     ]
    }
   ]
  },
  {
   "cell_type": "code",
   "source": [
    "import matplotlib.pyplot as plt\n",
    "plt.style.use('ggplot')\n",
    "\n",
    "plt.plot(history.history['categorical_accuracy'],c=\"r\")\n",
    "plt.plot(history.history['val_categorical_accuracy'],c=\"b\")\n",
    "plt.legend(['Training','Validation'])\n",
    "plt.show()"
   ],
   "metadata": {
    "colab": {
     "base_uri": "https://localhost:8080/",
     "height": 430
    },
    "id": "RR1hGnBJeY2x",
    "outputId": "f3024dfc-3ed1-4041-9135-1ad69db42939"
   },
   "execution_count": null,
   "outputs": [
    {
     "output_type": "display_data",
     "data": {
      "text/plain": [
       "<Figure size 640x480 with 1 Axes>"
      ],
      "image/png": "[encoded data removed]"
     },
     "metadata": {}
    }
   ]
  },
  {
   "cell_type": "markdown",
   "source": [
    "Adding a LayerNormalization layer to this RNN increased categorical accuracy in the validation set by almost `0.20`.  This demonstrates the massive effect of normalization during the training process. "
   ],
   "metadata": {
    "id": "TqtaYl2tslzi"
   }
  },
  {
   "cell_type": "markdown",
   "source": [
    "#### 3.3.2. Model Evaluation"
   ],
   "metadata": {
    "id": "s7i7SdU4jhtf"
   }
  },
  {
   "cell_type": "code",
   "source": [
    "model = keras.models.load_model(\"RNN_embed.tf\")\n",
    "test_perf = model.evaluate(data_test, labels_test)\n",
    "print(f'Accuracy in the test set is {test_perf[1]*100:.2f}%.')"
   ],
   "metadata": {
    "colab": {
     "base_uri": "https://localhost:8080/"
    },
    "id": "LdLUMp-Fe_9y",
    "outputId": "227c6e3c-9401-458e-e266-2ff91556f711"
   },
   "execution_count": null,
   "outputs": [
    {
     "output_type": "stream",
     "name": "stdout",
     "text": [
      "17/17 [==============================] - 3s 26ms/step - loss: 1.3506 - categorical_accuracy: 0.5790\n",
      "Accuracy in the test set is 57.90%.\n"
     ]
    }
   ]
  },
  {
   "cell_type": "markdown",
   "source": [
    "Despite our rearrangements in its configuration, the RNN performs the worst of our first three models with a test categorical accuracy of `0.5790`.  This model may be limited in the amount of data we used, either in terms of vocabulary fed to the model, or the number of documents."
   ],
   "metadata": {
    "id": "rvN_EjS4kthW"
   }
  },
  {
   "cell_type": "markdown",
   "source": [
    "### 3.4. Transformer-Enabled Neural Network\n",
    "\n",
    "Bidirectional Encoder Representaions from Transformers (BERT)\n",
    "\n",
    "The last model we attempted is a pre trained langauge model - BERT, which was introduced in `2018` by researchers at Google. We are using the base model - 'bert-base-cased' model which has `12` layers, `768` hidden units and `110M` parameters."
   ],
   "metadata": {
    "id": "9mENgPRTh2Du"
   }
  },
  {
   "cell_type": "markdown",
   "source": [
    "#### 3.4.1. Model Precprocessing\n",
    "\n",
    "\n",
    "1. Convert `tags` to numeric\n",
    "\n",
    "2. Create a function `generate_training_data`, that processes `text` column, tokenizes the text using the provided `BERT tokenizer`, and stores the resulting `token IDs` and `attention masks` in the pre-allocated arrays ids and masks, respectively.\n",
    "\n",
    "3. One-hot encode the `tags` to create a binary matrix representation of the labels. `Inline code`\n",
    "\n",
    "This ensures our data is ready to be split into train/validation in batches."
   ],
   "metadata": {
    "id": "MsZQ54D9h1_E"
   }
  },
  {
   "cell_type": "markdown",
   "source": [
    "##### 3.4.1.1. **Step 1:** Convert `tags` to numeric"
   ],
   "metadata": {
    "id": "L6T9pDE13GGG"
   }
  },
  {
   "cell_type": "code",
   "source": [
    "# Get the distinct tags\n",
    "distinct_tags = df_top10['most_common_tag'].unique()\n",
    "\n",
    "# Create a dictionary to map tags to integers\n",
    "tag_to_numeric = {tag: i for i, tag in enumerate(distinct_tags)}"
   ],
   "metadata": {
    "id": "Xll7Q90H0sf0"
   },
   "execution_count": null,
   "outputs": []
  },
  {
   "cell_type": "code",
   "source": [
    "df_top10['numeric_tag'] = df_top10['most_common_tag'].map(tag_to_numeric)"
   ],
   "metadata": {
    "id": "YG0jx1-Z20a_"
   },
   "execution_count": null,
   "outputs": []
  },
  {
   "cell_type": "code",
   "source": [
    "# tag to numeric key mapping\n",
    "print(\"Tag to Numeric Key:\")\n",
    "for tag, numeric in tag_to_numeric.items():\n",
    "    print(f\"{tag}: {numeric}\")"
   ],
   "metadata": {
    "colab": {
     "base_uri": "https://localhost:8080/"
    },
    "id": "CTDgEGQR23sM",
    "outputId": "688ad324-a640-4a66-b381-073eaad60117"
   },
   "execution_count": null,
   "outputs": [
    {
     "output_type": "stream",
     "name": "stdout",
     "text": [
      "Tag to Numeric Key:\n",
      "python: 0\n",
      "javascript: 1\n",
      "c++: 2\n",
      "php: 3\n",
      "android: 4\n",
      "r: 5\n",
      "c#: 6\n",
      "java: 7\n",
      "flutter: 8\n",
      "reactjs: 9\n"
     ]
    }
   ]
  },
  {
   "cell_type": "markdown",
   "source": [
    "##### 3.4.1.2. **Step 2:** Function to tokenize texts"
   ],
   "metadata": {
    "id": "AsrIvQeS3JND"
   }
  },
  {
   "cell_type": "markdown",
   "source": [
    "Create a function `generate_training_data`, that processes `text` column, tokenizes the text using the provided `BERT tokenizer`, and stores the resulting `token IDs` and `attention masks` in the pre-allocated arrays ids and masks, respectively. `token ID's` contain our unique tokens for each word, whereas `attention masks` are filled with 1's (indicating the token is present) and 0's (indicating padding)"
   ],
   "metadata": {
    "id": "KolFU7B9wNNX"
   }
  },
  {
   "cell_type": "code",
   "source": [
    "import locale\n",
    "def getpreferredencoding(do_setlocale = True):\n",
    "    return \"UTF-8\"\n",
    "locale.getpreferredencoding = getpreferredencoding"
   ],
   "metadata": {
    "id": "URQPqZU87iiP"
   },
   "execution_count": null,
   "outputs": []
  },
  {
   "cell_type": "code",
   "source": [
    "!pip install -q transformers"
   ],
   "metadata": {
    "colab": {
     "base_uri": "https://localhost:8080/"
    },
    "id": "WpTyshtE7dXe",
    "outputId": "2de8a85a-7fd8-4630-c208-095153a86c14"
   },
   "execution_count": null,
   "outputs": [
    {
     "output_type": "stream",
     "name": "stdout",
     "text": [
      "\u001B[2K     \u001B[90m━━━━━━━━━━━━━━━━━━━━━━━━━━━━━━━━━━━━━━━━\u001B[0m \u001B[32m7.0/7.0 MB\u001B[0m \u001B[31m85.1 MB/s\u001B[0m eta \u001B[36m0:00:00\u001B[0m\n",
      "\u001B[2K     \u001B[90m━━━━━━━━━━━━━━━━━━━━━━━━━━━━━━━━━━━━━━\u001B[0m \u001B[32m224.5/224.5 kB\u001B[0m \u001B[31m27.2 MB/s\u001B[0m eta \u001B[36m0:00:00\u001B[0m\n",
      "\u001B[2K     \u001B[90m━━━━━━━━━━━━━━━━━━━━━━━━━━━━━━━━━━━━━━━━\u001B[0m \u001B[32m7.8/7.8 MB\u001B[0m \u001B[31m107.1 MB/s\u001B[0m eta \u001B[36m0:00:00\u001B[0m\n",
      "\u001B[?25h"
     ]
    }
   ]
  },
  {
   "cell_type": "code",
   "source": [
    "from transformers import BertTokenizer\n",
    "tokenizer = BertTokenizer.from_pretrained('bert-base-cased')"
   ],
   "metadata": {
    "colab": {
     "base_uri": "https://localhost:8080/",
     "height": 113,
     "referenced_widgets": [
      "972b475980ad41198d599c4fafe94305",
      "dac12789236d45baa52d9c6afd15e01e",
      "823b96e87f8441cc92b6e017fb89fdf6",
      "129ef2beafee41e08afd46eb146abbf0",
      "c16899f94b5d43c8b0421370c9ee0f50",
      "eaba8c0008a14ee2ac072459b3174f04",
      "441b11a90c184f2080baf5e8cb3b3725",
      "6607c6897fa64d568204f89291ae012e",
      "3ae68ec403da4c59aa417448ea947d78",
      "7a978e28cb5e49eb94ea115eb16826ca",
      "1311f357a6e146a9bc5187fe7b177e5b",
      "2d7fcf84414040adb3d8a61806ed26d7",
      "0d9a6abe67454097b174d6e4918ac4b0",
      "25543bb8fcf6469ebd151bb086fef894",
      "72709a6a7841438b94a969a7b6b148a4",
      "0320e0db01884eafac4e16ccadb7f575",
      "684d908f7a0e424f815ce6e6e51d0973",
      "9c69f85b19d94461b3e9e932ba770aeb",
      "e176e729494844b8b5d7e4f75e211c1b",
      "473282bc23654bb2b7f5b7362363fb17",
      "3e96775110df444f92382f2f43e2a6ae",
      "0cdad65f84a6420aad7f0ef4310378c0",
      "60fbd6d3fe5e40a8a839adbaa8b3d431",
      "00c34d646e224a629ef8a798c9f39a31",
      "837f16042d274cf78ed22a6013431d7d",
      "2cc6d9191be54b339d6a8e0c2a252e34",
      "f95021b6fdc54446b691b0c4271228c6",
      "5faaecd20b104e2fa35f9259fdec8cbe",
      "9d33400fa65345a1be73427fa7504e39",
      "569c7dbab88d4138beef9b27c7a4df35",
      "7fa5cccb61434bd8bfab9e06155be3d1",
      "e96f881309334d76aa5f4762dfe44138",
      "a0796b9658e94d2fa084a5d41c15ffa1"
     ]
    },
    "id": "YyqIJzDi2874",
    "outputId": "6eed8cf4-469e-4edf-9894-e4d46162bfc2"
   },
   "execution_count": null,
   "outputs": [
    {
     "output_type": "display_data",
     "data": {
      "text/plain": [
       "Downloading (…)solve/main/vocab.txt:   0%|          | 0.00/213k [00:00<?, ?B/s]"
      ],
      "application/vnd.jupyter.widget-view+json": {
       "version_major": 2,
       "version_minor": 0,
       "model_id": "972b475980ad41198d599c4fafe94305"
      }
     },
     "metadata": {}
    },
    {
     "output_type": "display_data",
     "data": {
      "text/plain": [
       "Downloading (…)okenizer_config.json:   0%|          | 0.00/29.0 [00:00<?, ?B/s]"
      ],
      "application/vnd.jupyter.widget-view+json": {
       "version_major": 2,
       "version_minor": 0,
       "model_id": "2d7fcf84414040adb3d8a61806ed26d7"
      }
     },
     "metadata": {}
    },
    {
     "output_type": "display_data",
     "data": {
      "text/plain": [
       "Downloading (…)lve/main/config.json:   0%|          | 0.00/570 [00:00<?, ?B/s]"
      ],
      "application/vnd.jupyter.widget-view+json": {
       "version_major": 2,
       "version_minor": 0,
       "model_id": "60fbd6d3fe5e40a8a839adbaa8b3d431"
      }
     },
     "metadata": {}
    }
   ]
  },
  {
   "cell_type": "code",
   "source": [
    "X_input_ids = np.zeros((len(df_top10), 256))\n",
    "X_attn_masks = np.zeros((len(df_top10), 256))"
   ],
   "metadata": {
    "id": "uRszjpa13NNS"
   },
   "execution_count": null,
   "outputs": []
  },
  {
   "cell_type": "code",
   "source": [
    "X_input_ids.shape"
   ],
   "metadata": {
    "colab": {
     "base_uri": "https://localhost:8080/"
    },
    "id": "hev0HEZ-3SK-",
    "outputId": "d74f134d-9745-453f-80ce-cb9df04b7b96"
   },
   "execution_count": null,
   "outputs": [
    {
     "output_type": "execute_result",
     "data": {
      "text/plain": [
       "(25779, 256)"
      ]
     },
     "metadata": {},
     "execution_count": 24
    }
   ]
  },
  {
   "cell_type": "code",
   "source": [
    "def generate_training_data(df, ids, masks, tokenizer):\n",
    "    for i, text in tqdm(enumerate(df['text'])):\n",
    "        tokenized_text = tokenizer.encode_plus(\n",
    "            text,\n",
    "            max_length=256, \n",
    "            truncation=True, \n",
    "            padding='max_length', \n",
    "            add_special_tokens=True,\n",
    "            return_tensors='tf'\n",
    "        )\n",
    "        ids[i, :] = tokenized_text.input_ids\n",
    "        masks[i, :] = tokenized_text.attention_mask\n",
    "    return ids, masks"
   ],
   "metadata": {
    "id": "-3_ObSCn3Pvb"
   },
   "execution_count": null,
   "outputs": []
  },
  {
   "cell_type": "code",
   "source": [
    "from tqdm.auto import tqdm\n",
    "X_input_ids, X_attn_masks = generate_training_data(df_top10, X_input_ids, X_attn_masks, tokenizer)"
   ],
   "metadata": {
    "colab": {
     "base_uri": "https://localhost:8080/",
     "height": 49,
     "referenced_widgets": [
      "fb73246fd9e84001a07481f7aab8eedc",
      "b9c73e546fa24de4baa3dfdd192ae190",
      "baaab8d868e7429f9d0452147221cbf5",
      "50d940d90703449090d8a426d34c7778",
      "a0e9bcae6bf042a98ae1600b59176224",
      "2bd036b82cca4fe1a314ca7b859f6bac",
      "94ec3964258249d3a80819dae11cdd88",
      "f0bf1473fe7b41aaa586068db0e68085",
      "298d639f685b4a4eb1f40e72bcf5b0fb",
      "5e04743aefe74270958b098348515fe9",
      "c3df6ba39758488eb23f0b075447dea7"
     ]
    },
    "id": "xTMIBBXh3Tuo",
    "outputId": "1d25c298-a706-44db-e0f5-e116e997a1b7"
   },
   "execution_count": null,
   "outputs": [
    {
     "output_type": "display_data",
     "data": {
      "text/plain": [
       "0it [00:00, ?it/s]"
      ],
      "application/vnd.jupyter.widget-view+json": {
       "version_major": 2,
       "version_minor": 0,
       "model_id": "fb73246fd9e84001a07481f7aab8eedc"
      }
     },
     "metadata": {}
    }
   ]
  },
  {
   "cell_type": "markdown",
   "source": [
    "##### 3.4.1.3. **Step 3:** One-hot encode the `tags`"
   ],
   "metadata": {
    "id": "FgPnhGC430HI"
   }
  },
  {
   "cell_type": "markdown",
   "source": [
    "Create a binary matrix representation of the labels using one hot encoding"
   ],
   "metadata": {
    "id": "e4DT0cvtwpvR"
   }
  },
  {
   "cell_type": "code",
   "source": [
    "labels = np.zeros((len(df_top10),10))\n",
    "labels.shape"
   ],
   "metadata": {
    "colab": {
     "base_uri": "https://localhost:8080/"
    },
    "id": "apmEpvOs3VmA",
    "outputId": "356830d4-0ed0-491b-bd2d-d6b53b39dbc3"
   },
   "execution_count": null,
   "outputs": [
    {
     "output_type": "execute_result",
     "data": {
      "text/plain": [
       "(25779, 10)"
      ]
     },
     "metadata": {},
     "execution_count": 28
    }
   ]
  },
  {
   "cell_type": "code",
   "source": [
    "labels[np.arange(len(df_top10)), df_top10['numeric_tag'].values] = 1 # one-hot encoded target tensor"
   ],
   "metadata": {
    "id": "fhKchOMA3XBS"
   },
   "execution_count": null,
   "outputs": []
  },
  {
   "cell_type": "code",
   "source": [
    "labels"
   ],
   "metadata": {
    "colab": {
     "base_uri": "https://localhost:8080/"
    },
    "id": "XsWFQtjH3dmw",
    "outputId": "61015073-d9ab-4251-dada-a2b0f90b1636"
   },
   "execution_count": null,
   "outputs": [
    {
     "output_type": "execute_result",
     "data": {
      "text/plain": [
       "array([[1., 0., 0., ..., 0., 0., 0.],\n",
       "       [0., 1., 0., ..., 0., 0., 0.],\n",
       "       [0., 0., 1., ..., 0., 0., 0.],\n",
       "       ...,\n",
       "       [1., 0., 0., ..., 0., 0., 0.],\n",
       "       [0., 0., 0., ..., 1., 0., 0.],\n",
       "       [0., 0., 0., ..., 1., 0., 0.]])"
      ]
     },
     "metadata": {},
     "execution_count": 30
    }
   ]
  },
  {
   "cell_type": "code",
   "source": [
    "import tensorflow as tf\n",
    "# creating a data pipeline using tensorflow dataset utility, creates batches of data for easy loading...\n",
    "dataset = tf.data.Dataset.from_tensor_slices((X_input_ids, X_attn_masks, labels))\n",
    "dataset.take(1) # one sample data"
   ],
   "metadata": {
    "colab": {
     "base_uri": "https://localhost:8080/"
    },
    "id": "cHz6m_ln3eUE",
    "outputId": "76a7e91e-75ef-4481-f9a0-eafc789059fe"
   },
   "execution_count": null,
   "outputs": [
    {
     "output_type": "execute_result",
     "data": {
      "text/plain": [
       "<_TakeDataset element_spec=(TensorSpec(shape=(256,), dtype=tf.float64, name=None), TensorSpec(shape=(256,), dtype=tf.float64, name=None), TensorSpec(shape=(10,), dtype=tf.float64, name=None))>"
      ]
     },
     "metadata": {},
     "execution_count": 31
    }
   ]
  },
  {
   "cell_type": "code",
   "source": [
    "def SentimentDatasetMapFunction(input_ids, attn_masks, labels):\n",
    "    return {\n",
    "        'input_ids': input_ids,\n",
    "        'attention_mask': attn_masks\n",
    "    }, labels"
   ],
   "metadata": {
    "id": "oU2MgQv_3eWp"
   },
   "execution_count": null,
   "outputs": []
  },
  {
   "cell_type": "markdown",
   "source": [
    "#### 3.4.2. Split data into training/validation"
   ],
   "metadata": {
    "id": "FPvsC-F24LJy"
   }
  },
  {
   "cell_type": "code",
   "source": [
    "dataset = dataset.map(SentimentDatasetMapFunction) # converting to required format for tensorflow dataset "
   ],
   "metadata": {
    "id": "gfWJI85G3kAI"
   },
   "execution_count": null,
   "outputs": []
  },
  {
   "cell_type": "code",
   "source": [
    "dataset.take(1)"
   ],
   "metadata": {
    "colab": {
     "base_uri": "https://localhost:8080/"
    },
    "id": "jO3cHe733mNy",
    "outputId": "90d57fdb-45f8-41c7-fd25-980518f86860"
   },
   "execution_count": null,
   "outputs": [
    {
     "output_type": "execute_result",
     "data": {
      "text/plain": [
       "<_TakeDataset element_spec=({'input_ids': TensorSpec(shape=(256,), dtype=tf.float64, name=None), 'attention_mask': TensorSpec(shape=(256,), dtype=tf.float64, name=None)}, TensorSpec(shape=(10,), dtype=tf.float64, name=None))>"
      ]
     },
     "metadata": {},
     "execution_count": 34
    }
   ]
  },
  {
   "cell_type": "code",
   "source": [
    "dataset = dataset.shuffle(25779).batch(16, drop_remainder=True) # batch size, drop any left out tensor"
   ],
   "metadata": {
    "id": "zvQBdb4F3nrB"
   },
   "execution_count": null,
   "outputs": []
  },
  {
   "cell_type": "code",
   "source": [
    "p = 0.8\n",
    "train_size = int((len(df_top10)//16)*p) # for each 16 batch of data we will have len(df)//16 samples, take 80% of that for train."
   ],
   "metadata": {
    "id": "2MIr9Jb93omY"
   },
   "execution_count": null,
   "outputs": []
  },
  {
   "cell_type": "code",
   "source": [
    "train_dataset = dataset.take(train_size)\n",
    "val_dataset = dataset.skip(train_size)"
   ],
   "metadata": {
    "id": "kQhbXXBS3qj6"
   },
   "execution_count": null,
   "outputs": []
  },
  {
   "cell_type": "markdown",
   "source": [
    "#### 3.4.3. Model Training\n",
    "\n",
    "Here's a brief overview of the model:\n",
    "\n",
    "- `Input layers:` input_ids and attention_mask are the input layers that receive tokenized text and attention masks, respectively, with a sequence length of 256.\n",
    "BERT layer: The bert layer uses the TFBertMainLayer, which is a pre-trained BERT model. It takes input_ids and attention_mask as inputs and outputs a tuple containing pooled output and hidden states.\n",
    "- `Intermediate layer:` A dense (fully connected) layer with 512 units, which takes the pooled output from the BERT layer as input. It serves as an intermediate layer for further processing and feature extraction.\n",
    "- `Output layer:` A dense layer with 10 units, which corresponds to the number of output classes. It takes the output from the intermediate layer and produces the final classification scores."
   ],
   "metadata": {
    "id": "nyZ6UwRA4GFS"
   }
  },
  {
   "cell_type": "code",
   "source": [
    "from transformers import TFBertModel\n",
    "model = TFBertModel.from_pretrained('bert-base-cased') # bert base model with pretrained weights"
   ],
   "metadata": {
    "colab": {
     "base_uri": "https://localhost:8080/",
     "height": 158,
     "referenced_widgets": [
      "536a5e685018455184a925352e35e742",
      "90709ce4ece442069c2783848876fcad",
      "6b9015c804ba4601b6d225e8f0a55feb",
      "c5889081c8244fcab8ead82c8995bf4c",
      "99c4ff4a76db4c0f99a4256ebda0ce43",
      "c43760dc2f8547e399cad4f460eba5f2",
      "43870e15f0ab4454b01fc2a1f4850fd2",
      "d6bc44c000944e908f1eb91fce0782cf",
      "ecf0d0dd377348fb95c2ba6162b2c788",
      "c53bc216ecf0413c8c666f15c2a14922",
      "c8dc933364d343d68c3252a73394deaf"
     ]
    },
    "id": "UQrHn28Q4FKa",
    "outputId": "613a6217-dcac-445f-bbde-8d770923690f"
   },
   "execution_count": null,
   "outputs": [
    {
     "output_type": "display_data",
     "data": {
      "text/plain": [
       "Downloading tf_model.h5:   0%|          | 0.00/527M [00:00<?, ?B/s]"
      ],
      "application/vnd.jupyter.widget-view+json": {
       "version_major": 2,
       "version_minor": 0,
       "model_id": "536a5e685018455184a925352e35e742"
      }
     },
     "metadata": {}
    },
    {
     "output_type": "stream",
     "name": "stderr",
     "text": [
      "Some layers from the model checkpoint at bert-base-cased were not used when initializing TFBertModel: ['nsp___cls', 'mlm___cls']\n",
      "- This IS expected if you are initializing TFBertModel from the checkpoint of a model trained on another task or with another architecture (e.g. initializing a BertForSequenceClassification model from a BertForPreTraining model).\n",
      "- This IS NOT expected if you are initializing TFBertModel from the checkpoint of a model that you expect to be exactly identical (initializing a BertForSequenceClassification model from a BertForSequenceClassification model).\n",
      "All the layers of TFBertModel were initialized from the model checkpoint at bert-base-cased.\n",
      "If your task is similar to the task the model of the checkpoint was trained on, you can already use TFBertModel for predictions without further training.\n"
     ]
    }
   ]
  },
  {
   "cell_type": "code",
   "source": [
    "# defining 2 input layers for input_ids and attn_masks\n",
    "input_ids = tf.keras.layers.Input(shape=(256,), name='input_ids', dtype='int32')\n",
    "attn_masks = tf.keras.layers.Input(shape=(256,), name='attention_mask', dtype='int32')\n",
    "\n",
    "bert_embds = model.bert(input_ids, attention_mask=attn_masks)[1] # 0 -> activation layer (3D), 1 -> pooled output layer (2D)\n",
    "intermediate_layer = tf.keras.layers.Dense(512, activation='relu', name='intermediate_layer')(bert_embds)\n",
    "output_layer = tf.keras.layers.Dense(10, activation='softmax', name='output_layer')(intermediate_layer) # softmax -> calcs probs of classes\n",
    "\n",
    "sentiment_model = tf.keras.Model(inputs=[input_ids, attn_masks], outputs=output_layer)\n",
    "sentiment_model.summary()"
   ],
   "metadata": {
    "colab": {
     "base_uri": "https://localhost:8080/"
    },
    "id": "Iox776B_3qmg",
    "outputId": "391e07fb-23e0-4c4f-c5df-2a06d8d114f0"
   },
   "execution_count": null,
   "outputs": [
    {
     "output_type": "stream",
     "name": "stdout",
     "text": [
      "Model: \"model\"\n",
      "__________________________________________________________________________________________________\n",
      " Layer (type)                   Output Shape         Param #     Connected to                     \n",
      "==================================================================================================\n",
      " input_ids (InputLayer)         [(None, 256)]        0           []                               \n",
      "                                                                                                  \n",
      " attention_mask (InputLayer)    [(None, 256)]        0           []                               \n",
      "                                                                                                  \n",
      " bert (TFBertMainLayer)         TFBaseModelOutputWi  108310272   ['input_ids[0][0]',              \n",
      "                                thPoolingAndCrossAt               'attention_mask[0][0]']         \n",
      "                                tentions(last_hidde                                               \n",
      "                                n_state=(None, 256,                                               \n",
      "                                 768),                                                            \n",
      "                                 pooler_output=(Non                                               \n",
      "                                e, 768),                                                          \n",
      "                                 past_key_values=No                                               \n",
      "                                ne, hidden_states=N                                               \n",
      "                                one, attentions=Non                                               \n",
      "                                e, cross_attentions                                               \n",
      "                                =None)                                                            \n",
      "                                                                                                  \n",
      " intermediate_layer (Dense)     (None, 512)          393728      ['bert[0][1]']                   \n",
      "                                                                                                  \n",
      " output_layer (Dense)           (None, 10)           5130        ['intermediate_layer[0][0]']     \n",
      "                                                                                                  \n",
      "==================================================================================================\n",
      "Total params: 108,709,130\n",
      "Trainable params: 108,709,130\n",
      "Non-trainable params: 0\n",
      "__________________________________________________________________________________________________\n"
     ]
    }
   ]
  },
  {
   "cell_type": "code",
   "source": [
    "optim = tf.keras.optimizers.legacy.Adam(learning_rate=1e-5, decay=1e-6)\n",
    "loss_func = tf.keras.losses.CategoricalCrossentropy()\n",
    "acc = tf.keras.metrics.CategoricalAccuracy('accuracy')"
   ],
   "metadata": {
    "id": "_q0UWnPL3qok"
   },
   "execution_count": null,
   "outputs": []
  },
  {
   "cell_type": "code",
   "source": [
    "sentiment_model.compile(optimizer=optim, loss=loss_func, metrics=[acc])"
   ],
   "metadata": {
    "id": "xJaRcYMq4ceG"
   },
   "execution_count": null,
   "outputs": []
  },
  {
   "cell_type": "code",
   "source": [
    "hist = sentiment_model.fit(\n",
    "    train_dataset,\n",
    "    validation_data=val_dataset,\n",
    "    epochs=10\n",
    ")"
   ],
   "metadata": {
    "colab": {
     "base_uri": "https://localhost:8080/"
    },
    "id": "1wmmycTk4crn",
    "outputId": "81905ce8-e76e-4520-ed2c-be6f42824965"
   },
   "execution_count": null,
   "outputs": [
    {
     "output_type": "stream",
     "name": "stdout",
     "text": [
      "Epoch 1/10\n",
      "1288/1288 [==============================] - 140s 100ms/step - loss: 1.1286 - accuracy: 0.6228 - val_loss: 0.5061 - val_accuracy: 0.8257\n",
      "Epoch 2/10\n",
      "1288/1288 [==============================] - 126s 98ms/step - loss: 0.4906 - accuracy: 0.8307 - val_loss: 0.3756 - val_accuracy: 0.8611\n",
      "Epoch 3/10\n",
      "1288/1288 [==============================] - 127s 98ms/step - loss: 0.3758 - accuracy: 0.8617 - val_loss: 0.2528 - val_accuracy: 0.9036\n",
      "Epoch 4/10\n",
      "1288/1288 [==============================] - 127s 98ms/step - loss: 0.3098 - accuracy: 0.8843 - val_loss: 0.2184 - val_accuracy: 0.9133\n",
      "Epoch 5/10\n",
      "1288/1288 [==============================] - 126s 98ms/step - loss: 0.2521 - accuracy: 0.9026 - val_loss: 0.1750 - val_accuracy: 0.9325\n",
      "Epoch 6/10\n",
      "1288/1288 [==============================] - 126s 98ms/step - loss: 0.2128 - accuracy: 0.9144 - val_loss: 0.1399 - val_accuracy: 0.9423\n",
      "Epoch 7/10\n",
      "1288/1288 [==============================] - 126s 98ms/step - loss: 0.1845 - accuracy: 0.9262 - val_loss: 0.1173 - val_accuracy: 0.9565\n",
      "Epoch 8/10\n",
      "1288/1288 [==============================] - 126s 98ms/step - loss: 0.1488 - accuracy: 0.9400 - val_loss: 0.0959 - val_accuracy: 0.9644\n",
      "Epoch 9/10\n",
      "1288/1288 [==============================] - 126s 98ms/step - loss: 0.1314 - accuracy: 0.9469 - val_loss: 0.0649 - val_accuracy: 0.9758\n",
      "Epoch 10/10\n",
      "1288/1288 [==============================] - 127s 98ms/step - loss: 0.1051 - accuracy: 0.9572 - val_loss: 0.0559 - val_accuracy: 0.9855\n"
     ]
    }
   ]
  },
  {
   "cell_type": "code",
   "source": [
    "import matplotlib.pyplot as plt\n",
    "\n",
    "# Extract the training and validation accuracy and loss from the history object\n",
    "train_acc = hist.history['accuracy']\n",
    "val_acc = hist.history['val_accuracy']\n",
    "train_loss = hist.history['loss']\n",
    "val_loss = hist.history['val_loss']\n",
    "\n",
    "# Define the number of epochs\n",
    "epochs = range(1, len(train_acc) + 1)\n",
    "\n",
    "# Plot the training and validation accuracy\n",
    "plt.figure(figsize=(12, 6))\n",
    "plt.subplot(1, 2, 1)\n",
    "plt.plot(epochs, train_acc, 'bo', label='Training accuracy')\n",
    "plt.plot(epochs, val_acc, 'b', label='Validation accuracy')\n",
    "plt.title('Training and validation accuracy')\n",
    "plt.xlabel('Epochs')\n",
    "plt.ylabel('Accuracy')\n",
    "plt.legend()\n",
    "\n",
    "# Plot the training and validation loss\n",
    "plt.subplot(1, 2, 2)\n",
    "plt.plot(epochs, train_loss, 'bo', label='Training loss')\n",
    "plt.plot(epochs, val_loss, 'b', label='Validation loss')\n",
    "plt.title('Training and validation loss')\n",
    "plt.xlabel('Epochs')\n",
    "plt.ylabel('Loss')\n",
    "plt.legend()\n",
    "\n",
    "# Display the plots\n",
    "plt.show()\n"
   ],
   "metadata": {
    "colab": {
     "base_uri": "https://localhost:8080/",
     "height": 564
    },
    "id": "LL6NiKrc4rwJ",
    "outputId": "0a09cae9-2f76-4e15-ca03-08049028b5a3"
   },
   "execution_count": null,
   "outputs": [
    {
     "output_type": "display_data",
     "data": {
      "text/plain": [
       "<Figure size 1200x600 with 2 Axes>"
      ],
      "image/png": "[encoded data removed]"
     },
     "metadata": {}
    }
   ]
  },
  {
   "cell_type": "code",
   "source": [
    "sentiment_model.save('sentiment_model')"
   ],
   "metadata": {
    "id": "pDr5yNqi4tzM"
   },
   "execution_count": null,
   "outputs": []
  },
  {
   "cell_type": "markdown",
   "source": [
    "In the later section (4.2), we will take a look at how BERT performs on additional unseen data (examples of stackoverflow questions) "
   ],
   "metadata": {
    "id": "XE18QW7f5FTE"
   }
  },
  {
   "cell_type": "markdown",
   "source": [
    "## 4. Conclusions"
   ],
   "metadata": {
    "id": "DIwoAIhYh1jx"
   }
  },
  {
   "cell_type": "markdown",
   "source": [
    "### 4.1. Best Model\n",
    "\n",
    "The BERT-based model outperforms all other models in this notebook with a more limited amount of data.  This is a testament to pretrained models' ability to enhance projects where limited data sets are available for training.  With a validation categorical accuracy of `0.9855`, we prefer to use BERT for our sentiment classification task.  \n",
    "\n",
    "This of course comes with the additional requirement for advanced computational resources.  In order to run BERT effectively, even on a limited vocabulary, we had to purchase access to Premium GPUs on Colab.  Without these higher memory GPUs, training the BERT-based model would have taken over two hours.  All in all, we spent $60 for access to GPUs, which was well worth the time saved, but this would be a major consideration for a business choosing to use a BERT-based model to make predictions for a chatbot.  The return on investment from implementing this model would likely inform a company's decision."
   ],
   "metadata": {
    "id": "S5OZVR6ojyr7"
   }
  },
  {
   "cell_type": "markdown",
   "source": [
    "### 4.2. BERT Prediction on Unseen Data\n",
    "Let's examine how `BERT` performs on unseen data by testing its predictions on three example questions from Stack Overflow. These questions are tagged with `JavaScript`, `Python`, and `PHP`. Given that BERT achieved 99% accuracy on our validation data, we anticipate that it will accurately classify these new questions."
   ],
   "metadata": {
    "id": "ibNcA2HAj-jI"
   }
  },
  {
   "cell_type": "code",
   "source": [
    "sentiment_model = tf.keras.models.load_model('sentiment_model')\n",
    "\n",
    "tokenizer = BertTokenizer.from_pretrained('bert-base-cased')\n",
    "\n",
    "def prepare_data(input_text, tokenizer):\n",
    "    token = tokenizer.encode_plus(\n",
    "        input_text,\n",
    "        max_length=256, \n",
    "        truncation=True, \n",
    "        padding='max_length', \n",
    "        add_special_tokens=True,\n",
    "        return_tensors='tf'\n",
    "    )\n",
    "    return {\n",
    "        'input_ids': tf.cast(token.input_ids, tf.float64),\n",
    "        'attention_mask': tf.cast(token.attention_mask, tf.float64)\n",
    "    }\n",
    "\n",
    "def make_prediction(model, processed_data, classes=['Python', 'javascript', 'c++', 'php', 'android','r','c#','java','flutter','reactjs']):\n",
    "    probs = model.predict(processed_data)[0]\n",
    "    return classes[np.argmax(probs)]"
   ],
   "metadata": {
    "id": "Wx1awc4U5jAp"
   },
   "execution_count": null,
   "outputs": []
  },
  {
   "cell_type": "markdown",
   "source": [
    "#### 4.2.1 Example 1: [Javascript tag example](https://stackoverflow.com/questions/76150062/overriding-javascript-iframe-styling-with-css/)\n",
    "\n",
    "The user is developing a Wordpress website and has embedded a Square booking flow using a script tag. They want to change the default blue color of the booking flow elements to a red color that matches the client's branding. Although they can change the color using the browser's inspect element feature, applying the same CSS selectors in their own stylesheet doesn't work. They're looking for a way to override the styling of the script/iframe with their own CSS and need guidance on how to do it."
   ],
   "metadata": {
    "id": "CT4pq05S5yL6"
   }
  },
  {
   "cell_type": "code",
   "source": [
    "input_text = input('Enter coding question here: ')\n",
    "processed_data = prepare_data(input_text, tokenizer)\n",
    "result = make_prediction(sentiment_model, processed_data=processed_data)\n",
    "print(f\"Predicted Sentiment: {result}\")"
   ],
   "metadata": {
    "colab": {
     "base_uri": "https://localhost:8080/"
    },
    "id": "6i3nQ3nZ5lNx",
    "outputId": "425c8973-e9b8-456c-b401-169cc0a6a71b"
   },
   "execution_count": null,
   "outputs": [
    {
     "output_type": "stream",
     "name": "stdout",
     "text": [
      "Enter coding question here: Overriding Javascript/iFrame styling with CSS. I am developing a Wordpress website for a client who uses Square booking for their business. Square allows users to embed the booking flow onto their own websites, which is what I am doing. It gave me a script tag to use and I have implemented it onto the website. The issue, however, is that the styling of the booking flow uses a blue color while I am trying to change the blue elements to the red color that this business uses. I have been able to change the blue to red using inspect element, however when I then use those CSS selectors that worked in the inspect element on my own stylesheet is does not reflect any change. I think what I am looking to do, if I'm not mistaken, is to override the styling of the script/iframe with my own CSS. Is this possible? And if so, how would I go about it?  For reference, the website I am building, and the particular page that has the embedded script is staged here: https://pghtattooremoval.cognicmedia.com/booking  I have tried what I had mentioned above with inspect element and was expecting that those CSS selectors would reflect permanent change in the styling of the booking flow.\n",
      "1/1 [==============================] - 3s 3s/step\n",
      "Predicted Sentiment: javascript\n"
     ]
    }
   ]
  },
  {
   "cell_type": "markdown",
   "source": [
    "#### 4.2.2 Example 2: [Python tag example](https://stackoverflow.com/questions/76149904/i-cant-install-any-package-using-pip-or-pipenv/)\n",
    "\n",
    "The user is unable to install packages like Flask, psycopg2, and Flask-SQLAlchemy using pip or pipenv due to an OSError with a Permission Denied error message in Python."
   ],
   "metadata": {
    "id": "61-niNue50ml"
   }
  },
  {
   "cell_type": "code",
   "source": [
    "input_text = input('Enter coding question here: ')\n",
    "processed_data = prepare_data(input_text, tokenizer)\n",
    "result = make_prediction(sentiment_model, processed_data=processed_data)\n",
    "print(f\"Predicted Sentiment: {result}\")"
   ],
   "metadata": {
    "colab": {
     "base_uri": "https://localhost:8080/"
    },
    "id": "0fzGB6HI52oR",
    "outputId": "a7116097-bd93-4cee-cee0-5e66b31017a6"
   },
   "execution_count": null,
   "outputs": [
    {
     "output_type": "stream",
     "name": "stdout",
     "text": [
      "Enter coding question here: I can't install any package using pip or pipenv. I want to install many packages for my project like flask or psycopg2 or flask-sqlachermy but i can't. When i use the pip i receive this error message:  **ERROR: Could not install packages due to an OSError: [Errno 13] Permission denied: 'C:\\\\Users\\\\ASUS\\\\AppData\\\\Local\\\\Programs\\\\Python\\\\Python310\\\\Lib\\\\site-packages\\\\markupsafe\\\\_speedups.c' Consider using the `--user` option or check the permissions.** When i use the pipenv i receive this error message: **[36mERROR: Could not install packages due to an OSError: [Errno 13] Permission denied: 'C:\\\\Users\\\\ASUS\\\\.virtualenvs\\\\ASUS-mVsQ382S\\\\Lib\\\\site-packages\\\\markupsafe\\\\_speedups.c' Check the permissions.** [enter image description here](https://i.stack.imgur.com/lc1NB.png)  I tried to install again the markupsafe package because i thint that it is the source of the problem but it's not working\n",
      "1/1 [==============================] - 0s 62ms/step\n",
      "Predicted Sentiment: Python\n"
     ]
    }
   ]
  },
  {
   "cell_type": "markdown",
   "source": [
    "#### 4.2.3 Example 3: [PHP tag example](https://stackoverflow.com/questions/60174/how-can-i-prevent-sql-injection-in-php) \n",
    "\n",
    "The user is asking for methods to prevent SQL injection in PHP. They provide an example where user input is directly inserted into an SQL query without modification, making the application vulnerable to SQL injection. They are seeking solutions to avoid this security issue."
   ],
   "metadata": {
    "id": "yT3zEwVz54nd"
   }
  },
  {
   "cell_type": "code",
   "source": [
    "input_text = input('Enter coding question here: ')\n",
    "processed_data = prepare_data(input_text, tokenizer)\n",
    "result = make_prediction(sentiment_model, processed_data=processed_data)\n",
    "print(f\"Predicted Sentiment: {result}\")"
   ],
   "metadata": {
    "colab": {
     "base_uri": "https://localhost:8080/"
    },
    "id": "tLk_eTh059BG",
    "outputId": "2e4a957b-4130-49ef-cd8e-8bf81f7e9ca3"
   },
   "execution_count": null,
   "outputs": [
    {
     "output_type": "stream",
     "name": "stdout",
     "text": [
      "Enter coding question here: How can I prevent SQL injection in PHP? If user input is inserted without modification into an SQL query, then the application becomes vulnerable to SQL injection, like in the following example:  $unsafe_variable = $_POST['user_input'];   mysql_query(\"INSERT INTO `table` (`column`) VALUES ('$unsafe_variable')\"); That's because the user can input something like value'); DROP TABLE table;--, and the query becomes:  INSERT INTO `table` (`column`) VALUES('value'); DROP TABLE table;--') What can be done to prevent this from happening?\n",
      "1/1 [==============================] - 0s 57ms/step\n",
      "Predicted Sentiment: php\n"
     ]
    }
   ]
  },
  {
   "cell_type": "markdown",
   "source": [
    "As is evident, BERT was able to correctly classify all three questions."
   ],
   "metadata": {
    "id": "l4AFia-HJ-0t"
   }
  },
  {
   "cell_type": "markdown",
   "source": [
    "### 4.3. Challenges and Future Scope\n",
    "\n",
    "#### 4.3.1. Use Pre-Trained Transformers When Feasible\n",
    "The use of BERT in our prediction problem, while initially challenging, proved to yield our most accurate model.  This is because pre-trained transformers already have learned weights associated with large vocabularies, so one needs only to attach a classifier to generate a model.  Originally, we thought the somewhat specialized vocabulary of Stack Overflow posts would prevent BERT from being a useful solution; however the opposite proved to be true.  While there are certainly occasions where implementing a pre-trained transformer is either unfeasible, or would be a matter of overkill, they generally offer high accuracy where a large training dataset is not available.\n",
    "\n",
    "#### 4.3.2. Garbage In, Garbage Out\n",
    "This is a topic discussed in the second edition of Chollet's _Deep Learning with Python_, and it is one that begs reiterating (2021).  For each of the models we attempted, the most crucial step to improve performance was the tailoring of the data before entering a model.  For example, our removal of stop words from spaCy's English language model improved an initial feed-forward network more than numerous configurations layers.  Taking the time to clean and shape input data into the correct tensor format will pay dividends in model performance.\n",
    "\n",
    "#### 4.3.3. Feature Selection\n",
    "With more time, another avenue to explore with this project is the additional features in our original dataset that we did not explore.  Since we only used the text and tags from each Stack Overflow post, we lost potential value from the other features like `view_count`, `answer_count`, and information about date and time.  One or more of these additional features may have proven valuable in predicting a post's intention.\n",
    "\n",
    "#### 4.3.4. Predicting Top N Labels\n",
    "Finally, another direction we could have taken this project is predicting multiple labels, or intentions, of each post.  Due to the amount of time and resources we had available, picking the top label was most feasible, but this project could be adapted to predict any number of associated labels with varying degrees of accuracy.\n",
    "\n",
    "#### 4.3.5. Closing Thoughts\n",
    "While not all-encompassing, this project afforded us the opportunity to test various lessons learned in the course and in _Deep Learning with Python_ through the context of our own problem set (2021).  The project allowed us to review concepts from early in the semester, and apply new, more challenging methods than what we saw in class.  It was time well-spent toward our future careers, and it demonstrates a higher level of knowledge than we had achieved at the beginning of the course. To sum it up, this project has not only deepened our understanding of neural networks and intent detection but also paved the way for further developing a chatbot. By utilizing a novel dataset and focusing on the chatbot context, we created a solid foundation for ongoing exploration in the realm of deep learning and artificial intelligence."
   ],
   "metadata": {
    "id": "K1KzaKnMj4Pg"
   }
  },
  {
   "cell_type": "markdown",
   "source": [
    "## 5. References"
   ],
   "metadata": {
    "id": "EEdh5NZyl4gd"
   }
  },
  {
   "cell_type": "markdown",
   "source": [
    "> 1. Google Cloud (2023). Stack Overflow - Stack Exchange. _Google Cloud Marketplace_. https://console.cloud.google.com/marketplace/product/stack-exchange/stack-overflow/\n",
    "\n",
    "> 2. Chollet, Francois (2021). Deep Learning with Python (Second Edition). _Manning Publications Co._\n",
    "\n",
    "> 3. Huber, Johann (2020, Nov 6). Batch normalization in 3 levels of understanding. _Medium_. https://towardsdatascience.com/batch-normalization-in-3-levels-of-understanding-14c2da90a338#d000"
   ],
   "metadata": {
    "id": "UaQ9kAgkl7P0"
   }
  }
 ]
}
